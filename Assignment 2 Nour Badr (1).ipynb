{
 "cells":[
  {
   "cell_type":"markdown",
   "source":[
    "ID= 900212713"
   ],
   "attachments":{
    
   },
   "metadata":{
    "datalore":{
     "type":"MD",
     "hide_input_from_viewers":false,
     "hide_output_from_viewers":false
    }
   }
  },
  {
   "cell_type":"markdown",
   "source":[
    "This assignment consists of 2 parts which analyse two different datasets. Part 1 analyses the confidence intervals of the results of different football matches. Part 2 analyzes the number of Covid-19 cases, deaths, and income level in different countries."
   ],
   "attachments":{
    
   },
   "metadata":{
    "datalore":{
     "type":"MD",
     "hide_input_from_viewers":false,
     "hide_output_from_viewers":false
    }
   }
  },
  {
   "cell_type":"markdown",
   "source":[
    "# Part 1: Football Matches"
   ],
   "attachments":{
    
   },
   "metadata":{
    "datalore":{
     "type":"MD",
     "hide_input_from_viewers":false,
     "hide_output_from_viewers":false
    }
   }
  },
  {
   "cell_type":"markdown",
   "source":[
    "## Abstract\n",
    "\n",
    "In this part, the dataset \"results.csv\" is used. The data shows the results of different matches between the men's national teams, starting from the year 1872 till 2019. The data consists of 43,170 match results. This big number of matches helps in reaching valid statistical conclusions about the results of different countries.\n",
    "\n",
    "First, the confidence intervals of winning, losing, draw will be analysed when teams are playing in their home country. Also, 5 different Arab (Egypt, Saudi Arabia, Kuwait, Tunisia, and Morocco) countries' confidence intervals of winning in their home countries will be analyzed and compared. \n",
    "\n",
    "It was concluded (using the confidence intervals) that when playing in the home country, the team had the highest probability of winning, then losing, then draw. Also, out of the 5 countries mentioned above, Egypt was the one with the highest confidence interval of winning.\n"
   ],
   "attachments":{
    
   },
   "metadata":{
    "datalore":{
     "type":"MD",
     "hide_input_from_viewers":false,
     "hide_output_from_viewers":false
    }
   }
  },
  {
   "cell_type":"markdown",
   "source":[
    "## General interpretation of home\/away matches"
   ],
   "attachments":{
    
   },
   "metadata":{
    "datalore":{
     "type":"MD",
     "hide_input_from_viewers":false,
     "hide_output_from_viewers":false
    }
   }
  },
  {
   "cell_type":"code",
   "source":[
    "import pandas as pd"
   ],
   "execution_count":88,
   "outputs":[
    
   ],
   "metadata":{
    "datalore":{
     "type":"CODE",
     "hide_input_from_viewers":false,
     "hide_output_from_viewers":false
    }
   }
  },
  {
   "cell_type":"code",
   "source":[
    "df= pd.read_csv('results.csv')\n",
    "df"
   ],
   "execution_count":89,
   "outputs":[
    {
     "data":{
      "text\/html":[
       "<div>\n",
       "<style scoped>\n",
       "    .dataframe tbody tr th:only-of-type {\n",
       "        vertical-align: middle;\n",
       "    }\n",
       "\n",
       "    .dataframe tbody tr th {\n",
       "        vertical-align: top;\n",
       "    }\n",
       "\n",
       "    .dataframe thead th {\n",
       "        text-align: right;\n",
       "    }\n",
       "<\/style>\n",
       "<table border=\"1\" class=\"dataframe\">\n",
       "  <thead>\n",
       "    <tr style=\"text-align: right;\">\n",
       "      <th><\/th>\n",
       "      <th>date<\/th>\n",
       "      <th>home_team<\/th>\n",
       "      <th>away_team<\/th>\n",
       "      <th>home_score<\/th>\n",
       "      <th>away_score<\/th>\n",
       "      <th>tournament<\/th>\n",
       "      <th>city<\/th>\n",
       "      <th>country<\/th>\n",
       "      <th>neutral<\/th>\n",
       "    <\/tr>\n",
       "  <\/thead>\n",
       "  <tbody>\n",
       "    <tr>\n",
       "      <th>0<\/th>\n",
       "      <td>1872-11-30<\/td>\n",
       "      <td>Scotland<\/td>\n",
       "      <td>England<\/td>\n",
       "      <td>0<\/td>\n",
       "      <td>0<\/td>\n",
       "      <td>Friendly<\/td>\n",
       "      <td>Glasgow<\/td>\n",
       "      <td>Scotland<\/td>\n",
       "      <td>False<\/td>\n",
       "    <\/tr>\n",
       "    <tr>\n",
       "      <th>1<\/th>\n",
       "      <td>1873-03-08<\/td>\n",
       "      <td>England<\/td>\n",
       "      <td>Scotland<\/td>\n",
       "      <td>4<\/td>\n",
       "      <td>2<\/td>\n",
       "      <td>Friendly<\/td>\n",
       "      <td>London<\/td>\n",
       "      <td>England<\/td>\n",
       "      <td>False<\/td>\n",
       "    <\/tr>\n",
       "    <tr>\n",
       "      <th>2<\/th>\n",
       "      <td>1874-03-07<\/td>\n",
       "      <td>Scotland<\/td>\n",
       "      <td>England<\/td>\n",
       "      <td>2<\/td>\n",
       "      <td>1<\/td>\n",
       "      <td>Friendly<\/td>\n",
       "      <td>Glasgow<\/td>\n",
       "      <td>Scotland<\/td>\n",
       "      <td>False<\/td>\n",
       "    <\/tr>\n",
       "    <tr>\n",
       "      <th>3<\/th>\n",
       "      <td>1875-03-06<\/td>\n",
       "      <td>England<\/td>\n",
       "      <td>Scotland<\/td>\n",
       "      <td>2<\/td>\n",
       "      <td>2<\/td>\n",
       "      <td>Friendly<\/td>\n",
       "      <td>London<\/td>\n",
       "      <td>England<\/td>\n",
       "      <td>False<\/td>\n",
       "    <\/tr>\n",
       "    <tr>\n",
       "      <th>4<\/th>\n",
       "      <td>1876-03-04<\/td>\n",
       "      <td>Scotland<\/td>\n",
       "      <td>England<\/td>\n",
       "      <td>3<\/td>\n",
       "      <td>0<\/td>\n",
       "      <td>Friendly<\/td>\n",
       "      <td>Glasgow<\/td>\n",
       "      <td>Scotland<\/td>\n",
       "      <td>False<\/td>\n",
       "    <\/tr>\n",
       "    <tr>\n",
       "      <th>...<\/th>\n",
       "      <td>...<\/td>\n",
       "      <td>...<\/td>\n",
       "      <td>...<\/td>\n",
       "      <td>...<\/td>\n",
       "      <td>...<\/td>\n",
       "      <td>...<\/td>\n",
       "      <td>...<\/td>\n",
       "      <td>...<\/td>\n",
       "      <td>...<\/td>\n",
       "    <\/tr>\n",
       "    <tr>\n",
       "      <th>43183<\/th>\n",
       "      <td>2\/1\/2022<\/td>\n",
       "      <td>Suriname<\/td>\n",
       "      <td>Guyana<\/td>\n",
       "      <td>2<\/td>\n",
       "      <td>1<\/td>\n",
       "      <td>Friendly<\/td>\n",
       "      <td>Paramaribo<\/td>\n",
       "      <td>Suriname<\/td>\n",
       "      <td>False<\/td>\n",
       "    <\/tr>\n",
       "    <tr>\n",
       "      <th>43184<\/th>\n",
       "      <td>2\/2\/2022<\/td>\n",
       "      <td>Burkina Faso<\/td>\n",
       "      <td>Senegal<\/td>\n",
       "      <td>1<\/td>\n",
       "      <td>3<\/td>\n",
       "      <td>African Cup of Nations<\/td>\n",
       "      <td>Yaoundé<\/td>\n",
       "      <td>Cameroon<\/td>\n",
       "      <td>True<\/td>\n",
       "    <\/tr>\n",
       "    <tr>\n",
       "      <th>43185<\/th>\n",
       "      <td>2\/3\/2022<\/td>\n",
       "      <td>Cameroon<\/td>\n",
       "      <td>Egypt<\/td>\n",
       "      <td>0<\/td>\n",
       "      <td>0<\/td>\n",
       "      <td>African Cup of Nations<\/td>\n",
       "      <td>Yaoundé<\/td>\n",
       "      <td>Cameroon<\/td>\n",
       "      <td>False<\/td>\n",
       "    <\/tr>\n",
       "    <tr>\n",
       "      <th>43186<\/th>\n",
       "      <td>2\/5\/2022<\/td>\n",
       "      <td>Cameroon<\/td>\n",
       "      <td>Burkina Faso<\/td>\n",
       "      <td>3<\/td>\n",
       "      <td>3<\/td>\n",
       "      <td>African Cup of Nations<\/td>\n",
       "      <td>Yaoundé<\/td>\n",
       "      <td>Cameroon<\/td>\n",
       "      <td>False<\/td>\n",
       "    <\/tr>\n",
       "    <tr>\n",
       "      <th>43187<\/th>\n",
       "      <td>2\/6\/2022<\/td>\n",
       "      <td>Senegal<\/td>\n",
       "      <td>Egypt<\/td>\n",
       "      <td>0<\/td>\n",
       "      <td>0<\/td>\n",
       "      <td>African Cup of Nations<\/td>\n",
       "      <td>Yaoundé<\/td>\n",
       "      <td>Cameroon<\/td>\n",
       "      <td>True<\/td>\n",
       "    <\/tr>\n",
       "  <\/tbody>\n",
       "<\/table>\n",
       "<p>43188 rows × 9 columns<\/p>\n",
       "<\/div>"
      ]
     },
     "metadata":{
      
     },
     "output_type":"display_data"
    }
   ],
   "metadata":{
    "datalore":{
     "type":"CODE",
     "hide_input_from_viewers":false,
     "hide_output_from_viewers":false
    }
   }
  },
  {
   "cell_type":"markdown",
   "source":[
    " **First, we want to see how many countries are analyzed in the dataset. Then, it is important to find out the number of games each country contributed in. That is because a country must have participated in at least 200 matches, in order to include it in the statistical analysis.**"
   ],
   "attachments":{
    
   },
   "metadata":{
    "datalore":{
     "type":"MD",
     "hide_input_from_viewers":false,
     "hide_output_from_viewers":false
    }
   }
  },
  {
   "cell_type":"code",
   "source":[
    "df['home_team'].value_counts()+ df['away_team'].value_counts() #This table would be uselful when choosing which countries will be analyzed."
   ],
   "execution_count":90,
   "outputs":[
    {
     "data":{
      "text\/html":[
       
      ]
     },
     "metadata":{
      
     },
     "output_type":"display_data"
    }
   ],
   "metadata":{
    "datalore":{
     "type":"CODE",
     "hide_input_from_viewers":false,
     "hide_output_from_viewers":false
    }
   }
  },
  {
   "cell_type":"code",
   "source":[
    "x=df['home_score']-df['away_score']"
   ],
   "execution_count":91,
   "outputs":[
    
   ],
   "metadata":{
    "datalore":{
     "type":"CODE",
     "hide_input_from_viewers":false,
     "hide_output_from_viewers":false
    }
   }
  },
  {
   "cell_type":"code",
   "source":[
    "x"
   ],
   "execution_count":92,
   "outputs":[
    {
     "data":{
      "text\/html":[
       
      ]
     },
     "metadata":{
      
     },
     "output_type":"display_data"
    }
   ],
   "metadata":{
    "datalore":{
     "type":"CODE",
     "hide_input_from_viewers":false,
     "hide_output_from_viewers":false
    }
   }
  },
  {
   "cell_type":"code",
   "source":[
    "conditions= [(x<0),(x>0),(x==0)] # If the result is negative: The home team has lost. If it is positive: The home team has won. If the result is 0: The match ended in a draw.\n",
    "values=['lose','win','draw']"
   ],
   "execution_count":93,
   "outputs":[
    
   ],
   "metadata":{
    "datalore":{
     "type":"CODE",
     "hide_input_from_viewers":false,
     "hide_output_from_viewers":false
    }
   }
  },
  {
   "cell_type":"code",
   "source":[
    "import numpy as np"
   ],
   "execution_count":94,
   "outputs":[
    
   ],
   "metadata":{
    "datalore":{
     "type":"CODE",
     "hide_input_from_viewers":false,
     "hide_output_from_viewers":false
    }
   }
  },
  {
   "cell_type":"code",
   "source":[
    "df['result_home']=np.select(conditions,values)"
   ],
   "execution_count":95,
   "outputs":[
    
   ],
   "metadata":{
    "datalore":{
     "type":"CODE",
     "hide_input_from_viewers":false,
     "hide_output_from_viewers":false
    }
   }
  },
  {
   "cell_type":"code",
   "source":[
    "df # This is the data with the new column (results_home)"
   ],
   "execution_count":96,
   "outputs":[
    {
     "data":{
      "text\/html":[
       "<div>\n",
       "<style scoped>\n",
       "    .dataframe tbody tr th:only-of-type {\n",
       "        vertical-align: middle;\n",
       "    }\n",
       "\n",
       "    .dataframe tbody tr th {\n",
       "        vertical-align: top;\n",
       "    }\n",
       "\n",
       "    .dataframe thead th {\n",
       "        text-align: right;\n",
       "    }\n",
       "<\/style>\n",
       "<table border=\"1\" class=\"dataframe\">\n",
       "  <thead>\n",
       "    <tr style=\"text-align: right;\">\n",
       "      <th><\/th>\n",
       "      <th>date<\/th>\n",
       "      <th>home_team<\/th>\n",
       "      <th>away_team<\/th>\n",
       "      <th>home_score<\/th>\n",
       "      <th>away_score<\/th>\n",
       "      <th>tournament<\/th>\n",
       "      <th>city<\/th>\n",
       "      <th>country<\/th>\n",
       "      <th>neutral<\/th>\n",
       "      <th>result_home<\/th>\n",
       "    <\/tr>\n",
       "  <\/thead>\n",
       "  <tbody>\n",
       "    <tr>\n",
       "      <th>0<\/th>\n",
       "      <td>1872-11-30<\/td>\n",
       "      <td>Scotland<\/td>\n",
       "      <td>England<\/td>\n",
       "      <td>0<\/td>\n",
       "      <td>0<\/td>\n",
       "      <td>Friendly<\/td>\n",
       "      <td>Glasgow<\/td>\n",
       "      <td>Scotland<\/td>\n",
       "      <td>False<\/td>\n",
       "      <td>draw<\/td>\n",
       "    <\/tr>\n",
       "    <tr>\n",
       "      <th>1<\/th>\n",
       "      <td>1873-03-08<\/td>\n",
       "      <td>England<\/td>\n",
       "      <td>Scotland<\/td>\n",
       "      <td>4<\/td>\n",
       "      <td>2<\/td>\n",
       "      <td>Friendly<\/td>\n",
       "      <td>London<\/td>\n",
       "      <td>England<\/td>\n",
       "      <td>False<\/td>\n",
       "      <td>win<\/td>\n",
       "    <\/tr>\n",
       "    <tr>\n",
       "      <th>2<\/th>\n",
       "      <td>1874-03-07<\/td>\n",
       "      <td>Scotland<\/td>\n",
       "      <td>England<\/td>\n",
       "      <td>2<\/td>\n",
       "      <td>1<\/td>\n",
       "      <td>Friendly<\/td>\n",
       "      <td>Glasgow<\/td>\n",
       "      <td>Scotland<\/td>\n",
       "      <td>False<\/td>\n",
       "      <td>win<\/td>\n",
       "    <\/tr>\n",
       "    <tr>\n",
       "      <th>3<\/th>\n",
       "      <td>1875-03-06<\/td>\n",
       "      <td>England<\/td>\n",
       "      <td>Scotland<\/td>\n",
       "      <td>2<\/td>\n",
       "      <td>2<\/td>\n",
       "      <td>Friendly<\/td>\n",
       "      <td>London<\/td>\n",
       "      <td>England<\/td>\n",
       "      <td>False<\/td>\n",
       "      <td>draw<\/td>\n",
       "    <\/tr>\n",
       "    <tr>\n",
       "      <th>4<\/th>\n",
       "      <td>1876-03-04<\/td>\n",
       "      <td>Scotland<\/td>\n",
       "      <td>England<\/td>\n",
       "      <td>3<\/td>\n",
       "      <td>0<\/td>\n",
       "      <td>Friendly<\/td>\n",
       "      <td>Glasgow<\/td>\n",
       "      <td>Scotland<\/td>\n",
       "      <td>False<\/td>\n",
       "      <td>win<\/td>\n",
       "    <\/tr>\n",
       "    <tr>\n",
       "      <th>...<\/th>\n",
       "      <td>...<\/td>\n",
       "      <td>...<\/td>\n",
       "      <td>...<\/td>\n",
       "      <td>...<\/td>\n",
       "      <td>...<\/td>\n",
       "      <td>...<\/td>\n",
       "      <td>...<\/td>\n",
       "      <td>...<\/td>\n",
       "      <td>...<\/td>\n",
       "      <td>...<\/td>\n",
       "    <\/tr>\n",
       "    <tr>\n",
       "      <th>43183<\/th>\n",
       "      <td>2\/1\/2022<\/td>\n",
       "      <td>Suriname<\/td>\n",
       "      <td>Guyana<\/td>\n",
       "      <td>2<\/td>\n",
       "      <td>1<\/td>\n",
       "      <td>Friendly<\/td>\n",
       "      <td>Paramaribo<\/td>\n",
       "      <td>Suriname<\/td>\n",
       "      <td>False<\/td>\n",
       "      <td>win<\/td>\n",
       "    <\/tr>\n",
       "    <tr>\n",
       "      <th>43184<\/th>\n",
       "      <td>2\/2\/2022<\/td>\n",
       "      <td>Burkina Faso<\/td>\n",
       "      <td>Senegal<\/td>\n",
       "      <td>1<\/td>\n",
       "      <td>3<\/td>\n",
       "      <td>African Cup of Nations<\/td>\n",
       "      <td>Yaoundé<\/td>\n",
       "      <td>Cameroon<\/td>\n",
       "      <td>True<\/td>\n",
       "      <td>lose<\/td>\n",
       "    <\/tr>\n",
       "    <tr>\n",
       "      <th>43185<\/th>\n",
       "      <td>2\/3\/2022<\/td>\n",
       "      <td>Cameroon<\/td>\n",
       "      <td>Egypt<\/td>\n",
       "      <td>0<\/td>\n",
       "      <td>0<\/td>\n",
       "      <td>African Cup of Nations<\/td>\n",
       "      <td>Yaoundé<\/td>\n",
       "      <td>Cameroon<\/td>\n",
       "      <td>False<\/td>\n",
       "      <td>draw<\/td>\n",
       "    <\/tr>\n",
       "    <tr>\n",
       "      <th>43186<\/th>\n",
       "      <td>2\/5\/2022<\/td>\n",
       "      <td>Cameroon<\/td>\n",
       "      <td>Burkina Faso<\/td>\n",
       "      <td>3<\/td>\n",
       "      <td>3<\/td>\n",
       "      <td>African Cup of Nations<\/td>\n",
       "      <td>Yaoundé<\/td>\n",
       "      <td>Cameroon<\/td>\n",
       "      <td>False<\/td>\n",
       "      <td>draw<\/td>\n",
       "    <\/tr>\n",
       "    <tr>\n",
       "      <th>43187<\/th>\n",
       "      <td>2\/6\/2022<\/td>\n",
       "      <td>Senegal<\/td>\n",
       "      <td>Egypt<\/td>\n",
       "      <td>0<\/td>\n",
       "      <td>0<\/td>\n",
       "      <td>African Cup of Nations<\/td>\n",
       "      <td>Yaoundé<\/td>\n",
       "      <td>Cameroon<\/td>\n",
       "      <td>True<\/td>\n",
       "      <td>draw<\/td>\n",
       "    <\/tr>\n",
       "  <\/tbody>\n",
       "<\/table>\n",
       "<p>43188 rows × 10 columns<\/p>\n",
       "<\/div>"
      ]
     },
     "metadata":{
      
     },
     "output_type":"display_data"
    }
   ],
   "metadata":{
    "datalore":{
     "type":"CODE",
     "hide_input_from_viewers":false,
     "hide_output_from_viewers":false
    }
   }
  },
  {
   "cell_type":"code",
   "source":[
    "df['result_home'][0:3]"
   ],
   "execution_count":97,
   "outputs":[
    {
     "data":{
      "text\/html":[
       
      ]
     },
     "metadata":{
      
     },
     "output_type":"display_data"
    }
   ],
   "metadata":{
    "datalore":{
     "type":"CODE",
     "hide_input_from_viewers":false,
     "hide_output_from_viewers":false
    }
   }
  },
  {
   "cell_type":"code",
   "source":[
    "df['result_home'].value_counts() # This shows the number of mtaches won, lost, and draw by the home team."
   ],
   "execution_count":98,
   "outputs":[
    {
     "data":{
      "text\/html":[
       
      ]
     },
     "metadata":{
      
     },
     "output_type":"display_data"
    }
   ],
   "metadata":{
    "datalore":{
     "type":"CODE",
     "hide_input_from_viewers":false,
     "hide_output_from_viewers":false
    }
   }
  },
  {
   "cell_type":"code",
   "source":[
    "df['result_home'].value_counts(normalize=True) # Thi converts the above information into percentages."
   ],
   "execution_count":99,
   "outputs":[
    {
     "data":{
      "text\/html":[
       
      ]
     },
     "metadata":{
      
     },
     "output_type":"display_data"
    }
   ],
   "metadata":{
    "datalore":{
     "type":"CODE",
     "hide_input_from_viewers":false,
     "hide_output_from_viewers":false
    }
   }
  },
  {
   "cell_type":"code",
   "source":[
    "r=df['result_home'].value_counts()"
   ],
   "execution_count":100,
   "outputs":[
    
   ],
   "metadata":{
    "datalore":{
     "type":"CODE",
     "hide_input_from_viewers":false,
     "hide_output_from_viewers":false
    }
   }
  },
  {
   "cell_type":"code",
   "source":[
    "r=np.array(r)"
   ],
   "execution_count":101,
   "outputs":[
    
   ],
   "metadata":{
    "datalore":{
     "type":"CODE",
     "hide_input_from_viewers":false,
     "hide_output_from_viewers":false
    }
   }
  },
  {
   "cell_type":"code",
   "source":[
    "r"
   ],
   "execution_count":102,
   "outputs":[
    {
     "data":{
      "text\/html":[
       
      ]
     },
     "metadata":{
      
     },
     "output_type":"display_data"
    }
   ],
   "metadata":{
    "datalore":{
     "type":"CODE",
     "hide_input_from_viewers":false,
     "hide_output_from_viewers":false
    }
   }
  },
  {
   "cell_type":"code",
   "source":[
    "R=r.sum()"
   ],
   "execution_count":103,
   "outputs":[
    
   ],
   "metadata":{
    "datalore":{
     "type":"CODE",
     "hide_input_from_viewers":false,
     "hide_output_from_viewers":false
    }
   }
  },
  {
   "cell_type":"code",
   "source":[
    "R # The number of matches played are 43188"
   ],
   "execution_count":104,
   "outputs":[
    {
     "data":{
      "text\/plain":[
       "43188"
      ]
     },
     "metadata":{
      
     },
     "output_type":"display_data"
    }
   ],
   "metadata":{
    "datalore":{
     "type":"CODE",
     "hide_input_from_viewers":false,
     "hide_output_from_viewers":false
    }
   }
  },
  {
   "cell_type":"code",
   "source":[
    "df.head()"
   ],
   "execution_count":105,
   "outputs":[
    {
     "data":{
      "text\/html":[
       "<div>\n",
       "<style scoped>\n",
       "    .dataframe tbody tr th:only-of-type {\n",
       "        vertical-align: middle;\n",
       "    }\n",
       "\n",
       "    .dataframe tbody tr th {\n",
       "        vertical-align: top;\n",
       "    }\n",
       "\n",
       "    .dataframe thead th {\n",
       "        text-align: right;\n",
       "    }\n",
       "<\/style>\n",
       "<table border=\"1\" class=\"dataframe\">\n",
       "  <thead>\n",
       "    <tr style=\"text-align: right;\">\n",
       "      <th><\/th>\n",
       "      <th>date<\/th>\n",
       "      <th>home_team<\/th>\n",
       "      <th>away_team<\/th>\n",
       "      <th>home_score<\/th>\n",
       "      <th>away_score<\/th>\n",
       "      <th>tournament<\/th>\n",
       "      <th>city<\/th>\n",
       "      <th>country<\/th>\n",
       "      <th>neutral<\/th>\n",
       "      <th>result_home<\/th>\n",
       "    <\/tr>\n",
       "  <\/thead>\n",
       "  <tbody>\n",
       "    <tr>\n",
       "      <th>0<\/th>\n",
       "      <td>1872-11-30<\/td>\n",
       "      <td>Scotland<\/td>\n",
       "      <td>England<\/td>\n",
       "      <td>0<\/td>\n",
       "      <td>0<\/td>\n",
       "      <td>Friendly<\/td>\n",
       "      <td>Glasgow<\/td>\n",
       "      <td>Scotland<\/td>\n",
       "      <td>False<\/td>\n",
       "      <td>draw<\/td>\n",
       "    <\/tr>\n",
       "    <tr>\n",
       "      <th>1<\/th>\n",
       "      <td>1873-03-08<\/td>\n",
       "      <td>England<\/td>\n",
       "      <td>Scotland<\/td>\n",
       "      <td>4<\/td>\n",
       "      <td>2<\/td>\n",
       "      <td>Friendly<\/td>\n",
       "      <td>London<\/td>\n",
       "      <td>England<\/td>\n",
       "      <td>False<\/td>\n",
       "      <td>win<\/td>\n",
       "    <\/tr>\n",
       "    <tr>\n",
       "      <th>2<\/th>\n",
       "      <td>1874-03-07<\/td>\n",
       "      <td>Scotland<\/td>\n",
       "      <td>England<\/td>\n",
       "      <td>2<\/td>\n",
       "      <td>1<\/td>\n",
       "      <td>Friendly<\/td>\n",
       "      <td>Glasgow<\/td>\n",
       "      <td>Scotland<\/td>\n",
       "      <td>False<\/td>\n",
       "      <td>win<\/td>\n",
       "    <\/tr>\n",
       "    <tr>\n",
       "      <th>3<\/th>\n",
       "      <td>1875-03-06<\/td>\n",
       "      <td>England<\/td>\n",
       "      <td>Scotland<\/td>\n",
       "      <td>2<\/td>\n",
       "      <td>2<\/td>\n",
       "      <td>Friendly<\/td>\n",
       "      <td>London<\/td>\n",
       "      <td>England<\/td>\n",
       "      <td>False<\/td>\n",
       "      <td>draw<\/td>\n",
       "    <\/tr>\n",
       "    <tr>\n",
       "      <th>4<\/th>\n",
       "      <td>1876-03-04<\/td>\n",
       "      <td>Scotland<\/td>\n",
       "      <td>England<\/td>\n",
       "      <td>3<\/td>\n",
       "      <td>0<\/td>\n",
       "      <td>Friendly<\/td>\n",
       "      <td>Glasgow<\/td>\n",
       "      <td>Scotland<\/td>\n",
       "      <td>False<\/td>\n",
       "      <td>win<\/td>\n",
       "    <\/tr>\n",
       "  <\/tbody>\n",
       "<\/table>\n",
       "<\/div>"
      ]
     },
     "metadata":{
      
     },
     "output_type":"display_data"
    }
   ],
   "metadata":{
    "datalore":{
     "type":"CODE",
     "hide_input_from_viewers":false,
     "hide_output_from_viewers":false
    }
   }
  },
  {
   "cell_type":"markdown",
   "source":[
    "**The home team wins around 48.7% of matches. This is almost double the probability for the home team to lose or be in a draw. This might suggest that a team playing in their home country would affect the results of the match, and lead to a bigger chance for the away team to win. However, this conclusion cannot be finalized yet. That is because these probabilities include neutral matches (which didn't take place in the country of the home team OR away team). Therefore, the same process must be repeated for the matches which are not neutral, to see the impact of a match being played in the country of one of the teams.**"
   ],
   "attachments":{
    
   },
   "metadata":{
    "datalore":{
     "type":"MD",
     "hide_input_from_viewers":false,
     "hide_output_from_viewers":false
    }
   }
  },
  {
   "cell_type":"code",
   "source":[
    "df_noneutral= df[df['neutral']==False]"
   ],
   "execution_count":106,
   "outputs":[
    
   ],
   "metadata":{
    "datalore":{
     "type":"CODE",
     "hide_input_from_viewers":false,
     "hide_output_from_viewers":false
    }
   }
  },
  {
   "cell_type":"code",
   "source":[
    "df_noneutral.shape #a new dataset with only non-neutral matches. According to the output, there are 32481 non-neutral matches."
   ],
   "execution_count":107,
   "outputs":[
    {
     "data":{
      "text\/plain":[
       "(32481, 10)"
      ]
     },
     "metadata":{
      
     },
     "output_type":"display_data"
    }
   ],
   "metadata":{
    "datalore":{
     "type":"CODE",
     "hide_input_from_viewers":false,
     "hide_output_from_viewers":false
    }
   }
  },
  {
   "cell_type":"code",
   "source":[
    "df_noneutral"
   ],
   "execution_count":108,
   "outputs":[
    {
     "data":{
      "text\/html":[
       "<div>\n",
       "<style scoped>\n",
       "    .dataframe tbody tr th:only-of-type {\n",
       "        vertical-align: middle;\n",
       "    }\n",
       "\n",
       "    .dataframe tbody tr th {\n",
       "        vertical-align: top;\n",
       "    }\n",
       "\n",
       "    .dataframe thead th {\n",
       "        text-align: right;\n",
       "    }\n",
       "<\/style>\n",
       "<table border=\"1\" class=\"dataframe\">\n",
       "  <thead>\n",
       "    <tr style=\"text-align: right;\">\n",
       "      <th><\/th>\n",
       "      <th>date<\/th>\n",
       "      <th>home_team<\/th>\n",
       "      <th>away_team<\/th>\n",
       "      <th>home_score<\/th>\n",
       "      <th>away_score<\/th>\n",
       "      <th>tournament<\/th>\n",
       "      <th>city<\/th>\n",
       "      <th>country<\/th>\n",
       "      <th>neutral<\/th>\n",
       "      <th>result_home<\/th>\n",
       "    <\/tr>\n",
       "  <\/thead>\n",
       "  <tbody>\n",
       "    <tr>\n",
       "      <th>0<\/th>\n",
       "      <td>1872-11-30<\/td>\n",
       "      <td>Scotland<\/td>\n",
       "      <td>England<\/td>\n",
       "      <td>0<\/td>\n",
       "      <td>0<\/td>\n",
       "      <td>Friendly<\/td>\n",
       "      <td>Glasgow<\/td>\n",
       "      <td>Scotland<\/td>\n",
       "      <td>False<\/td>\n",
       "      <td>draw<\/td>\n",
       "    <\/tr>\n",
       "    <tr>\n",
       "      <th>1<\/th>\n",
       "      <td>1873-03-08<\/td>\n",
       "      <td>England<\/td>\n",
       "      <td>Scotland<\/td>\n",
       "      <td>4<\/td>\n",
       "      <td>2<\/td>\n",
       "      <td>Friendly<\/td>\n",
       "      <td>London<\/td>\n",
       "      <td>England<\/td>\n",
       "      <td>False<\/td>\n",
       "      <td>win<\/td>\n",
       "    <\/tr>\n",
       "    <tr>\n",
       "      <th>2<\/th>\n",
       "      <td>1874-03-07<\/td>\n",
       "      <td>Scotland<\/td>\n",
       "      <td>England<\/td>\n",
       "      <td>2<\/td>\n",
       "      <td>1<\/td>\n",
       "      <td>Friendly<\/td>\n",
       "      <td>Glasgow<\/td>\n",
       "      <td>Scotland<\/td>\n",
       "      <td>False<\/td>\n",
       "      <td>win<\/td>\n",
       "    <\/tr>\n",
       "    <tr>\n",
       "      <th>3<\/th>\n",
       "      <td>1875-03-06<\/td>\n",
       "      <td>England<\/td>\n",
       "      <td>Scotland<\/td>\n",
       "      <td>2<\/td>\n",
       "      <td>2<\/td>\n",
       "      <td>Friendly<\/td>\n",
       "      <td>London<\/td>\n",
       "      <td>England<\/td>\n",
       "      <td>False<\/td>\n",
       "      <td>draw<\/td>\n",
       "    <\/tr>\n",
       "    <tr>\n",
       "      <th>4<\/th>\n",
       "      <td>1876-03-04<\/td>\n",
       "      <td>Scotland<\/td>\n",
       "      <td>England<\/td>\n",
       "      <td>3<\/td>\n",
       "      <td>0<\/td>\n",
       "      <td>Friendly<\/td>\n",
       "      <td>Glasgow<\/td>\n",
       "      <td>Scotland<\/td>\n",
       "      <td>False<\/td>\n",
       "      <td>win<\/td>\n",
       "    <\/tr>\n",
       "    <tr>\n",
       "      <th>...<\/th>\n",
       "      <td>...<\/td>\n",
       "      <td>...<\/td>\n",
       "      <td>...<\/td>\n",
       "      <td>...<\/td>\n",
       "      <td>...<\/td>\n",
       "      <td>...<\/td>\n",
       "      <td>...<\/td>\n",
       "      <td>...<\/td>\n",
       "      <td>...<\/td>\n",
       "      <td>...<\/td>\n",
       "    <\/tr>\n",
       "    <tr>\n",
       "      <th>43181<\/th>\n",
       "      <td>2\/1\/2022<\/td>\n",
       "      <td>Nepal<\/td>\n",
       "      <td>Mauritius<\/td>\n",
       "      <td>1<\/td>\n",
       "      <td>0<\/td>\n",
       "      <td>Friendly<\/td>\n",
       "      <td>Kathmandu<\/td>\n",
       "      <td>Nepal<\/td>\n",
       "      <td>False<\/td>\n",
       "      <td>win<\/td>\n",
       "    <\/tr>\n",
       "    <tr>\n",
       "      <th>43182<\/th>\n",
       "      <td>2\/1\/2022<\/td>\n",
       "      <td>Nicaragua<\/td>\n",
       "      <td>Belize<\/td>\n",
       "      <td>1<\/td>\n",
       "      <td>1<\/td>\n",
       "      <td>Friendly<\/td>\n",
       "      <td>Managua<\/td>\n",
       "      <td>Nicaragua<\/td>\n",
       "      <td>False<\/td>\n",
       "      <td>draw<\/td>\n",
       "    <\/tr>\n",
       "    <tr>\n",
       "      <th>43183<\/th>\n",
       "      <td>2\/1\/2022<\/td>\n",
       "      <td>Suriname<\/td>\n",
       "      <td>Guyana<\/td>\n",
       "      <td>2<\/td>\n",
       "      <td>1<\/td>\n",
       "      <td>Friendly<\/td>\n",
       "      <td>Paramaribo<\/td>\n",
       "      <td>Suriname<\/td>\n",
       "      <td>False<\/td>\n",
       "      <td>win<\/td>\n",
       "    <\/tr>\n",
       "    <tr>\n",
       "      <th>43185<\/th>\n",
       "      <td>2\/3\/2022<\/td>\n",
       "      <td>Cameroon<\/td>\n",
       "      <td>Egypt<\/td>\n",
       "      <td>0<\/td>\n",
       "      <td>0<\/td>\n",
       "      <td>African Cup of Nations<\/td>\n",
       "      <td>Yaoundé<\/td>\n",
       "      <td>Cameroon<\/td>\n",
       "      <td>False<\/td>\n",
       "      <td>draw<\/td>\n",
       "    <\/tr>\n",
       "    <tr>\n",
       "      <th>43186<\/th>\n",
       "      <td>2\/5\/2022<\/td>\n",
       "      <td>Cameroon<\/td>\n",
       "      <td>Burkina Faso<\/td>\n",
       "      <td>3<\/td>\n",
       "      <td>3<\/td>\n",
       "      <td>African Cup of Nations<\/td>\n",
       "      <td>Yaoundé<\/td>\n",
       "      <td>Cameroon<\/td>\n",
       "      <td>False<\/td>\n",
       "      <td>draw<\/td>\n",
       "    <\/tr>\n",
       "  <\/tbody>\n",
       "<\/table>\n",
       "<p>32481 rows × 10 columns<\/p>\n",
       "<\/div>"
      ]
     },
     "metadata":{
      
     },
     "output_type":"display_data"
    }
   ],
   "metadata":{
    "datalore":{
     "type":"CODE",
     "hide_input_from_viewers":false,
     "hide_output_from_viewers":false
    }
   }
  },
  {
   "cell_type":"code",
   "source":[
    "y=df_noneutral['result_home'].value_counts()"
   ],
   "execution_count":109,
   "outputs":[
    
   ],
   "metadata":{
    "datalore":{
     "type":"CODE",
     "hide_input_from_viewers":false,
     "hide_output_from_viewers":false
    }
   }
  },
  {
   "cell_type":"code",
   "source":[
    "y"
   ],
   "execution_count":110,
   "outputs":[
    {
     "data":{
      "text\/html":[
       
      ]
     },
     "metadata":{
      
     },
     "output_type":"display_data"
    }
   ],
   "metadata":{
    "datalore":{
     "type":"CODE",
     "hide_input_from_viewers":false,
     "hide_output_from_viewers":false
    }
   }
  },
  {
   "cell_type":"code",
   "source":[
    "df_noneutral['result_home'].value_counts(normalize=True)"
   ],
   "execution_count":111,
   "outputs":[
    {
     "data":{
      "text\/html":[
       
      ]
     },
     "metadata":{
      
     },
     "output_type":"display_data"
    }
   ],
   "metadata":{
    "datalore":{
     "type":"CODE",
     "hide_input_from_viewers":false,
     "hide_output_from_viewers":false
    }
   }
  },
  {
   "cell_type":"markdown",
   "source":[
    "**After removing all the neutral matches from the data, we can now correctly analyze the effect of teams playing in their home countries on the match results. Without the neutral matches, the probability of a team winning if they are playing at their home stadium has increased from 49% to 51%. This infers that this variable (matches being non-neutral) affects the match results. According to the above output, there is a much higher probability (almost double) for a home team to win a match, rather than lose it or draw. This means that a team playing in their home stadium would increase their chance of wining.**"
   ],
   "attachments":{
    
   },
   "metadata":{
    "datalore":{
     "type":"MD",
     "hide_input_from_viewers":false,
     "hide_output_from_viewers":false
    }
   }
  },
  {
   "cell_type":"code",
   "source":[
    "n=np.array(y)\n",
    "n"
   ],
   "execution_count":112,
   "outputs":[
    {
     "data":{
      "text\/html":[
       
      ]
     },
     "metadata":{
      
     },
     "output_type":"display_data"
    }
   ],
   "metadata":{
    "datalore":{
     "type":"CODE",
     "hide_input_from_viewers":false,
     "hide_output_from_viewers":false
    }
   }
  },
  {
   "cell_type":"code",
   "source":[
    "N=n.sum()# N would be used for the calculation of the confidence interval\n",
    "N"
   ],
   "execution_count":113,
   "outputs":[
    {
     "data":{
      "text\/plain":[
       "32481"
      ]
     },
     "metadata":{
      
     },
     "output_type":"display_data"
    }
   ],
   "metadata":{
    "datalore":{
     "type":"CODE",
     "hide_input_from_viewers":false,
     "hide_output_from_viewers":false
    }
   }
  },
  {
   "cell_type":"markdown",
   "source":[
    "**Now, we want to find the confidence interval (95%) for the win, loss, and draw of a match by the home team.**"
   ],
   "attachments":{
    
   },
   "metadata":{
    "datalore":{
     "type":"MD",
     "hide_input_from_viewers":false,
     "hide_output_from_viewers":false
    }
   }
  },
  {
   "cell_type":"code",
   "source":[
    "import statsmodels.api as sm\n",
    "from statsmodels.stats.proportion import proportion_confint"
   ],
   "execution_count":114,
   "outputs":[
    
   ],
   "metadata":{
    "datalore":{
     "type":"CODE",
     "hide_input_from_viewers":false,
     "hide_output_from_viewers":false
    }
   }
  },
  {
   "cell_type":"code",
   "source":[
    "CIwin=proportion_confint(count=n[0],nobs=N,alpha=(1-.95))\n",
    "CIwin"
   ],
   "execution_count":115,
   "outputs":[
    {
     "data":{
      "text\/plain":[
       "(0.4995656452847087, 0.5104402042888881)"
      ]
     },
     "metadata":{
      
     },
     "output_type":"display_data"
    }
   ],
   "metadata":{
    "datalore":{
     "type":"CODE",
     "hide_input_from_viewers":false,
     "hide_output_from_viewers":false
    }
   }
  },
  {
   "cell_type":"code",
   "source":[
    "CIlose=proportion_confint(count=n[1],nobs=N,alpha=(1-.95))\n",
    "CIlose"
   ],
   "execution_count":116,
   "outputs":[
    {
     "data":{
      "text\/plain":[
       "(0.25890067381105686, 0.2684845667911413)"
      ]
     },
     "metadata":{
      
     },
     "output_type":"display_data"
    }
   ],
   "metadata":{
    "datalore":{
     "type":"CODE",
     "hide_input_from_viewers":false,
     "hide_output_from_viewers":false
    }
   }
  },
  {
   "cell_type":"code",
   "source":[
    "CIdraw=proportion_confint(count=n[2],nobs=N,alpha=(1-.95))\n",
    "CIdraw"
   ],
   "execution_count":117,
   "outputs":[
    {
     "data":{
      "text\/plain":[
       "(0.22671878725859246, 0.23589012256561248)"
      ]
     },
     "metadata":{
      
     },
     "output_type":"display_data"
    }
   ],
   "metadata":{
    "datalore":{
     "type":"CODE",
     "hide_input_from_viewers":false,
     "hide_output_from_viewers":false
    }
   }
  },
  {
   "cell_type":"code",
   "source":[
    "CIhomewin = {}\n",
    "CIhomewin['result_home'] = ['win','lose','draw']\n",
    "CIhomewin['lb'] = [CIwin[0],CIlose[0],CIdraw[0]]\n",
    "CIhomewin['ub'] = [CIwin[1],CIlose[1],CIdraw[1]]\n",
    "CIhomewin\n",
    "df_ci= pd.DataFrame(CIhomewin)\n",
    "df_ci"
   ],
   "execution_count":118,
   "outputs":[
    {
     "data":{
      "text\/html":[
       "<div>\n",
       "<style scoped>\n",
       "    .dataframe tbody tr th:only-of-type {\n",
       "        vertical-align: middle;\n",
       "    }\n",
       "\n",
       "    .dataframe tbody tr th {\n",
       "        vertical-align: top;\n",
       "    }\n",
       "\n",
       "    .dataframe thead th {\n",
       "        text-align: right;\n",
       "    }\n",
       "<\/style>\n",
       "<table border=\"1\" class=\"dataframe\">\n",
       "  <thead>\n",
       "    <tr style=\"text-align: right;\">\n",
       "      <th><\/th>\n",
       "      <th>result_home<\/th>\n",
       "      <th>lb<\/th>\n",
       "      <th>ub<\/th>\n",
       "    <\/tr>\n",
       "  <\/thead>\n",
       "  <tbody>\n",
       "    <tr>\n",
       "      <th>0<\/th>\n",
       "      <td>win<\/td>\n",
       "      <td>0.499566<\/td>\n",
       "      <td>0.510440<\/td>\n",
       "    <\/tr>\n",
       "    <tr>\n",
       "      <th>1<\/th>\n",
       "      <td>lose<\/td>\n",
       "      <td>0.258901<\/td>\n",
       "      <td>0.268485<\/td>\n",
       "    <\/tr>\n",
       "    <tr>\n",
       "      <th>2<\/th>\n",
       "      <td>draw<\/td>\n",
       "      <td>0.226719<\/td>\n",
       "      <td>0.235890<\/td>\n",
       "    <\/tr>\n",
       "  <\/tbody>\n",
       "<\/table>\n",
       "<\/div>"
      ]
     },
     "metadata":{
      
     },
     "output_type":"display_data"
    }
   ],
   "metadata":{
    "datalore":{
     "type":"CODE",
     "hide_input_from_viewers":false,
     "hide_output_from_viewers":false
    }
   }
  },
  {
   "cell_type":"code",
   "source":[
    "import matplotlib.pyplot as plt\n",
    "for lb,ub,y in zip(df_ci['lb'],df_ci['ub'],range(len(df_ci))):\n",
    "    plt.plot((lb,ub),(y,y),'ro-')\n",
    "plt.yticks(range(len(df_ci)),list(df_ci['result_home']))"
   ],
   "execution_count":119,
   "outputs":[
    {
     "data":{
      "text\/plain":[
       "([<matplotlib.axis.YTick at 0x7f190fd1dfd0>,\n",
       "  <matplotlib.axis.YTick at 0x7f190fd1d850>,\n",
       "  <matplotlib.axis.YTick at 0x7f190fd187c0>],\n",
       " [Text(0, 0, 'win'), Text(0, 1, 'lose'), Text(0, 2, 'draw')])"
      ],
      "image\/png":"[encoded data removed]"
     },
     "metadata":{
      "image\/png":{
       
      }
     },
     "output_type":"display_data"
    }
   ],
   "metadata":{
    "datalore":{
     "type":"CODE",
     "hide_input_from_viewers":false,
     "hide_output_from_viewers":false
    }
   }
  },
  {
   "cell_type":"markdown",
   "source":[
    "**From the above graph, we can see that the probability of the home team winning (with 95% confidence) is the highest. whereas the probability of a draw is the lowest, and the probability of losing is slightly higher than that of the draw.  There are no overlaps between any of the outcomes; this means that the difference between win\/loss\/draw is statistically significant. Also, the intervals are extremely narrow, meaning that there is high precision in the data and that is a good representation of the population.**\n",
    "\n",
    "**Teams who play in their home stadiums believe that they have an advantage over the away team, as there are fans cheering for them. This explains why nowadays matches are played twice (once in each country) and the scores are added up in leagues, in order to ensure fair play.**"
   ],
   "attachments":{
    
   },
   "metadata":{
    "datalore":{
     "type":"MD",
     "hide_input_from_viewers":false,
     "hide_output_from_viewers":false
    }
   }
  },
  {
   "cell_type":"markdown",
   "source":[
    "## Arab home\/away results"
   ],
   "attachments":{
    
   },
   "metadata":{
    "datalore":{
     "type":"MD",
     "hide_input_from_viewers":false,
     "hide_output_from_viewers":false
    }
   }
  },
  {
   "cell_type":"markdown",
   "source":[
    "The importance of an Arab team playing in their home stadium will be analyzed. Countries included: Egypt, Saudi Arabia, Kuwait Tunisia, and Morocco."
   ],
   "attachments":{
    
   },
   "metadata":{
    "datalore":{
     "type":"MD",
     "hide_input_from_viewers":false,
     "hide_output_from_viewers":false
    }
   }
  },
  {
   "cell_type":"markdown",
   "source":[
    "### 1) EGYPT"
   ],
   "attachments":{
    
   },
   "metadata":{
    "datalore":{
     "type":"MD",
     "hide_input_from_viewers":false,
     "hide_output_from_viewers":false
    }
   }
  },
  {
   "cell_type":"code",
   "source":[
    "dfNoneutralEGY=df_noneutral[df_noneutral['country']=='Egypt']"
   ],
   "execution_count":120,
   "outputs":[
    
   ],
   "metadata":{
    "datalore":{
     "type":"CODE",
     "hide_input_from_viewers":false,
     "hide_output_from_viewers":false
    }
   }
  },
  {
   "cell_type":"code",
   "source":[
    "dfNoneutralEGY"
   ],
   "execution_count":121,
   "outputs":[
    {
     "data":{
      "text\/html":[
       "<div>\n",
       "<style scoped>\n",
       "    .dataframe tbody tr th:only-of-type {\n",
       "        vertical-align: middle;\n",
       "    }\n",
       "\n",
       "    .dataframe tbody tr th {\n",
       "        vertical-align: top;\n",
       "    }\n",
       "\n",
       "    .dataframe thead th {\n",
       "        text-align: right;\n",
       "    }\n",
       "<\/style>\n",
       "<table border=\"1\" class=\"dataframe\">\n",
       "  <thead>\n",
       "    <tr style=\"text-align: right;\">\n",
       "      <th><\/th>\n",
       "      <th>date<\/th>\n",
       "      <th>home_team<\/th>\n",
       "      <th>away_team<\/th>\n",
       "      <th>home_score<\/th>\n",
       "      <th>away_score<\/th>\n",
       "      <th>tournament<\/th>\n",
       "      <th>city<\/th>\n",
       "      <th>country<\/th>\n",
       "      <th>neutral<\/th>\n",
       "      <th>result_home<\/th>\n",
       "    <\/tr>\n",
       "  <\/thead>\n",
       "  <tbody>\n",
       "    <tr>\n",
       "      <th>1463<\/th>\n",
       "      <td>2\/19\/1932<\/td>\n",
       "      <td>Egypt<\/td>\n",
       "      <td>Hungary<\/td>\n",
       "      <td>0<\/td>\n",
       "      <td>0<\/td>\n",
       "      <td>Friendly<\/td>\n",
       "      <td>Cairo<\/td>\n",
       "      <td>Egypt<\/td>\n",
       "      <td>False<\/td>\n",
       "      <td>draw<\/td>\n",
       "    <\/tr>\n",
       "    <tr>\n",
       "      <th>1661<\/th>\n",
       "      <td>3\/16\/1934<\/td>\n",
       "      <td>Egypt<\/td>\n",
       "      <td>Israel<\/td>\n",
       "      <td>7<\/td>\n",
       "      <td>1<\/td>\n",
       "      <td>FIFA World Cup qualification<\/td>\n",
       "      <td>Cairo<\/td>\n",
       "      <td>Egypt<\/td>\n",
       "      <td>False<\/td>\n",
       "      <td>win<\/td>\n",
       "    <\/tr>\n",
       "    <tr>\n",
       "      <th>1895<\/th>\n",
       "      <td>6\/19\/1936<\/td>\n",
       "      <td>Egypt<\/td>\n",
       "      <td>Greece<\/td>\n",
       "      <td>3<\/td>\n",
       "      <td>1<\/td>\n",
       "      <td>Friendly<\/td>\n",
       "      <td>Cairo<\/td>\n",
       "      <td>Egypt<\/td>\n",
       "      <td>False<\/td>\n",
       "      <td>win<\/td>\n",
       "    <\/tr>\n",
       "    <tr>\n",
       "      <th>2927<\/th>\n",
       "      <td>12\/24\/1948<\/td>\n",
       "      <td>Egypt<\/td>\n",
       "      <td>Norway<\/td>\n",
       "      <td>1<\/td>\n",
       "      <td>1<\/td>\n",
       "      <td>Friendly<\/td>\n",
       "      <td>Cairo<\/td>\n",
       "      <td>Egypt<\/td>\n",
       "      <td>False<\/td>\n",
       "      <td>draw<\/td>\n",
       "    <\/tr>\n",
       "    <tr>\n",
       "      <th>3080<\/th>\n",
       "      <td>2\/17\/1950<\/td>\n",
       "      <td>Egypt<\/td>\n",
       "      <td>Greece<\/td>\n",
       "      <td>2<\/td>\n",
       "      <td>0<\/td>\n",
       "      <td>Friendly<\/td>\n",
       "      <td>Cairo<\/td>\n",
       "      <td>Egypt<\/td>\n",
       "      <td>False<\/td>\n",
       "      <td>win<\/td>\n",
       "    <\/tr>\n",
       "    <tr>\n",
       "      <th>...<\/th>\n",
       "      <td>...<\/td>\n",
       "      <td>...<\/td>\n",
       "      <td>...<\/td>\n",
       "      <td>...<\/td>\n",
       "      <td>...<\/td>\n",
       "      <td>...<\/td>\n",
       "      <td>...<\/td>\n",
       "      <td>...<\/td>\n",
       "      <td>...<\/td>\n",
       "      <td>...<\/td>\n",
       "    <\/tr>\n",
       "    <tr>\n",
       "      <th>42165<\/th>\n",
       "      <td>3\/29\/2021<\/td>\n",
       "      <td>Egypt<\/td>\n",
       "      <td>Comoros<\/td>\n",
       "      <td>4<\/td>\n",
       "      <td>0<\/td>\n",
       "      <td>African Cup of Nations qualification<\/td>\n",
       "      <td>Cairo<\/td>\n",
       "      <td>Egypt<\/td>\n",
       "      <td>False<\/td>\n",
       "      <td>win<\/td>\n",
       "    <\/tr>\n",
       "    <tr>\n",
       "      <th>42590<\/th>\n",
       "      <td>9\/1\/2021<\/td>\n",
       "      <td>Egypt<\/td>\n",
       "      <td>Angola<\/td>\n",
       "      <td>1<\/td>\n",
       "      <td>0<\/td>\n",
       "      <td>FIFA World Cup qualification<\/td>\n",
       "      <td>Cairo<\/td>\n",
       "      <td>Egypt<\/td>\n",
       "      <td>False<\/td>\n",
       "      <td>win<\/td>\n",
       "    <\/tr>\n",
       "    <tr>\n",
       "      <th>42758<\/th>\n",
       "      <td>9\/30\/2021<\/td>\n",
       "      <td>Egypt<\/td>\n",
       "      <td>Liberia<\/td>\n",
       "      <td>2<\/td>\n",
       "      <td>0<\/td>\n",
       "      <td>Friendly<\/td>\n",
       "      <td>Alexandria<\/td>\n",
       "      <td>Egypt<\/td>\n",
       "      <td>False<\/td>\n",
       "      <td>win<\/td>\n",
       "    <\/tr>\n",
       "    <tr>\n",
       "      <th>42812<\/th>\n",
       "      <td>10\/8\/2021<\/td>\n",
       "      <td>Egypt<\/td>\n",
       "      <td>Libya<\/td>\n",
       "      <td>1<\/td>\n",
       "      <td>0<\/td>\n",
       "      <td>FIFA World Cup qualification<\/td>\n",
       "      <td>Alexandria<\/td>\n",
       "      <td>Egypt<\/td>\n",
       "      <td>False<\/td>\n",
       "      <td>win<\/td>\n",
       "    <\/tr>\n",
       "    <tr>\n",
       "      <th>43040<\/th>\n",
       "      <td>11\/16\/2021<\/td>\n",
       "      <td>Egypt<\/td>\n",
       "      <td>Gabon<\/td>\n",
       "      <td>2<\/td>\n",
       "      <td>1<\/td>\n",
       "      <td>FIFA World Cup qualification<\/td>\n",
       "      <td>Alexandria<\/td>\n",
       "      <td>Egypt<\/td>\n",
       "      <td>False<\/td>\n",
       "      <td>win<\/td>\n",
       "    <\/tr>\n",
       "  <\/tbody>\n",
       "<\/table>\n",
       "<p>258 rows × 10 columns<\/p>\n",
       "<\/div>"
      ]
     },
     "metadata":{
      
     },
     "output_type":"display_data"
    }
   ],
   "metadata":{
    "datalore":{
     "type":"CODE",
     "hide_input_from_viewers":false,
     "hide_output_from_viewers":false
    }
   }
  },
  {
   "cell_type":"code",
   "source":[
    "dfNoneutralEGY['result_home'].value_counts(normalize=True) #This shows the nupercentage of mtaches won, lost, and draw by the home team (Egypt)."
   ],
   "execution_count":122,
   "outputs":[
    {
     "data":{
      "text\/html":[
       
      ]
     },
     "metadata":{
      
     },
     "output_type":"display_data"
    }
   ],
   "metadata":{
    "datalore":{
     "type":"CODE",
     "hide_input_from_viewers":false,
     "hide_output_from_viewers":false
    }
   }
  },
  {
   "cell_type":"markdown",
   "source":[
    "**From the above output, we can see that there is a 66.3% chance of the Egyptian football team to win if they play in their country, which is around 4 times the probability of Egypt losing or having a draw. The probability of draw and loss are very close (17%). when comparing the probability of Egypt winning (in their home country) and the world average probability, we can see that it is much higher for Egypt. There is a difference of 17.6 %. This means that the Egyptian fans cheering have a great impact on Egyptian match results.**\n",
    "\n",
    "**However, in order to make this conclusion, we have to make sure that the probability of Egypt winning is not also around 66% in its away matches. This conclusion would only be valid if the probability of Egypt winning in its opposer's country is less than 66% (The probability of Egypt winning in its home country). Therefore, we must now find out this probability.**"
   ],
   "attachments":{
    
   },
   "metadata":{
    "datalore":{
     "type":"MD",
     "hide_input_from_viewers":false,
     "hide_output_from_viewers":false
    }
   }
  },
  {
   "cell_type":"code",
   "source":[
    "dfNoneutralEGYaway=df_noneutral[df_noneutral['away_team']=='Egypt'] # creating a data with all non-neutral matches, where Egypt is the away team\n",
    "dfNoneutralEGYaway['result_home'].value_counts(normalize=True) # finding the probability of the home team winning (NOT Egypt)"
   ],
   "execution_count":123,
   "outputs":[
    {
     "data":{
      "text\/html":[
       
      ]
     },
     "metadata":{
      
     },
     "output_type":"display_data"
    }
   ],
   "metadata":{
    "datalore":{
     "type":"CODE",
     "hide_input_from_viewers":false,
     "hide_output_from_viewers":false
    }
   }
  },
  {
   "cell_type":"markdown",
   "source":[
    "**In order to analyse the above output in terms of the away team (Egypt), we should switch the percentages. Win would mean Egypt losing, and lose would mean Egypt winning.**\n",
    "\n",
    "**Therefore:    \n",
    "Draw:0.367924,    \n",
    "Lose:0.349057    \n",
    "Win:0.283019**\n",
    "\n",
    "**This means that the probability of Egypt winning when it is the away team is 28.3%, which is less than 66.3%. Now we can safely conclude that the Egyptian fans cheering do have a great effect on Egyptian match results.**"
   ],
   "attachments":{
    
   },
   "metadata":{
    "datalore":{
     "type":"MD",
     "hide_input_from_viewers":false,
     "hide_output_from_viewers":false
    }
   }
  },
  {
   "cell_type":"code",
   "source":[
    "import statsmodels.api as sm\n",
    "from statsmodels.stats.proportion import proportion_confint"
   ],
   "execution_count":124,
   "outputs":[
    
   ],
   "metadata":{
    "datalore":{
     "type":"CODE",
     "hide_input_from_viewers":false,
     "hide_output_from_viewers":false
    }
   }
  },
  {
   "cell_type":"code",
   "source":[
    "y=dfNoneutralEGY['result_home'].value_counts() #Now we want to find the confidence interval of Egypt winning in its home country\n",
    "y=np.array(y)\n",
    "y"
   ],
   "execution_count":125,
   "outputs":[
    {
     "data":{
      "text\/html":[
       
      ]
     },
     "metadata":{
      
     },
     "output_type":"display_data"
    }
   ],
   "metadata":{
    "datalore":{
     "type":"CODE",
     "hide_input_from_viewers":false,
     "hide_output_from_viewers":false
    }
   }
  },
  {
   "cell_type":"code",
   "source":[
    "N=y.sum()\n",
    "N"
   ],
   "execution_count":126,
   "outputs":[
    {
     "data":{
      "text\/plain":[
       "258"
      ]
     },
     "metadata":{
      
     },
     "output_type":"display_data"
    }
   ],
   "metadata":{
    "datalore":{
     "type":"CODE",
     "hide_input_from_viewers":false,
     "hide_output_from_viewers":false
    }
   }
  },
  {
   "cell_type":"code",
   "source":[
    "CIegy=proportion_confint(count=y[0],nobs=N,alpha=(1-.95))\n",
    "CIegy"
   ],
   "execution_count":127,
   "outputs":[
    {
     "data":{
      "text\/plain":[
       "(0.6051039288730269, 0.7204774664758102)"
      ]
     },
     "metadata":{
      
     },
     "output_type":"display_data"
    }
   ],
   "metadata":{
    "datalore":{
     "type":"CODE",
     "hide_input_from_viewers":false,
     "hide_output_from_viewers":false
    }
   }
  },
  {
   "cell_type":"markdown",
   "source":[
    "**The same will be repeated for the other 4 Arab countries, in order to compare their confidence intervals of winning at their home country.**"
   ],
   "attachments":{
    
   },
   "metadata":{
    "datalore":{
     "type":"MD",
     "hide_input_from_viewers":false,
     "hide_output_from_viewers":false
    }
   }
  },
  {
   "cell_type":"markdown",
   "source":[
    "### 2) Saudi Arabia"
   ],
   "attachments":{
    
   },
   "metadata":{
    "datalore":{
     "type":"MD",
     "hide_input_from_viewers":false,
     "hide_output_from_viewers":false
    }
   }
  },
  {
   "cell_type":"code",
   "source":[
    "dfNoneutralSA=df_noneutral[df_noneutral['country']=='Saudi Arabia']\n",
    "dfNoneutralSA['result_home'].value_counts(normalize=True) #This shows the nupercentage of mtaches won, lost, and draw by the home team."
   ],
   "execution_count":128,
   "outputs":[
    {
     "data":{
      "text\/html":[
       
      ]
     },
     "metadata":{
      
     },
     "output_type":"display_data"
    }
   ],
   "metadata":{
    "datalore":{
     "type":"CODE",
     "hide_input_from_viewers":false,
     "hide_output_from_viewers":false
    }
   }
  },
  {
   "cell_type":"markdown",
   "source":[
    "**The result is close to that of Egypt.**"
   ],
   "attachments":{
    
   },
   "metadata":{
    "datalore":{
     "type":"MD",
     "hide_input_from_viewers":false,
     "hide_output_from_viewers":false
    }
   }
  },
  {
   "cell_type":"code",
   "source":[
    "import statsmodels.api as sm\n",
    "from statsmodels.stats.proportion import proportion_confint"
   ],
   "execution_count":129,
   "outputs":[
    
   ],
   "metadata":{
    "datalore":{
     "type":"CODE",
     "hide_input_from_viewers":false,
     "hide_output_from_viewers":false
    }
   }
  },
  {
   "cell_type":"code",
   "source":[
    "y=dfNoneutralSA['result_home'].value_counts() #Now we want to find the confidence interval of Saudi Aarbia winning in its home country\n",
    "y=np.array(y)\n",
    "y"
   ],
   "execution_count":130,
   "outputs":[
    {
     "data":{
      "text\/html":[
       
      ]
     },
     "metadata":{
      
     },
     "output_type":"display_data"
    }
   ],
   "metadata":{
    "datalore":{
     "type":"CODE",
     "hide_input_from_viewers":false,
     "hide_output_from_viewers":false
    }
   }
  },
  {
   "cell_type":"code",
   "source":[
    "N=y.sum()\n",
    "N"
   ],
   "execution_count":131,
   "outputs":[
    {
     "data":{
      "text\/plain":[
       "269"
      ]
     },
     "metadata":{
      
     },
     "output_type":"display_data"
    }
   ],
   "metadata":{
    "datalore":{
     "type":"CODE",
     "hide_input_from_viewers":false,
     "hide_output_from_viewers":false
    }
   }
  },
  {
   "cell_type":"code",
   "source":[
    "CIsa=proportion_confint(count=y[0],nobs=N,alpha=(1-.95))\n",
    "CIsa"
   ],
   "execution_count":132,
   "outputs":[
    {
     "data":{
      "text\/plain":[
       "(0.5437421740284505, 0.6607187925143005)"
      ]
     },
     "metadata":{
      
     },
     "output_type":"display_data"
    }
   ],
   "metadata":{
    "datalore":{
     "type":"CODE",
     "hide_input_from_viewers":false,
     "hide_output_from_viewers":false
    }
   }
  },
  {
   "cell_type":"markdown",
   "source":[
    "### 3) Kuwait"
   ],
   "attachments":{
    
   },
   "metadata":{
    "datalore":{
     "type":"MD",
     "hide_input_from_viewers":false,
     "hide_output_from_viewers":false
    }
   }
  },
  {
   "cell_type":"code",
   "source":[
    "dfNoneutralKUW=df_noneutral[df_noneutral['country']=='Kuwait']\n",
    "dfNoneutralKUW['result_home'].value_counts(normalize=True)"
   ],
   "execution_count":133,
   "outputs":[
    {
     "data":{
      "text\/html":[
       
      ]
     },
     "metadata":{
      
     },
     "output_type":"display_data"
    }
   ],
   "metadata":{
    "datalore":{
     "type":"CODE",
     "hide_input_from_viewers":false,
     "hide_output_from_viewers":false
    }
   }
  },
  {
   "cell_type":"code",
   "source":[
    "import statsmodels.api as sm\n",
    "from statsmodels.stats.proportion import proportion_confint\n",
    "y=dfNoneutralKUW['result_home'].value_counts()\n",
    "y=np.array(y)\n",
    "y"
   ],
   "execution_count":134,
   "outputs":[
    {
     "data":{
      "text\/html":[
       
      ]
     },
     "metadata":{
      
     },
     "output_type":"display_data"
    }
   ],
   "metadata":{
    "datalore":{
     "type":"CODE",
     "hide_input_from_viewers":false,
     "hide_output_from_viewers":false
    }
   }
  },
  {
   "cell_type":"code",
   "source":[
    "N=y.sum()\n",
    "N"
   ],
   "execution_count":135,
   "outputs":[
    {
     "data":{
      "text\/plain":[
       "230"
      ]
     },
     "metadata":{
      
     },
     "output_type":"display_data"
    }
   ],
   "metadata":{
    "datalore":{
     "type":"CODE",
     "hide_input_from_viewers":false,
     "hide_output_from_viewers":false
    }
   }
  },
  {
   "cell_type":"code",
   "source":[
    "CIkuw=proportion_confint(count=y[0],nobs=N,alpha=(1-.95))\n",
    "CIkuw"
   ],
   "execution_count":136,
   "outputs":[
    {
     "data":{
      "text\/plain":[
       "(0.40506693786952574, 0.534063496913083)"
      ]
     },
     "metadata":{
      
     },
     "output_type":"display_data"
    }
   ],
   "metadata":{
    "datalore":{
     "type":"CODE",
     "hide_input_from_viewers":false,
     "hide_output_from_viewers":false
    }
   }
  },
  {
   "cell_type":"markdown",
   "source":[
    "### 4) Tunisia"
   ],
   "attachments":{
    
   },
   "metadata":{
    "datalore":{
     "type":"MD",
     "hide_input_from_viewers":false,
     "hide_output_from_viewers":false
    }
   }
  },
  {
   "cell_type":"code",
   "source":[
    "dfNoneutralTUN=df_noneutral[df_noneutral['country']=='Tunisia']\n",
    "dfNoneutralTUN['result_home'].value_counts(normalize=True)"
   ],
   "execution_count":137,
   "outputs":[
    {
     "data":{
      "text\/html":[
       
      ]
     },
     "metadata":{
      
     },
     "output_type":"display_data"
    }
   ],
   "metadata":{
    "datalore":{
     "type":"CODE",
     "hide_input_from_viewers":false,
     "hide_output_from_viewers":false
    }
   }
  },
  {
   "cell_type":"code",
   "source":[
    "import statsmodels.api as sm\n",
    "from statsmodels.stats.proportion import proportion_confint\n",
    "y=dfNoneutralTUN['result_home'].value_counts()\n",
    "y=np.array(y)\n",
    "y"
   ],
   "execution_count":138,
   "outputs":[
    {
     "data":{
      "text\/html":[
       
      ]
     },
     "metadata":{
      
     },
     "output_type":"display_data"
    }
   ],
   "metadata":{
    "datalore":{
     "type":"CODE",
     "hide_input_from_viewers":false,
     "hide_output_from_viewers":false
    }
   }
  },
  {
   "cell_type":"code",
   "source":[
    "N=y.sum()\n",
    "N"
   ],
   "execution_count":139,
   "outputs":[
    {
     "data":{
      "text\/plain":[
       "272"
      ]
     },
     "metadata":{
      
     },
     "output_type":"display_data"
    }
   ],
   "metadata":{
    "datalore":{
     "type":"CODE",
     "hide_input_from_viewers":false,
     "hide_output_from_viewers":false
    }
   }
  },
  {
   "cell_type":"code",
   "source":[
    "CItun=proportion_confint(count=y[0],nobs=N,alpha=(1-.95))\n",
    "CItun"
   ],
   "execution_count":140,
   "outputs":[
    {
     "data":{
      "text\/plain":[
       "(0.5222448180850877, 0.6395198877972653)"
      ]
     },
     "metadata":{
      
     },
     "output_type":"display_data"
    }
   ],
   "metadata":{
    "datalore":{
     "type":"CODE",
     "hide_input_from_viewers":false,
     "hide_output_from_viewers":false
    }
   }
  },
  {
   "cell_type":"markdown",
   "source":[
    "### 5) Oman"
   ],
   "attachments":{
    
   },
   "metadata":{
    "datalore":{
     "type":"MD",
     "hide_input_from_viewers":false,
     "hide_output_from_viewers":false
    }
   }
  },
  {
   "cell_type":"code",
   "source":[
    "dfNoneutralOMAN=df_noneutral[df_noneutral['country']=='Oman']\n",
    "dfNoneutralOMAN['result_home'].value_counts(normalize=True)"
   ],
   "execution_count":141,
   "outputs":[
    {
     "data":{
      "text\/html":[
       
      ]
     },
     "metadata":{
      
     },
     "output_type":"display_data"
    }
   ],
   "metadata":{
    "datalore":{
     "type":"CODE",
     "hide_input_from_viewers":false,
     "hide_output_from_viewers":false
    }
   }
  },
  {
   "cell_type":"code",
   "source":[
    "import statsmodels.api as sm\n",
    "from statsmodels.stats.proportion import proportion_confint\n",
    "y=dfNoneutralOMAN['result_home'].value_counts()\n",
    "y=np.array(y)\n",
    "y"
   ],
   "execution_count":142,
   "outputs":[
    {
     "data":{
      "text\/html":[
       
      ]
     },
     "metadata":{
      
     },
     "output_type":"display_data"
    }
   ],
   "metadata":{
    "datalore":{
     "type":"CODE",
     "hide_input_from_viewers":false,
     "hide_output_from_viewers":false
    }
   }
  },
  {
   "cell_type":"code",
   "source":[
    "N=y.sum()\n",
    "CIoman=proportion_confint(count=y[0],nobs=N,alpha=(1-.95))\n",
    "CIoman"
   ],
   "execution_count":143,
   "outputs":[
    {
     "data":{
      "text\/plain":[
       "(0.4307048087825161, 0.5692951912174838)"
      ]
     },
     "metadata":{
      
     },
     "output_type":"display_data"
    }
   ],
   "metadata":{
    "datalore":{
     "type":"CODE",
     "hide_input_from_viewers":false,
     "hide_output_from_viewers":false
    }
   }
  },
  {
   "cell_type":"markdown",
   "source":[
    "### 6) Comparing the Arab countries"
   ],
   "attachments":{
    
   },
   "metadata":{
    "datalore":{
     "type":"MD",
     "hide_input_from_viewers":false,
     "hide_output_from_viewers":false
    }
   }
  },
  {
   "cell_type":"code",
   "source":[
    "CIhomewinarab = {}\n",
    "CIhomewinarab['country'] = ['Egypt','Saudi Arabia','Kuwait','Tunisia','Oman']\n",
    "CIhomewinarab['lb'] = [CIegy[0],CIsa[0],CIkuw[0],CItun[0],CIoman[0]]\n",
    "CIhomewinarab['ub'] = [CIegy[1],CIsa[1],CIkuw[1],CItun[1],CIoman[1]]\n",
    "CIhomewinarab\n",
    "df_ci= pd.DataFrame(CIhomewinarab)\n",
    "df_ci"
   ],
   "execution_count":144,
   "outputs":[
    {
     "data":{
      "text\/html":[
       "<div>\n",
       "<style scoped>\n",
       "    .dataframe tbody tr th:only-of-type {\n",
       "        vertical-align: middle;\n",
       "    }\n",
       "\n",
       "    .dataframe tbody tr th {\n",
       "        vertical-align: top;\n",
       "    }\n",
       "\n",
       "    .dataframe thead th {\n",
       "        text-align: right;\n",
       "    }\n",
       "<\/style>\n",
       "<table border=\"1\" class=\"dataframe\">\n",
       "  <thead>\n",
       "    <tr style=\"text-align: right;\">\n",
       "      <th><\/th>\n",
       "      <th>country<\/th>\n",
       "      <th>lb<\/th>\n",
       "      <th>ub<\/th>\n",
       "    <\/tr>\n",
       "  <\/thead>\n",
       "  <tbody>\n",
       "    <tr>\n",
       "      <th>0<\/th>\n",
       "      <td>Egypt<\/td>\n",
       "      <td>0.605104<\/td>\n",
       "      <td>0.720477<\/td>\n",
       "    <\/tr>\n",
       "    <tr>\n",
       "      <th>1<\/th>\n",
       "      <td>Saudi Arabia<\/td>\n",
       "      <td>0.543742<\/td>\n",
       "      <td>0.660719<\/td>\n",
       "    <\/tr>\n",
       "    <tr>\n",
       "      <th>2<\/th>\n",
       "      <td>Kuwait<\/td>\n",
       "      <td>0.405067<\/td>\n",
       "      <td>0.534063<\/td>\n",
       "    <\/tr>\n",
       "    <tr>\n",
       "      <th>3<\/th>\n",
       "      <td>Tunisia<\/td>\n",
       "      <td>0.522245<\/td>\n",
       "      <td>0.639520<\/td>\n",
       "    <\/tr>\n",
       "    <tr>\n",
       "      <th>4<\/th>\n",
       "      <td>Oman<\/td>\n",
       "      <td>0.430705<\/td>\n",
       "      <td>0.569295<\/td>\n",
       "    <\/tr>\n",
       "  <\/tbody>\n",
       "<\/table>\n",
       "<\/div>"
      ]
     },
     "metadata":{
      
     },
     "output_type":"display_data"
    }
   ],
   "metadata":{
    "datalore":{
     "type":"CODE",
     "hide_input_from_viewers":false,
     "hide_output_from_viewers":false
    }
   }
  },
  {
   "cell_type":"code",
   "source":[
    "import matplotlib.pyplot as plt\n",
    "for lb,ub,y in zip(df_ci['lb'],df_ci['ub'],range(len(df_ci))):\n",
    "    plt.plot((lb,ub),(y,y),'ro-')\n",
    "plt.yticks(range(len(df_ci)),list(df_ci['country']))"
   ],
   "execution_count":145,
   "outputs":[
    {
     "data":{
      "text\/plain":[
       "([<matplotlib.axis.YTick at 0x7f190fc97970>,\n",
       "  <matplotlib.axis.YTick at 0x7f190fc971f0>,\n",
       "  <matplotlib.axis.YTick at 0x7f190fc91130>,\n",
       "  <matplotlib.axis.YTick at 0x7f190fc4c1f0>,\n",
       "  <matplotlib.axis.YTick at 0x7f190fc4c940>],\n",
       " [Text(0, 0, 'Egypt'),\n",
       "  Text(0, 1, 'Saudi Arabia'),\n",
       "  Text(0, 2, 'Kuwait'),\n",
       "  Text(0, 3, 'Tunisia'),\n",
       "  Text(0, 4, 'Oman')])"
      ],
      "image\/png":"[encoded data removed]"
     },
     "metadata":{
      "image\/png":{
       
      }
     },
     "output_type":"display_data"
    }
   ],
   "metadata":{
    "datalore":{
     "type":"CODE",
     "hide_input_from_viewers":false,
     "hide_output_from_viewers":false
    }
   }
  },
  {
   "cell_type":"markdown",
   "source":[
    "**The above graph gives a visualization of the 95% confidence intervals of the 5 Arab countries (Egypt, Saudi Arabia, Kuwait, Tunisia, and Oman). It can help us compare the probabilities of these teams winning matches in their home country. It can be seen that the intervals have close wideness, which means that the countries have a close amount of variation in the data.**\n",
    "\n",
    "**There are many overlaps in the graph. This means that the confidence intervals that overlap do not have a statistically significant difference. For instance, Saudi Arabia and Tunis almost fully overlap, with Saudi Arabia having slightly larger upper and lower bounds. we can infer that the chance of these 2 countries winning as home teams would be extremely close.**\n",
    "\n",
    "**The same can also be said about Kuwait and Oman. They both have the lowest intervals, and a big part of the interval overlaps (less than the overlap of Saudi Arabia and Tunisia). Which also means that there is a low statistical significance between the chances of both countries winning. Lastly, Egypt shows an overlap with Tunisia and Saudi Arabia.**\n",
    "\n",
    "**The only 2 countries which do not slightly overlap are Egypt and Kuwait. This suggests that there is a significant statistical difference between both intervals and that Egypt has a higher probability of winning a match as a home team.**\n",
    "\n",
    "## Conclusion:\n",
    "\n",
    "**Egypt seems to have the highest upper and lower bounds. This means that from these 5 Arab countries, Egypt has the highest probability of winning matches where it's the home team. Following Egypt is Saudi Arabia, then Tunisia, then Oman, then Kuwait because both the upper and lower bounds decrease in that order of countries. We can conclude that Egypt has the highest probability of winning (from these Arab countries), whereas Kuwait has the least probability.**\n",
    "\n",
    "**Generally, in order for a country to have advantage over the opposing team in football matches, it should play as the home team. That is because the home team fans will certainly surpass the number of away team fans; and the players get positive influence from the presence of their fans. Also, playing at home eliminates the fatigue of players traveling to another country and it leaves the players playing in a familiar condition, which would also improve the team's performance and score. Explaining why countries have a higher probability of winning when playing in their home country.**"
   ],
   "attachments":{
    
   },
   "metadata":{
    "datalore":{
     "type":"MD",
     "hide_input_from_viewers":false,
     "hide_output_from_viewers":false
    }
   }
  },
  {
   "cell_type":"markdown",
   "source":[
    "# Part 2: Covid-19 cases"
   ],
   "attachments":{
    
   },
   "metadata":{
    "datalore":{
     "type":"MD",
     "hide_input_from_viewers":false,
     "hide_output_from_viewers":false
    }
   }
  },
  {
   "cell_type":"markdown",
   "source":[
    "## **Abstract** \n",
    "\n",
    "In this part, the dataset \"Covid_data.csv\" is used. The data shows the daily number of Covid cases and deaths in 187 countries for the years 2020 and 2021. It also shows the income level of each country along with its region and continent. First, how the number of cases and deaths changed in the world as time passed.  Then, the death to cases ratio (fatality rate) will be analyzed in the 187 countries and in China, as it is the source of the pandemic. Also, it was attempted to analyze the effect of the region, income, and continent on the daily Covid cases and deaths in 2020 and 2021.\n",
    "\n",
    "It was concluded that there were 4 waves (increases) of Covid-19 cases followed by 3 waves of increases in the number of deaths, and the number of cases was almost always more than the number of deaths. The fatality rate was around 2.5 to 3 percent worldwide. The average daily cases are higher in high income countries, Europe, and North America. There are more Covid-19 cases in 2021 than in 2020.\n"
   ],
   "attachments":{
    
   },
   "metadata":{
    "datalore":{
     "type":"MD",
     "hide_input_from_viewers":false,
     "hide_output_from_viewers":false
    }
   }
  },
  {
   "cell_type":"code",
   "source":[
    "import pandas as pd\n",
    "df= pd.read_csv('covid_data.csv',encoding='latin-1')"
   ],
   "execution_count":146,
   "outputs":[
    
   ],
   "metadata":{
    "datalore":{
     "type":"CODE",
     "hide_input_from_viewers":false,
     "hide_output_from_viewers":false
    }
   }
  },
  {
   "cell_type":"code",
   "source":[
    "df"
   ],
   "execution_count":147,
   "outputs":[
    {
     "data":{
      "text\/html":[
       "<div>\n",
       "<style scoped>\n",
       "    .dataframe tbody tr th:only-of-type {\n",
       "        vertical-align: middle;\n",
       "    }\n",
       "\n",
       "    .dataframe tbody tr th {\n",
       "        vertical-align: top;\n",
       "    }\n",
       "\n",
       "    .dataframe thead th {\n",
       "        text-align: right;\n",
       "    }\n",
       "<\/style>\n",
       "<table border=\"1\" class=\"dataframe\">\n",
       "  <thead>\n",
       "    <tr style=\"text-align: right;\">\n",
       "      <th><\/th>\n",
       "      <th>date<\/th>\n",
       "      <th>iso3c<\/th>\n",
       "      <th>country<\/th>\n",
       "      <th>income<\/th>\n",
       "      <th>region<\/th>\n",
       "      <th>continent<\/th>\n",
       "      <th>dcases<\/th>\n",
       "      <th>ddeaths<\/th>\n",
       "      <th>population<\/th>\n",
       "      <th>weekdays<\/th>\n",
       "      <th>month<\/th>\n",
       "    <\/tr>\n",
       "  <\/thead>\n",
       "  <tbody>\n",
       "    <tr>\n",
       "      <th>0<\/th>\n",
       "      <td>2020-02-24<\/td>\n",
       "      <td>AFG<\/td>\n",
       "      <td>Afghanistan<\/td>\n",
       "      <td>Low income<\/td>\n",
       "      <td>South Asia<\/td>\n",
       "      <td>Asia<\/td>\n",
       "      <td>5<\/td>\n",
       "      <td>0<\/td>\n",
       "      <td>38041754<\/td>\n",
       "      <td>Mon<\/td>\n",
       "      <td>Feb<\/td>\n",
       "    <\/tr>\n",
       "    <tr>\n",
       "      <th>1<\/th>\n",
       "      <td>2020-02-25<\/td>\n",
       "      <td>AFG<\/td>\n",
       "      <td>Afghanistan<\/td>\n",
       "      <td>Low income<\/td>\n",
       "      <td>South Asia<\/td>\n",
       "      <td>Asia<\/td>\n",
       "      <td>0<\/td>\n",
       "      <td>0<\/td>\n",
       "      <td>38041754<\/td>\n",
       "      <td>Tue<\/td>\n",
       "      <td>Feb<\/td>\n",
       "    <\/tr>\n",
       "    <tr>\n",
       "      <th>2<\/th>\n",
       "      <td>2020-02-26<\/td>\n",
       "      <td>AFG<\/td>\n",
       "      <td>Afghanistan<\/td>\n",
       "      <td>Low income<\/td>\n",
       "      <td>South Asia<\/td>\n",
       "      <td>Asia<\/td>\n",
       "      <td>0<\/td>\n",
       "      <td>0<\/td>\n",
       "      <td>38041754<\/td>\n",
       "      <td>Wed<\/td>\n",
       "      <td>Feb<\/td>\n",
       "    <\/tr>\n",
       "    <tr>\n",
       "      <th>3<\/th>\n",
       "      <td>2020-02-27<\/td>\n",
       "      <td>AFG<\/td>\n",
       "      <td>Afghanistan<\/td>\n",
       "      <td>Low income<\/td>\n",
       "      <td>South Asia<\/td>\n",
       "      <td>Asia<\/td>\n",
       "      <td>0<\/td>\n",
       "      <td>0<\/td>\n",
       "      <td>38041754<\/td>\n",
       "      <td>Thu<\/td>\n",
       "      <td>Feb<\/td>\n",
       "    <\/tr>\n",
       "    <tr>\n",
       "      <th>4<\/th>\n",
       "      <td>2020-02-28<\/td>\n",
       "      <td>AFG<\/td>\n",
       "      <td>Afghanistan<\/td>\n",
       "      <td>Low income<\/td>\n",
       "      <td>South Asia<\/td>\n",
       "      <td>Asia<\/td>\n",
       "      <td>0<\/td>\n",
       "      <td>0<\/td>\n",
       "      <td>38041754<\/td>\n",
       "      <td>Fri<\/td>\n",
       "      <td>Feb<\/td>\n",
       "    <\/tr>\n",
       "    <tr>\n",
       "      <th>...<\/th>\n",
       "      <td>...<\/td>\n",
       "      <td>...<\/td>\n",
       "      <td>...<\/td>\n",
       "      <td>...<\/td>\n",
       "      <td>...<\/td>\n",
       "      <td>...<\/td>\n",
       "      <td>...<\/td>\n",
       "      <td>...<\/td>\n",
       "      <td>...<\/td>\n",
       "      <td>...<\/td>\n",
       "      <td>...<\/td>\n",
       "    <\/tr>\n",
       "    <tr>\n",
       "      <th>122838<\/th>\n",
       "      <td>2021-12-27<\/td>\n",
       "      <td>ZWE<\/td>\n",
       "      <td>Zimbabwe<\/td>\n",
       "      <td>Lower middle income<\/td>\n",
       "      <td>Sub-Saharan Africa<\/td>\n",
       "      <td>Africa<\/td>\n",
       "      <td>1098<\/td>\n",
       "      <td>17<\/td>\n",
       "      <td>14645468<\/td>\n",
       "      <td>Mon<\/td>\n",
       "      <td>Dec<\/td>\n",
       "    <\/tr>\n",
       "    <tr>\n",
       "      <th>122839<\/th>\n",
       "      <td>2021-12-28<\/td>\n",
       "      <td>ZWE<\/td>\n",
       "      <td>Zimbabwe<\/td>\n",
       "      <td>Lower middle income<\/td>\n",
       "      <td>Sub-Saharan Africa<\/td>\n",
       "      <td>Africa<\/td>\n",
       "      <td>2099<\/td>\n",
       "      <td>32<\/td>\n",
       "      <td>14645468<\/td>\n",
       "      <td>Tue<\/td>\n",
       "      <td>Dec<\/td>\n",
       "    <\/tr>\n",
       "    <tr>\n",
       "      <th>122840<\/th>\n",
       "      <td>2021-12-29<\/td>\n",
       "      <td>ZWE<\/td>\n",
       "      <td>Zimbabwe<\/td>\n",
       "      <td>Lower middle income<\/td>\n",
       "      <td>Sub-Saharan Africa<\/td>\n",
       "      <td>Africa<\/td>\n",
       "      <td>0<\/td>\n",
       "      <td>0<\/td>\n",
       "      <td>14645468<\/td>\n",
       "      <td>Wed<\/td>\n",
       "      <td>Dec<\/td>\n",
       "    <\/tr>\n",
       "    <tr>\n",
       "      <th>122841<\/th>\n",
       "      <td>2021-12-30<\/td>\n",
       "      <td>ZWE<\/td>\n",
       "      <td>Zimbabwe<\/td>\n",
       "      <td>Lower middle income<\/td>\n",
       "      <td>Sub-Saharan Africa<\/td>\n",
       "      <td>Africa<\/td>\n",
       "      <td>4180<\/td>\n",
       "      <td>57<\/td>\n",
       "      <td>14645468<\/td>\n",
       "      <td>Thu<\/td>\n",
       "      <td>Dec<\/td>\n",
       "    <\/tr>\n",
       "    <tr>\n",
       "      <th>122842<\/th>\n",
       "      <td>2021-12-31<\/td>\n",
       "      <td>ZWE<\/td>\n",
       "      <td>Zimbabwe<\/td>\n",
       "      <td>Lower middle income<\/td>\n",
       "      <td>Sub-Saharan Africa<\/td>\n",
       "      <td>Africa<\/td>\n",
       "      <td>1530<\/td>\n",
       "      <td>7<\/td>\n",
       "      <td>14645468<\/td>\n",
       "      <td>Fri<\/td>\n",
       "      <td>Dec<\/td>\n",
       "    <\/tr>\n",
       "  <\/tbody>\n",
       "<\/table>\n",
       "<p>122843 rows × 11 columns<\/p>\n",
       "<\/div>"
      ]
     },
     "metadata":{
      
     },
     "output_type":"display_data"
    }
   ],
   "metadata":{
    "datalore":{
     "type":"CODE",
     "hide_input_from_viewers":false,
     "hide_output_from_viewers":false
    }
   }
  },
  {
   "cell_type":"markdown",
   "source":[
    "We want to first create a function that can find the upper and lower bounds of confidence intervals, in order to facilitate the process."
   ],
   "attachments":{
    
   },
   "metadata":{
    "datalore":{
     "type":"MD",
     "hide_input_from_viewers":false,
     "hide_output_from_viewers":false
    }
   }
  },
  {
   "cell_type":"code",
   "source":[
    "from scipy import stats\n",
    "from scipy.stats import norm,t"
   ],
   "execution_count":148,
   "outputs":[
    
   ],
   "metadata":{
    "datalore":{
     "type":"CODE",
     "hide_input_from_viewers":false,
     "hide_output_from_viewers":false
    }
   }
  },
  {
   "cell_type":"code",
   "source":[
    "def get_ci_lb(x, alpha=0.05):\n",
    "    sample_s=np.std(x)\n",
    "    sample_mean=np.mean(x)\n",
    "    sample_size=len(x)\n",
    "    margin_of_error = t.ppf(1 - alpha\/2,sample_size-1)*sample_s\/np.sqrt(sample_size-1)\n",
    "    return sample_mean - margin_of_error"
   ],
   "execution_count":149,
   "outputs":[
    
   ],
   "metadata":{
    "datalore":{
     "type":"CODE",
     "hide_input_from_viewers":false,
     "hide_output_from_viewers":false
    }
   }
  },
  {
   "cell_type":"code",
   "source":[
    "def get_ci_ub(x, alpha=0.05):\n",
    "    sample_s=np.std(x)\n",
    "    sample_mean=np.mean(x)\n",
    "    sample_size=len(x)\n",
    "    margin_of_error = t.ppf(1 - alpha\/2,sample_size-1)*sample_s\/np.sqrt(sample_size-1)\n",
    "    return sample_mean + margin_of_error"
   ],
   "execution_count":150,
   "outputs":[
    
   ],
   "metadata":{
    "datalore":{
     "type":"CODE",
     "hide_input_from_viewers":false,
     "hide_output_from_viewers":false
    }
   }
  },
  {
   "cell_type":"markdown",
   "source":[
    "## 1. Statistical analysis of changes in the total number of cases and deaths as time passes in 187 countries."
   ],
   "attachments":{
    
   },
   "metadata":{
    "datalore":{
     "type":"MD",
     "hide_input_from_viewers":false,
     "hide_output_from_viewers":false
    }
   }
  },
  {
   "cell_type":"code",
   "source":[
    "import numpy as np\n",
    "import pandas as pd"
   ],
   "execution_count":151,
   "outputs":[
    
   ],
   "metadata":{
    "datalore":{
     "type":"CODE",
     "hide_input_from_viewers":false,
     "hide_output_from_viewers":false
    }
   }
  },
  {
   "cell_type":"code",
   "source":[
    "statsDATE=df.groupby(\"date\").agg({\"dcases\": [np.sum, np.mean, np.std, np.size,]}) # Creating the data that will help us plot a graph that illustrates the changes in the number of cases\n",
    "statsDATE # This is the data which has the total daily number of cases"
   ],
   "execution_count":152,
   "outputs":[
    {
     "data":{
      "text\/html":[
       "<div>\n",
       "<style scoped>\n",
       "    .dataframe tbody tr th:only-of-type {\n",
       "        vertical-align: middle;\n",
       "    }\n",
       "\n",
       "    .dataframe tbody tr th {\n",
       "        vertical-align: top;\n",
       "    }\n",
       "\n",
       "    .dataframe thead tr th {\n",
       "        text-align: left;\n",
       "    }\n",
       "\n",
       "    .dataframe thead tr:last-of-type th {\n",
       "        text-align: right;\n",
       "    }\n",
       "<\/style>\n",
       "<table border=\"1\" class=\"dataframe\">\n",
       "  <thead>\n",
       "    <tr>\n",
       "      <th><\/th>\n",
       "      <th colspan=\"4\" halign=\"left\">dcases<\/th>\n",
       "    <\/tr>\n",
       "    <tr>\n",
       "      <th><\/th>\n",
       "      <th>sum<\/th>\n",
       "      <th>mean<\/th>\n",
       "      <th>std<\/th>\n",
       "      <th>size<\/th>\n",
       "    <\/tr>\n",
       "    <tr>\n",
       "      <th>date<\/th>\n",
       "      <th><\/th>\n",
       "      <th><\/th>\n",
       "      <th><\/th>\n",
       "      <th><\/th>\n",
       "    <\/tr>\n",
       "  <\/thead>\n",
       "  <tbody>\n",
       "    <tr>\n",
       "      <th>2020-01-22<\/th>\n",
       "      <td>556<\/td>\n",
       "      <td>111.200000<\/td>\n",
       "      <td>244.181695<\/td>\n",
       "      <td>5<\/td>\n",
       "    <\/tr>\n",
       "    <tr>\n",
       "      <th>2020-01-23<\/th>\n",
       "      <td>100<\/td>\n",
       "      <td>12.500000<\/td>\n",
       "      <td>33.346664<\/td>\n",
       "      <td>8<\/td>\n",
       "    <\/tr>\n",
       "    <tr>\n",
       "      <th>2020-01-24<\/th>\n",
       "      <td>285<\/td>\n",
       "      <td>31.666667<\/td>\n",
       "      <td>92.002717<\/td>\n",
       "      <td>9<\/td>\n",
       "    <\/tr>\n",
       "    <tr>\n",
       "      <th>2020-01-25<\/th>\n",
       "      <td>493<\/td>\n",
       "      <td>44.818182<\/td>\n",
       "      <td>146.328274<\/td>\n",
       "      <td>11<\/td>\n",
       "    <\/tr>\n",
       "    <tr>\n",
       "      <th>2020-01-26<\/th>\n",
       "      <td>682<\/td>\n",
       "      <td>56.833333<\/td>\n",
       "      <td>192.787133<\/td>\n",
       "      <td>12<\/td>\n",
       "    <\/tr>\n",
       "    <tr>\n",
       "      <th>...<\/th>\n",
       "      <td>...<\/td>\n",
       "      <td>...<\/td>\n",
       "      <td>...<\/td>\n",
       "      <td>...<\/td>\n",
       "    <\/tr>\n",
       "    <tr>\n",
       "      <th>2021-12-27<\/th>\n",
       "      <td>1281192<\/td>\n",
       "      <td>6851.294118<\/td>\n",
       "      <td>41261.650149<\/td>\n",
       "      <td>187<\/td>\n",
       "    <\/tr>\n",
       "    <tr>\n",
       "      <th>2021-12-28<\/th>\n",
       "      <td>1330998<\/td>\n",
       "      <td>7117.636364<\/td>\n",
       "      <td>32216.866272<\/td>\n",
       "      <td>187<\/td>\n",
       "    <\/tr>\n",
       "    <tr>\n",
       "      <th>2021-12-29<\/th>\n",
       "      <td>1724167<\/td>\n",
       "      <td>9220.144385<\/td>\n",
       "      <td>43179.093930<\/td>\n",
       "      <td>187<\/td>\n",
       "    <\/tr>\n",
       "    <tr>\n",
       "      <th>2021-12-30<\/th>\n",
       "      <td>1940432<\/td>\n",
       "      <td>10376.641711<\/td>\n",
       "      <td>49932.947023<\/td>\n",
       "      <td>187<\/td>\n",
       "    <\/tr>\n",
       "    <tr>\n",
       "      <th>2021-12-31<\/th>\n",
       "      <td>1714926<\/td>\n",
       "      <td>9170.727273<\/td>\n",
       "      <td>44126.962602<\/td>\n",
       "      <td>187<\/td>\n",
       "    <\/tr>\n",
       "  <\/tbody>\n",
       "<\/table>\n",
       "<p>710 rows × 4 columns<\/p>\n",
       "<\/div>"
      ]
     },
     "metadata":{
      
     },
     "output_type":"display_data"
    }
   ],
   "metadata":{
    "datalore":{
     "type":"CODE",
     "hide_input_from_viewers":false,
     "hide_output_from_viewers":false
    }
   }
  },
  {
   "cell_type":"code",
   "source":[
    "statsDATEdf=pd.DataFrame(statsDATE['dcases'])\n",
    "statsDATEdf.columns=['total', 'mean','std','size']\n",
    "statsDATEdf['date']=statsDATEdf.index"
   ],
   "execution_count":153,
   "outputs":[
    
   ],
   "metadata":{
    "datalore":{
     "type":"CODE",
     "hide_input_from_viewers":false,
     "hide_output_from_viewers":false
    }
   }
  },
  {
   "cell_type":"code",
   "source":[
    "statsDATEdf['date']=statsDATEdf.index"
   ],
   "execution_count":154,
   "outputs":[
    
   ],
   "metadata":{
    "datalore":{
     "type":"CODE",
     "hide_input_from_viewers":false,
     "hide_output_from_viewers":false
    }
   }
  },
  {
   "cell_type":"code",
   "source":[
    "statsDATEdf"
   ],
   "execution_count":155,
   "outputs":[
    {
     "data":{
      "text\/html":[
       "<div>\n",
       "<style scoped>\n",
       "    .dataframe tbody tr th:only-of-type {\n",
       "        vertical-align: middle;\n",
       "    }\n",
       "\n",
       "    .dataframe tbody tr th {\n",
       "        vertical-align: top;\n",
       "    }\n",
       "\n",
       "    .dataframe thead th {\n",
       "        text-align: right;\n",
       "    }\n",
       "<\/style>\n",
       "<table border=\"1\" class=\"dataframe\">\n",
       "  <thead>\n",
       "    <tr style=\"text-align: right;\">\n",
       "      <th><\/th>\n",
       "      <th>total<\/th>\n",
       "      <th>mean<\/th>\n",
       "      <th>std<\/th>\n",
       "      <th>size<\/th>\n",
       "      <th>date<\/th>\n",
       "    <\/tr>\n",
       "    <tr>\n",
       "      <th>date<\/th>\n",
       "      <th><\/th>\n",
       "      <th><\/th>\n",
       "      <th><\/th>\n",
       "      <th><\/th>\n",
       "      <th><\/th>\n",
       "    <\/tr>\n",
       "  <\/thead>\n",
       "  <tbody>\n",
       "    <tr>\n",
       "      <th>2020-01-22<\/th>\n",
       "      <td>556<\/td>\n",
       "      <td>111.200000<\/td>\n",
       "      <td>244.181695<\/td>\n",
       "      <td>5<\/td>\n",
       "      <td>2020-01-22<\/td>\n",
       "    <\/tr>\n",
       "    <tr>\n",
       "      <th>2020-01-23<\/th>\n",
       "      <td>100<\/td>\n",
       "      <td>12.500000<\/td>\n",
       "      <td>33.346664<\/td>\n",
       "      <td>8<\/td>\n",
       "      <td>2020-01-23<\/td>\n",
       "    <\/tr>\n",
       "    <tr>\n",
       "      <th>2020-01-24<\/th>\n",
       "      <td>285<\/td>\n",
       "      <td>31.666667<\/td>\n",
       "      <td>92.002717<\/td>\n",
       "      <td>9<\/td>\n",
       "      <td>2020-01-24<\/td>\n",
       "    <\/tr>\n",
       "    <tr>\n",
       "      <th>2020-01-25<\/th>\n",
       "      <td>493<\/td>\n",
       "      <td>44.818182<\/td>\n",
       "      <td>146.328274<\/td>\n",
       "      <td>11<\/td>\n",
       "      <td>2020-01-25<\/td>\n",
       "    <\/tr>\n",
       "    <tr>\n",
       "      <th>2020-01-26<\/th>\n",
       "      <td>682<\/td>\n",
       "      <td>56.833333<\/td>\n",
       "      <td>192.787133<\/td>\n",
       "      <td>12<\/td>\n",
       "      <td>2020-01-26<\/td>\n",
       "    <\/tr>\n",
       "    <tr>\n",
       "      <th>...<\/th>\n",
       "      <td>...<\/td>\n",
       "      <td>...<\/td>\n",
       "      <td>...<\/td>\n",
       "      <td>...<\/td>\n",
       "      <td>...<\/td>\n",
       "    <\/tr>\n",
       "    <tr>\n",
       "      <th>2021-12-27<\/th>\n",
       "      <td>1281192<\/td>\n",
       "      <td>6851.294118<\/td>\n",
       "      <td>41261.650149<\/td>\n",
       "      <td>187<\/td>\n",
       "      <td>2021-12-27<\/td>\n",
       "    <\/tr>\n",
       "    <tr>\n",
       "      <th>2021-12-28<\/th>\n",
       "      <td>1330998<\/td>\n",
       "      <td>7117.636364<\/td>\n",
       "      <td>32216.866272<\/td>\n",
       "      <td>187<\/td>\n",
       "      <td>2021-12-28<\/td>\n",
       "    <\/tr>\n",
       "    <tr>\n",
       "      <th>2021-12-29<\/th>\n",
       "      <td>1724167<\/td>\n",
       "      <td>9220.144385<\/td>\n",
       "      <td>43179.093930<\/td>\n",
       "      <td>187<\/td>\n",
       "      <td>2021-12-29<\/td>\n",
       "    <\/tr>\n",
       "    <tr>\n",
       "      <th>2021-12-30<\/th>\n",
       "      <td>1940432<\/td>\n",
       "      <td>10376.641711<\/td>\n",
       "      <td>49932.947023<\/td>\n",
       "      <td>187<\/td>\n",
       "      <td>2021-12-30<\/td>\n",
       "    <\/tr>\n",
       "    <tr>\n",
       "      <th>2021-12-31<\/th>\n",
       "      <td>1714926<\/td>\n",
       "      <td>9170.727273<\/td>\n",
       "      <td>44126.962602<\/td>\n",
       "      <td>187<\/td>\n",
       "      <td>2021-12-31<\/td>\n",
       "    <\/tr>\n",
       "  <\/tbody>\n",
       "<\/table>\n",
       "<p>710 rows × 5 columns<\/p>\n",
       "<\/div>"
      ]
     },
     "metadata":{
      
     },
     "output_type":"display_data"
    }
   ],
   "metadata":{
    "datalore":{
     "type":"CODE",
     "hide_input_from_viewers":false,
     "hide_output_from_viewers":false
    }
   }
  },
  {
   "cell_type":"code",
   "source":[
    "statsDATE2=df.groupby(\"date\").agg({\"ddeaths\": [np.sum, np.mean, np.std, np.size,]}) # The data that has the average daily number of deaths"
   ],
   "execution_count":156,
   "outputs":[
    
   ],
   "metadata":{
    "datalore":{
     "type":"CODE",
     "hide_input_from_viewers":false,
     "hide_output_from_viewers":false
    }
   }
  },
  {
   "cell_type":"code",
   "source":[
    "statsDATE2df=pd.DataFrame(statsDATE2['ddeaths'])\n",
    "statsDATE2df.columns=['total','mean','std','size']\n",
    "statsDATE2df['date']=statsDATE2df.index"
   ],
   "execution_count":157,
   "outputs":[
    
   ],
   "metadata":{
    "datalore":{
     "type":"CODE",
     "hide_input_from_viewers":false,
     "hide_output_from_viewers":false
    }
   }
  },
  {
   "cell_type":"code",
   "source":[
    "statsDATE2df"
   ],
   "execution_count":158,
   "outputs":[
    {
     "data":{
      "text\/html":[
       "<div>\n",
       "<style scoped>\n",
       "    .dataframe tbody tr th:only-of-type {\n",
       "        vertical-align: middle;\n",
       "    }\n",
       "\n",
       "    .dataframe tbody tr th {\n",
       "        vertical-align: top;\n",
       "    }\n",
       "\n",
       "    .dataframe thead th {\n",
       "        text-align: right;\n",
       "    }\n",
       "<\/style>\n",
       "<table border=\"1\" class=\"dataframe\">\n",
       "  <thead>\n",
       "    <tr style=\"text-align: right;\">\n",
       "      <th><\/th>\n",
       "      <th>total<\/th>\n",
       "      <th>mean<\/th>\n",
       "      <th>std<\/th>\n",
       "      <th>size<\/th>\n",
       "      <th>date<\/th>\n",
       "    <\/tr>\n",
       "    <tr>\n",
       "      <th>date<\/th>\n",
       "      <th><\/th>\n",
       "      <th><\/th>\n",
       "      <th><\/th>\n",
       "      <th><\/th>\n",
       "      <th><\/th>\n",
       "    <\/tr>\n",
       "  <\/thead>\n",
       "  <tbody>\n",
       "    <tr>\n",
       "      <th>2020-01-22<\/th>\n",
       "      <td>17<\/td>\n",
       "      <td>3.400000<\/td>\n",
       "      <td>7.602631<\/td>\n",
       "      <td>5<\/td>\n",
       "      <td>2020-01-22<\/td>\n",
       "    <\/tr>\n",
       "    <tr>\n",
       "      <th>2020-01-23<\/th>\n",
       "      <td>1<\/td>\n",
       "      <td>0.125000<\/td>\n",
       "      <td>0.353553<\/td>\n",
       "      <td>8<\/td>\n",
       "      <td>2020-01-23<\/td>\n",
       "    <\/tr>\n",
       "    <tr>\n",
       "      <th>2020-01-24<\/th>\n",
       "      <td>8<\/td>\n",
       "      <td>0.888889<\/td>\n",
       "      <td>2.666667<\/td>\n",
       "      <td>9<\/td>\n",
       "      <td>2020-01-24<\/td>\n",
       "    <\/tr>\n",
       "    <tr>\n",
       "      <th>2020-01-25<\/th>\n",
       "      <td>16<\/td>\n",
       "      <td>1.454545<\/td>\n",
       "      <td>4.824182<\/td>\n",
       "      <td>11<\/td>\n",
       "      <td>2020-01-25<\/td>\n",
       "    <\/tr>\n",
       "    <tr>\n",
       "      <th>2020-01-26<\/th>\n",
       "      <td>14<\/td>\n",
       "      <td>1.166667<\/td>\n",
       "      <td>4.041452<\/td>\n",
       "      <td>12<\/td>\n",
       "      <td>2020-01-26<\/td>\n",
       "    <\/tr>\n",
       "    <tr>\n",
       "      <th>...<\/th>\n",
       "      <td>...<\/td>\n",
       "      <td>...<\/td>\n",
       "      <td>...<\/td>\n",
       "      <td>...<\/td>\n",
       "      <td>...<\/td>\n",
       "    <\/tr>\n",
       "    <tr>\n",
       "      <th>2021-12-27<\/th>\n",
       "      <td>6726<\/td>\n",
       "      <td>35.967914<\/td>\n",
       "      <td>161.704293<\/td>\n",
       "      <td>187<\/td>\n",
       "      <td>2021-12-27<\/td>\n",
       "    <\/tr>\n",
       "    <tr>\n",
       "      <th>2021-12-28<\/th>\n",
       "      <td>7478<\/td>\n",
       "      <td>39.989305<\/td>\n",
       "      <td>195.229614<\/td>\n",
       "      <td>187<\/td>\n",
       "      <td>2021-12-28<\/td>\n",
       "    <\/tr>\n",
       "    <tr>\n",
       "      <th>2021-12-29<\/th>\n",
       "      <td>8037<\/td>\n",
       "      <td>42.978610<\/td>\n",
       "      <td>197.903663<\/td>\n",
       "      <td>187<\/td>\n",
       "      <td>2021-12-29<\/td>\n",
       "    <\/tr>\n",
       "    <tr>\n",
       "      <th>2021-12-30<\/th>\n",
       "      <td>7572<\/td>\n",
       "      <td>40.491979<\/td>\n",
       "      <td>149.155053<\/td>\n",
       "      <td>187<\/td>\n",
       "      <td>2021-12-30<\/td>\n",
       "    <\/tr>\n",
       "    <tr>\n",
       "      <th>2021-12-31<\/th>\n",
       "      <td>6593<\/td>\n",
       "      <td>35.256684<\/td>\n",
       "      <td>113.666454<\/td>\n",
       "      <td>187<\/td>\n",
       "      <td>2021-12-31<\/td>\n",
       "    <\/tr>\n",
       "  <\/tbody>\n",
       "<\/table>\n",
       "<p>710 rows × 5 columns<\/p>\n",
       "<\/div>"
      ]
     },
     "metadata":{
      
     },
     "output_type":"display_data"
    }
   ],
   "metadata":{
    "datalore":{
     "type":"CODE",
     "hide_input_from_viewers":false,
     "hide_output_from_viewers":false
    }
   }
  },
  {
   "cell_type":"markdown",
   "source":[
    "**We now have the two datasets that would help us create a scatter plot to understand the pattern of the changes in the number of Covid cases and deaths**"
   ],
   "attachments":{
    
   },
   "metadata":{
    "datalore":{
     "type":"MD",
     "hide_input_from_viewers":false,
     "hide_output_from_viewers":false
    }
   }
  },
  {
   "cell_type":"code",
   "source":[
    "import matplotlib.pyplot as plt"
   ],
   "execution_count":159,
   "outputs":[
    
   ],
   "metadata":{
    "datalore":{
     "type":"CODE",
     "hide_input_from_viewers":false,
     "hide_output_from_viewers":false
    }
   }
  },
  {
   "cell_type":"code",
   "source":[
    "plt.plot( 'date', 'total', data=statsDATEdf, marker='.', color='blue', markersize=3,     linewidth=1, linestyle='--')\n",
    "plt.plot( 'date', 'total', data=statsDATE2df, marker='.', color='red', markersize=3,     linewidth=1, linestyle='--')\n",
    "\n",
    "plt.xlabel(\"Date\")\n",
    "plt.ylabel(\"Number of people\")\n",
    "plt.title(\"Total daily covid cases and deaths as time passes (worldwide)\")\n",
    "plt.legend(['cases','deaths'])\n",
    "plt.show()"
   ],
   "execution_count":160,
   "outputs":[
    {
     "data":{
      "image\/png":"[encoded data removed]"
     },
     "metadata":{
      "image\/png":{
       
      }
     },
     "output_type":"display_data"
    }
   ],
   "metadata":{
    "datalore":{
     "type":"CODE",
     "hide_input_from_viewers":false,
     "hide_output_from_viewers":false
    }
   }
  },
  {
   "cell_type":"markdown",
   "source":[
    "**The above graph is a scatter plot which represents the daily number of Covid-19 cases and deaths. The blue plot represents the cases, whereas the red one represents the number of deaths.** \n",
    "\n",
    "**When observing the average number of daily cases (blue), it can be seen that as the 2 years (from 2020 till the end of 2021) passed, there have been variations in the daily number of reported cases. 4 different maximum points can be seen; these 4 curves shown suggest that there were 4 waves of Covid-19. A wave represents a time when the spread of Covid was rapid, which leads to the increase in the number of daily cases. The 4th wave seems to start at the beginning of the year 2022, which explains why only the half of the wave is shown in the graph, as the data collection ended by the end of 2021. It can be seen that the time between each wave is consistent (when a certain amount of time passes after a wave, a new one starts).**\n",
    "\n",
    "**It is important to note that these numbers are surely an inaccurate representation of the number of cases and deaths. That is because not all cases are reported and recorded; which implies that the data is underestimating the total number of daily cases.**\n",
    "\n",
    "**When looking at the number of daily deaths and comparing it to the number of cases, the number of daily deaths is much smaller, which may suggest that a relatively small proportion of people included in the number of cases has died from the virus.** \n",
    "\n",
    "**Lastly, it seems like the daily number of deaths caused by Covid-19 is consistent because the red plot looks like a straight line with no (or minimal) variations and curves. However, this conclusion cannot be made without having a closer look on the plot of the number of deaths.** "
   ],
   "attachments":{
    
   },
   "metadata":{
    "datalore":{
     "type":"MD",
     "hide_input_from_viewers":false,
     "hide_output_from_viewers":false
    }
   }
  },
  {
   "cell_type":"code",
   "source":[
    "#creating a plot with noly the daily death number to see the graph up close and understand the trend.\n",
    "\n",
    "plt.plot( 'date', 'total', data=statsDATE2df, marker='.', color='red', markersize=3,     linewidth=1, linestyle='--')\n",
    "\n",
    "plt.xlabel(\"Date\")\n",
    "plt.ylabel(\"Number of people\")\n",
    "plt.title(\"Total daily covid deaths as time passes (worldwide)\")\n",
    "plt.legend(['deaths'])\n",
    "plt.show()"
   ],
   "execution_count":161,
   "outputs":[
    {
     "data":{
      "image\/png":"[encoded data removed]"
     },
     "metadata":{
      "image\/png":{
       
      }
     },
     "output_type":"display_data"
    }
   ],
   "metadata":{
    "datalore":{
     "type":"CODE",
     "hide_input_from_viewers":false,
     "hide_output_from_viewers":false
    }
   }
  },
  {
   "cell_type":"markdown",
   "source":[
    "**After having a closer look, we can see that there were actually variations in the number of deaths. The plot looked straight in the previous graph because it was compared to another one with much higher measurements (the number of daily cases). However, the variation present in the plot of the daily number of deaths is not extreme, like the plot of the number of cases.**\n",
    "\n",
    "**It can be seen that there were 3 maximum points (representing a high number of deaths). When comparing the three waves in the red curve with the blue one, it is noticed that the increases in deaths (red plot waves) follow the increases in the number of cases (blue plot waves) with respect of time. Meaning that an effect of the increase in the number of Covid cases is an increase in the number of deaths.**"
   ],
   "attachments":{
    
   },
   "metadata":{
    "datalore":{
     "type":"MD",
     "hide_input_from_viewers":false,
     "hide_output_from_viewers":false
    }
   }
  },
  {
   "cell_type":"markdown",
   "source":[
    "## 2. The worldwide (187 countries) fatality rate vs Chinese fatality rate"
   ],
   "attachments":{
    
   },
   "metadata":{
    "datalore":{
     "type":"MD",
     "hide_input_from_viewers":false,
     "hide_output_from_viewers":false
    }
   }
  },
  {
   "cell_type":"markdown",
   "source":[
    "### The worldwide fatality rate"
   ],
   "attachments":{
    
   },
   "metadata":{
    "datalore":{
     "type":"MD",
     "hide_input_from_viewers":false,
     "hide_output_from_viewers":false
    }
   }
  },
  {
   "cell_type":"markdown",
   "source":[
    "the fatality rate can be calculated by dividing the number of deaths over the number of cases. After dividing the 2 numbers, the rate would be in form of decimals. Where, for example, 0.25 would mean that 25% of cases on that day die."
   ],
   "attachments":{
    
   },
   "metadata":{
    "datalore":{
     "type":"MD",
     "hide_input_from_viewers":false,
     "hide_output_from_viewers":false
    }
   }
  },
  {
   "cell_type":"code",
   "source":[
    "statsCDR= statsDATE2df['total']\/ statsDATEdf['total'] #craeting a data which represents the ratio between deaths and cases\n",
    "statsCDRdf=pd.DataFrame(statsCDR)\n",
    "statsCDRdf.columns=['total']\n",
    "statsCDRdf['date']=statsCDRdf.index\n",
    "statsCDRdf  "
   ],
   "execution_count":162,
   "outputs":[
    {
     "data":{
      "text\/html":[
       "<div>\n",
       "<style scoped>\n",
       "    .dataframe tbody tr th:only-of-type {\n",
       "        vertical-align: middle;\n",
       "    }\n",
       "\n",
       "    .dataframe tbody tr th {\n",
       "        vertical-align: top;\n",
       "    }\n",
       "\n",
       "    .dataframe thead th {\n",
       "        text-align: right;\n",
       "    }\n",
       "<\/style>\n",
       "<table border=\"1\" class=\"dataframe\">\n",
       "  <thead>\n",
       "    <tr style=\"text-align: right;\">\n",
       "      <th><\/th>\n",
       "      <th>total<\/th>\n",
       "      <th>date<\/th>\n",
       "    <\/tr>\n",
       "    <tr>\n",
       "      <th>date<\/th>\n",
       "      <th><\/th>\n",
       "      <th><\/th>\n",
       "    <\/tr>\n",
       "  <\/thead>\n",
       "  <tbody>\n",
       "    <tr>\n",
       "      <th>2020-01-22<\/th>\n",
       "      <td>0.030576<\/td>\n",
       "      <td>2020-01-22<\/td>\n",
       "    <\/tr>\n",
       "    <tr>\n",
       "      <th>2020-01-23<\/th>\n",
       "      <td>0.010000<\/td>\n",
       "      <td>2020-01-23<\/td>\n",
       "    <\/tr>\n",
       "    <tr>\n",
       "      <th>2020-01-24<\/th>\n",
       "      <td>0.028070<\/td>\n",
       "      <td>2020-01-24<\/td>\n",
       "    <\/tr>\n",
       "    <tr>\n",
       "      <th>2020-01-25<\/th>\n",
       "      <td>0.032454<\/td>\n",
       "      <td>2020-01-25<\/td>\n",
       "    <\/tr>\n",
       "    <tr>\n",
       "      <th>2020-01-26<\/th>\n",
       "      <td>0.020528<\/td>\n",
       "      <td>2020-01-26<\/td>\n",
       "    <\/tr>\n",
       "    <tr>\n",
       "      <th>...<\/th>\n",
       "      <td>...<\/td>\n",
       "      <td>...<\/td>\n",
       "    <\/tr>\n",
       "    <tr>\n",
       "      <th>2021-12-27<\/th>\n",
       "      <td>0.005250<\/td>\n",
       "      <td>2021-12-27<\/td>\n",
       "    <\/tr>\n",
       "    <tr>\n",
       "      <th>2021-12-28<\/th>\n",
       "      <td>0.005618<\/td>\n",
       "      <td>2021-12-28<\/td>\n",
       "    <\/tr>\n",
       "    <tr>\n",
       "      <th>2021-12-29<\/th>\n",
       "      <td>0.004661<\/td>\n",
       "      <td>2021-12-29<\/td>\n",
       "    <\/tr>\n",
       "    <tr>\n",
       "      <th>2021-12-30<\/th>\n",
       "      <td>0.003902<\/td>\n",
       "      <td>2021-12-30<\/td>\n",
       "    <\/tr>\n",
       "    <tr>\n",
       "      <th>2021-12-31<\/th>\n",
       "      <td>0.003844<\/td>\n",
       "      <td>2021-12-31<\/td>\n",
       "    <\/tr>\n",
       "  <\/tbody>\n",
       "<\/table>\n",
       "<p>710 rows × 2 columns<\/p>\n",
       "<\/div>"
      ]
     },
     "metadata":{
      
     },
     "output_type":"display_data"
    }
   ],
   "metadata":{
    "datalore":{
     "type":"CODE",
     "hide_input_from_viewers":false,
     "hide_output_from_viewers":false
    }
   }
  },
  {
   "cell_type":"markdown",
   "source":[
    "The visualize and statistics options in the above output will also be used to find specific values in the data, as they would help in the statistical analysis. \n",
    "\n",
    "In this visualize option, we can zoom in on the graph created below and see the dates of the exact points."
   ],
   "attachments":{
    
   },
   "metadata":{
    "datalore":{
     "type":"MD",
     "hide_input_from_viewers":false,
     "hide_output_from_viewers":false
    }
   }
  },
  {
   "cell_type":"code",
   "source":[
    "statsCDRdf.describe()"
   ],
   "execution_count":163,
   "outputs":[
    {
     "data":{
      "text\/html":[
       "<div>\n",
       "<style scoped>\n",
       "    .dataframe tbody tr th:only-of-type {\n",
       "        vertical-align: middle;\n",
       "    }\n",
       "\n",
       "    .dataframe tbody tr th {\n",
       "        vertical-align: top;\n",
       "    }\n",
       "\n",
       "    .dataframe thead th {\n",
       "        text-align: right;\n",
       "    }\n",
       "<\/style>\n",
       "<table border=\"1\" class=\"dataframe\">\n",
       "  <thead>\n",
       "    <tr style=\"text-align: right;\">\n",
       "      <th><\/th>\n",
       "      <th>total<\/th>\n",
       "    <\/tr>\n",
       "  <\/thead>\n",
       "  <tbody>\n",
       "    <tr>\n",
       "      <th>count<\/th>\n",
       "      <td>710.000000<\/td>\n",
       "    <\/tr>\n",
       "    <tr>\n",
       "      <th>mean<\/th>\n",
       "      <td>0.026519<\/td>\n",
       "    <\/tr>\n",
       "    <tr>\n",
       "      <th>std<\/th>\n",
       "      <td>0.023149<\/td>\n",
       "    <\/tr>\n",
       "    <tr>\n",
       "      <th>min<\/th>\n",
       "      <td>0.003396<\/td>\n",
       "    <\/tr>\n",
       "    <tr>\n",
       "      <th>25%<\/th>\n",
       "      <td>0.015884<\/td>\n",
       "    <\/tr>\n",
       "    <tr>\n",
       "      <th>50%<\/th>\n",
       "      <td>0.019335<\/td>\n",
       "    <\/tr>\n",
       "    <tr>\n",
       "      <th>75%<\/th>\n",
       "      <td>0.026644<\/td>\n",
       "    <\/tr>\n",
       "    <tr>\n",
       "      <th>max<\/th>\n",
       "      <td>0.282686<\/td>\n",
       "    <\/tr>\n",
       "  <\/tbody>\n",
       "<\/table>\n",
       "<\/div>"
      ]
     },
     "metadata":{
      
     },
     "output_type":"display_data"
    }
   ],
   "metadata":{
    "datalore":{
     "type":"CODE",
     "hide_input_from_viewers":false,
     "hide_output_from_viewers":false
    }
   }
  },
  {
   "cell_type":"code",
   "source":[
    "import matplotlib.pyplot as plt"
   ],
   "execution_count":164,
   "outputs":[
    
   ],
   "metadata":{
    "datalore":{
     "type":"CODE",
     "hide_input_from_viewers":false,
     "hide_output_from_viewers":false
    }
   }
  },
  {
   "cell_type":"code",
   "source":[
    "plt.plot('date', 'total', data= statsCDRdf, marker='.', color='blue', markersize=3, linewidth=1, linestyle='--')\n",
    "\n",
    "plt.xlabel(\"Date\")\n",
    "plt.ylabel(\"ratio of deaths:cases\")\n",
    "plt.title(\"Daily covid fatality rate as time passes (worldwide)\")\n",
    "plt.show()"
   ],
   "execution_count":165,
   "outputs":[
    {
     "data":{
      "image\/png":"[encoded data removed]"
     },
     "metadata":{
      "image\/png":{
       
      }
     },
     "output_type":"display_data"
    }
   ],
   "metadata":{
    "datalore":{
     "type":"CODE",
     "hide_input_from_viewers":false,
     "hide_output_from_viewers":false
    }
   }
  },
  {
   "cell_type":"markdown",
   "source":[
    "**It is seen that in the beginning of the pandemic, the fatality rate was the highest. There are two major spikes that represent increases in the rate. For 20 days, the rate has been increasing till it reached 28% on the 24th of February (this represents the 1st obvious spike in the plot). However, this rate increase did not last for long, and the next day the rate decreased back to around 3%.**\n",
    "\n",
    "**The rate increased again until the 2nd spike was reached with a maximum of 11.5% in April of 2020. The rate then decreased and was relatively steady between 1% to 5% with some fluctuations till the end of 2021. 75 percent of the days from 2020 till the end of 2021 had a rate less than or equal to 2.7%**"
   ],
   "attachments":{
    
   },
   "metadata":{
    "datalore":{
     "type":"MD",
     "hide_input_from_viewers":false,
     "hide_output_from_viewers":false
    }
   }
  },
  {
   "cell_type":"markdown",
   "source":[
    "### Chinese Covid fatality rate "
   ],
   "attachments":{
    
   },
   "metadata":{
    "datalore":{
     "type":"MD",
     "hide_input_from_viewers":false,
     "hide_output_from_viewers":false
    }
   }
  },
  {
   "cell_type":"code",
   "source":[
    "dfCHI=df[df['country']=='China'] # data taken from china only\n",
    "dfCHI"
   ],
   "execution_count":166,
   "outputs":[
    {
     "data":{
      "text\/html":[
       "<div>\n",
       "<style scoped>\n",
       "    .dataframe tbody tr th:only-of-type {\n",
       "        vertical-align: middle;\n",
       "    }\n",
       "\n",
       "    .dataframe tbody tr th {\n",
       "        vertical-align: top;\n",
       "    }\n",
       "\n",
       "    .dataframe thead th {\n",
       "        text-align: right;\n",
       "    }\n",
       "<\/style>\n",
       "<table border=\"1\" class=\"dataframe\">\n",
       "  <thead>\n",
       "    <tr style=\"text-align: right;\">\n",
       "      <th><\/th>\n",
       "      <th>date<\/th>\n",
       "      <th>iso3c<\/th>\n",
       "      <th>country<\/th>\n",
       "      <th>income<\/th>\n",
       "      <th>region<\/th>\n",
       "      <th>continent<\/th>\n",
       "      <th>dcases<\/th>\n",
       "      <th>ddeaths<\/th>\n",
       "      <th>population<\/th>\n",
       "      <th>weekdays<\/th>\n",
       "      <th>month<\/th>\n",
       "    <\/tr>\n",
       "  <\/thead>\n",
       "  <tbody>\n",
       "    <tr>\n",
       "      <th>21405<\/th>\n",
       "      <td>2020-01-22<\/td>\n",
       "      <td>CHN<\/td>\n",
       "      <td>China<\/td>\n",
       "      <td>Upper middle income<\/td>\n",
       "      <td>East Asia &amp; Pacific<\/td>\n",
       "      <td>Asia<\/td>\n",
       "      <td>548<\/td>\n",
       "      <td>17<\/td>\n",
       "      <td>1397715000<\/td>\n",
       "      <td>Wed<\/td>\n",
       "      <td>Jan<\/td>\n",
       "    <\/tr>\n",
       "    <tr>\n",
       "      <th>21406<\/th>\n",
       "      <td>2020-01-23<\/td>\n",
       "      <td>CHN<\/td>\n",
       "      <td>China<\/td>\n",
       "      <td>Upper middle income<\/td>\n",
       "      <td>East Asia &amp; Pacific<\/td>\n",
       "      <td>Asia<\/td>\n",
       "      <td>95<\/td>\n",
       "      <td>1<\/td>\n",
       "      <td>1397715000<\/td>\n",
       "      <td>Thu<\/td>\n",
       "      <td>Jan<\/td>\n",
       "    <\/tr>\n",
       "    <tr>\n",
       "      <th>21407<\/th>\n",
       "      <td>2020-01-24<\/td>\n",
       "      <td>CHN<\/td>\n",
       "      <td>China<\/td>\n",
       "      <td>Upper middle income<\/td>\n",
       "      <td>East Asia &amp; Pacific<\/td>\n",
       "      <td>Asia<\/td>\n",
       "      <td>277<\/td>\n",
       "      <td>8<\/td>\n",
       "      <td>1397715000<\/td>\n",
       "      <td>Fri<\/td>\n",
       "      <td>Jan<\/td>\n",
       "    <\/tr>\n",
       "    <tr>\n",
       "      <th>21408<\/th>\n",
       "      <td>2020-01-25<\/td>\n",
       "      <td>CHN<\/td>\n",
       "      <td>China<\/td>\n",
       "      <td>Upper middle income<\/td>\n",
       "      <td>East Asia &amp; Pacific<\/td>\n",
       "      <td>Asia<\/td>\n",
       "      <td>486<\/td>\n",
       "      <td>16<\/td>\n",
       "      <td>1397715000<\/td>\n",
       "      <td>Sat<\/td>\n",
       "      <td>Jan<\/td>\n",
       "    <\/tr>\n",
       "    <tr>\n",
       "      <th>21409<\/th>\n",
       "      <td>2020-01-26<\/td>\n",
       "      <td>CHN<\/td>\n",
       "      <td>China<\/td>\n",
       "      <td>Upper middle income<\/td>\n",
       "      <td>East Asia &amp; Pacific<\/td>\n",
       "      <td>Asia<\/td>\n",
       "      <td>669<\/td>\n",
       "      <td>14<\/td>\n",
       "      <td>1397715000<\/td>\n",
       "      <td>Sun<\/td>\n",
       "      <td>Jan<\/td>\n",
       "    <\/tr>\n",
       "    <tr>\n",
       "      <th>...<\/th>\n",
       "      <td>...<\/td>\n",
       "      <td>...<\/td>\n",
       "      <td>...<\/td>\n",
       "      <td>...<\/td>\n",
       "      <td>...<\/td>\n",
       "      <td>...<\/td>\n",
       "      <td>...<\/td>\n",
       "      <td>...<\/td>\n",
       "      <td>...<\/td>\n",
       "      <td>...<\/td>\n",
       "      <td>...<\/td>\n",
       "    <\/tr>\n",
       "    <tr>\n",
       "      <th>22110<\/th>\n",
       "      <td>2021-12-27<\/td>\n",
       "      <td>CHN<\/td>\n",
       "      <td>China<\/td>\n",
       "      <td>Upper middle income<\/td>\n",
       "      <td>East Asia &amp; Pacific<\/td>\n",
       "      <td>Asia<\/td>\n",
       "      <td>371<\/td>\n",
       "      <td>0<\/td>\n",
       "      <td>1397715000<\/td>\n",
       "      <td>Mon<\/td>\n",
       "      <td>Dec<\/td>\n",
       "    <\/tr>\n",
       "    <tr>\n",
       "      <th>22111<\/th>\n",
       "      <td>2021-12-28<\/td>\n",
       "      <td>CHN<\/td>\n",
       "      <td>China<\/td>\n",
       "      <td>Upper middle income<\/td>\n",
       "      <td>East Asia &amp; Pacific<\/td>\n",
       "      <td>Asia<\/td>\n",
       "      <td>203<\/td>\n",
       "      <td>0<\/td>\n",
       "      <td>1397715000<\/td>\n",
       "      <td>Tue<\/td>\n",
       "      <td>Dec<\/td>\n",
       "    <\/tr>\n",
       "    <tr>\n",
       "      <th>22112<\/th>\n",
       "      <td>2021-12-29<\/td>\n",
       "      <td>CHN<\/td>\n",
       "      <td>China<\/td>\n",
       "      <td>Upper middle income<\/td>\n",
       "      <td>East Asia &amp; Pacific<\/td>\n",
       "      <td>Asia<\/td>\n",
       "      <td>221<\/td>\n",
       "      <td>0<\/td>\n",
       "      <td>1397715000<\/td>\n",
       "      <td>Wed<\/td>\n",
       "      <td>Dec<\/td>\n",
       "    <\/tr>\n",
       "    <tr>\n",
       "      <th>22113<\/th>\n",
       "      <td>2021-12-30<\/td>\n",
       "      <td>CHN<\/td>\n",
       "      <td>China<\/td>\n",
       "      <td>Upper middle income<\/td>\n",
       "      <td>East Asia &amp; Pacific<\/td>\n",
       "      <td>Asia<\/td>\n",
       "      <td>208<\/td>\n",
       "      <td>0<\/td>\n",
       "      <td>1397715000<\/td>\n",
       "      <td>Thu<\/td>\n",
       "      <td>Dec<\/td>\n",
       "    <\/tr>\n",
       "    <tr>\n",
       "      <th>22114<\/th>\n",
       "      <td>2021-12-31<\/td>\n",
       "      <td>CHN<\/td>\n",
       "      <td>China<\/td>\n",
       "      <td>Upper middle income<\/td>\n",
       "      <td>East Asia &amp; Pacific<\/td>\n",
       "      <td>Asia<\/td>\n",
       "      <td>248<\/td>\n",
       "      <td>0<\/td>\n",
       "      <td>1397715000<\/td>\n",
       "      <td>Fri<\/td>\n",
       "      <td>Dec<\/td>\n",
       "    <\/tr>\n",
       "  <\/tbody>\n",
       "<\/table>\n",
       "<p>710 rows × 11 columns<\/p>\n",
       "<\/div>"
      ]
     },
     "metadata":{
      
     },
     "output_type":"display_data"
    }
   ],
   "metadata":{
    "datalore":{
     "type":"CODE",
     "hide_input_from_viewers":false,
     "hide_output_from_viewers":false
    }
   }
  },
  {
   "cell_type":"code",
   "source":[
    "statsDATEchi=dfCHI.groupby(\"date\").agg({\"dcases\": [np.sum,]})\n",
    "statsDATEchidf=pd.DataFrame(statsDATEchi['dcases'])\n",
    "statsDATEchidf.columns=['total']\n",
    "statsDATEchidf['date']=statsDATEchidf.index\n",
    "statsDATEchidf"
   ],
   "execution_count":167,
   "outputs":[
    {
     "data":{
      "text\/html":[
       "<div>\n",
       "<style scoped>\n",
       "    .dataframe tbody tr th:only-of-type {\n",
       "        vertical-align: middle;\n",
       "    }\n",
       "\n",
       "    .dataframe tbody tr th {\n",
       "        vertical-align: top;\n",
       "    }\n",
       "\n",
       "    .dataframe thead th {\n",
       "        text-align: right;\n",
       "    }\n",
       "<\/style>\n",
       "<table border=\"1\" class=\"dataframe\">\n",
       "  <thead>\n",
       "    <tr style=\"text-align: right;\">\n",
       "      <th><\/th>\n",
       "      <th>total<\/th>\n",
       "      <th>date<\/th>\n",
       "    <\/tr>\n",
       "    <tr>\n",
       "      <th>date<\/th>\n",
       "      <th><\/th>\n",
       "      <th><\/th>\n",
       "    <\/tr>\n",
       "  <\/thead>\n",
       "  <tbody>\n",
       "    <tr>\n",
       "      <th>2020-01-22<\/th>\n",
       "      <td>548<\/td>\n",
       "      <td>2020-01-22<\/td>\n",
       "    <\/tr>\n",
       "    <tr>\n",
       "      <th>2020-01-23<\/th>\n",
       "      <td>95<\/td>\n",
       "      <td>2020-01-23<\/td>\n",
       "    <\/tr>\n",
       "    <tr>\n",
       "      <th>2020-01-24<\/th>\n",
       "      <td>277<\/td>\n",
       "      <td>2020-01-24<\/td>\n",
       "    <\/tr>\n",
       "    <tr>\n",
       "      <th>2020-01-25<\/th>\n",
       "      <td>486<\/td>\n",
       "      <td>2020-01-25<\/td>\n",
       "    <\/tr>\n",
       "    <tr>\n",
       "      <th>2020-01-26<\/th>\n",
       "      <td>669<\/td>\n",
       "      <td>2020-01-26<\/td>\n",
       "    <\/tr>\n",
       "    <tr>\n",
       "      <th>...<\/th>\n",
       "      <td>...<\/td>\n",
       "      <td>...<\/td>\n",
       "    <\/tr>\n",
       "    <tr>\n",
       "      <th>2021-12-27<\/th>\n",
       "      <td>371<\/td>\n",
       "      <td>2021-12-27<\/td>\n",
       "    <\/tr>\n",
       "    <tr>\n",
       "      <th>2021-12-28<\/th>\n",
       "      <td>203<\/td>\n",
       "      <td>2021-12-28<\/td>\n",
       "    <\/tr>\n",
       "    <tr>\n",
       "      <th>2021-12-29<\/th>\n",
       "      <td>221<\/td>\n",
       "      <td>2021-12-29<\/td>\n",
       "    <\/tr>\n",
       "    <tr>\n",
       "      <th>2021-12-30<\/th>\n",
       "      <td>208<\/td>\n",
       "      <td>2021-12-30<\/td>\n",
       "    <\/tr>\n",
       "    <tr>\n",
       "      <th>2021-12-31<\/th>\n",
       "      <td>248<\/td>\n",
       "      <td>2021-12-31<\/td>\n",
       "    <\/tr>\n",
       "  <\/tbody>\n",
       "<\/table>\n",
       "<p>710 rows × 2 columns<\/p>\n",
       "<\/div>"
      ]
     },
     "metadata":{
      
     },
     "output_type":"display_data"
    }
   ],
   "metadata":{
    "datalore":{
     "type":"CODE",
     "hide_input_from_viewers":false,
     "hide_output_from_viewers":false
    }
   }
  },
  {
   "cell_type":"code",
   "source":[
    "statsDATE2chi=dfCHI.groupby(\"date\").agg({\"ddeaths\": [np.sum,]})\n",
    "statsDATE2chidf=pd.DataFrame(statsDATE2chi['ddeaths'])\n",
    "statsDATE2chidf.columns=['total']\n",
    "statsDATE2chidf['date']=statsDATE2chidf.index\n",
    "statsDATE2chidf # same as above but with the number of daily deaths"
   ],
   "execution_count":168,
   "outputs":[
    {
     "data":{
      "text\/html":[
       "<div>\n",
       "<style scoped>\n",
       "    .dataframe tbody tr th:only-of-type {\n",
       "        vertical-align: middle;\n",
       "    }\n",
       "\n",
       "    .dataframe tbody tr th {\n",
       "        vertical-align: top;\n",
       "    }\n",
       "\n",
       "    .dataframe thead th {\n",
       "        text-align: right;\n",
       "    }\n",
       "<\/style>\n",
       "<table border=\"1\" class=\"dataframe\">\n",
       "  <thead>\n",
       "    <tr style=\"text-align: right;\">\n",
       "      <th><\/th>\n",
       "      <th>total<\/th>\n",
       "      <th>date<\/th>\n",
       "    <\/tr>\n",
       "    <tr>\n",
       "      <th>date<\/th>\n",
       "      <th><\/th>\n",
       "      <th><\/th>\n",
       "    <\/tr>\n",
       "  <\/thead>\n",
       "  <tbody>\n",
       "    <tr>\n",
       "      <th>2020-01-22<\/th>\n",
       "      <td>17<\/td>\n",
       "      <td>2020-01-22<\/td>\n",
       "    <\/tr>\n",
       "    <tr>\n",
       "      <th>2020-01-23<\/th>\n",
       "      <td>1<\/td>\n",
       "      <td>2020-01-23<\/td>\n",
       "    <\/tr>\n",
       "    <tr>\n",
       "      <th>2020-01-24<\/th>\n",
       "      <td>8<\/td>\n",
       "      <td>2020-01-24<\/td>\n",
       "    <\/tr>\n",
       "    <tr>\n",
       "      <th>2020-01-25<\/th>\n",
       "      <td>16<\/td>\n",
       "      <td>2020-01-25<\/td>\n",
       "    <\/tr>\n",
       "    <tr>\n",
       "      <th>2020-01-26<\/th>\n",
       "      <td>14<\/td>\n",
       "      <td>2020-01-26<\/td>\n",
       "    <\/tr>\n",
       "    <tr>\n",
       "      <th>...<\/th>\n",
       "      <td>...<\/td>\n",
       "      <td>...<\/td>\n",
       "    <\/tr>\n",
       "    <tr>\n",
       "      <th>2021-12-27<\/th>\n",
       "      <td>0<\/td>\n",
       "      <td>2021-12-27<\/td>\n",
       "    <\/tr>\n",
       "    <tr>\n",
       "      <th>2021-12-28<\/th>\n",
       "      <td>0<\/td>\n",
       "      <td>2021-12-28<\/td>\n",
       "    <\/tr>\n",
       "    <tr>\n",
       "      <th>2021-12-29<\/th>\n",
       "      <td>0<\/td>\n",
       "      <td>2021-12-29<\/td>\n",
       "    <\/tr>\n",
       "    <tr>\n",
       "      <th>2021-12-30<\/th>\n",
       "      <td>0<\/td>\n",
       "      <td>2021-12-30<\/td>\n",
       "    <\/tr>\n",
       "    <tr>\n",
       "      <th>2021-12-31<\/th>\n",
       "      <td>0<\/td>\n",
       "      <td>2021-12-31<\/td>\n",
       "    <\/tr>\n",
       "  <\/tbody>\n",
       "<\/table>\n",
       "<p>710 rows × 2 columns<\/p>\n",
       "<\/div>"
      ]
     },
     "metadata":{
      
     },
     "output_type":"display_data"
    }
   ],
   "metadata":{
    "datalore":{
     "type":"CODE",
     "hide_input_from_viewers":false,
     "hide_output_from_viewers":false
    }
   }
  },
  {
   "cell_type":"code",
   "source":[
    "statsCDRchi= statsDATE2chidf['total']\/ statsDATEchidf['total']\n",
    "statsCDRchidf=pd.DataFrame(statsCDRchi)\n",
    "statsCDRchidf.columns=['total']\n",
    "statsCDRchidf['date']=statsCDRchidf.index\n",
    "statsCDRchidf #The ratio of the chinese fatality rate "
   ],
   "execution_count":169,
   "outputs":[
    {
     "data":{
      "text\/html":[
       "<div>\n",
       "<style scoped>\n",
       "    .dataframe tbody tr th:only-of-type {\n",
       "        vertical-align: middle;\n",
       "    }\n",
       "\n",
       "    .dataframe tbody tr th {\n",
       "        vertical-align: top;\n",
       "    }\n",
       "\n",
       "    .dataframe thead th {\n",
       "        text-align: right;\n",
       "    }\n",
       "<\/style>\n",
       "<table border=\"1\" class=\"dataframe\">\n",
       "  <thead>\n",
       "    <tr style=\"text-align: right;\">\n",
       "      <th><\/th>\n",
       "      <th>total<\/th>\n",
       "      <th>date<\/th>\n",
       "    <\/tr>\n",
       "    <tr>\n",
       "      <th>date<\/th>\n",
       "      <th><\/th>\n",
       "      <th><\/th>\n",
       "    <\/tr>\n",
       "  <\/thead>\n",
       "  <tbody>\n",
       "    <tr>\n",
       "      <th>2020-01-22<\/th>\n",
       "      <td>0.031022<\/td>\n",
       "      <td>2020-01-22<\/td>\n",
       "    <\/tr>\n",
       "    <tr>\n",
       "      <th>2020-01-23<\/th>\n",
       "      <td>0.010526<\/td>\n",
       "      <td>2020-01-23<\/td>\n",
       "    <\/tr>\n",
       "    <tr>\n",
       "      <th>2020-01-24<\/th>\n",
       "      <td>0.028881<\/td>\n",
       "      <td>2020-01-24<\/td>\n",
       "    <\/tr>\n",
       "    <tr>\n",
       "      <th>2020-01-25<\/th>\n",
       "      <td>0.032922<\/td>\n",
       "      <td>2020-01-25<\/td>\n",
       "    <\/tr>\n",
       "    <tr>\n",
       "      <th>2020-01-26<\/th>\n",
       "      <td>0.020927<\/td>\n",
       "      <td>2020-01-26<\/td>\n",
       "    <\/tr>\n",
       "    <tr>\n",
       "      <th>...<\/th>\n",
       "      <td>...<\/td>\n",
       "      <td>...<\/td>\n",
       "    <\/tr>\n",
       "    <tr>\n",
       "      <th>2021-12-27<\/th>\n",
       "      <td>0.000000<\/td>\n",
       "      <td>2021-12-27<\/td>\n",
       "    <\/tr>\n",
       "    <tr>\n",
       "      <th>2021-12-28<\/th>\n",
       "      <td>0.000000<\/td>\n",
       "      <td>2021-12-28<\/td>\n",
       "    <\/tr>\n",
       "    <tr>\n",
       "      <th>2021-12-29<\/th>\n",
       "      <td>0.000000<\/td>\n",
       "      <td>2021-12-29<\/td>\n",
       "    <\/tr>\n",
       "    <tr>\n",
       "      <th>2021-12-30<\/th>\n",
       "      <td>0.000000<\/td>\n",
       "      <td>2021-12-30<\/td>\n",
       "    <\/tr>\n",
       "    <tr>\n",
       "      <th>2021-12-31<\/th>\n",
       "      <td>0.000000<\/td>\n",
       "      <td>2021-12-31<\/td>\n",
       "    <\/tr>\n",
       "  <\/tbody>\n",
       "<\/table>\n",
       "<p>710 rows × 2 columns<\/p>\n",
       "<\/div>"
      ]
     },
     "metadata":{
      
     },
     "output_type":"display_data"
    }
   ],
   "metadata":{
    "datalore":{
     "type":"CODE",
     "hide_input_from_viewers":false,
     "hide_output_from_viewers":false
    }
   }
  },
  {
   "cell_type":"code",
   "source":[
    "statsCDRchidf.describe()"
   ],
   "execution_count":170,
   "outputs":[
    {
     "data":{
      "text\/html":[
       "<div>\n",
       "<style scoped>\n",
       "    .dataframe tbody tr th:only-of-type {\n",
       "        vertical-align: middle;\n",
       "    }\n",
       "\n",
       "    .dataframe tbody tr th {\n",
       "        vertical-align: top;\n",
       "    }\n",
       "\n",
       "    .dataframe thead th {\n",
       "        text-align: right;\n",
       "    }\n",
       "<\/style>\n",
       "<table border=\"1\" class=\"dataframe\">\n",
       "  <thead>\n",
       "    <tr style=\"text-align: right;\">\n",
       "      <th><\/th>\n",
       "      <th>total<\/th>\n",
       "    <\/tr>\n",
       "  <\/thead>\n",
       "  <tbody>\n",
       "    <tr>\n",
       "      <th>count<\/th>\n",
       "      <td>704.000000<\/td>\n",
       "    <\/tr>\n",
       "    <tr>\n",
       "      <th>mean<\/th>\n",
       "      <td>0.028869<\/td>\n",
       "    <\/tr>\n",
       "    <tr>\n",
       "      <th>std<\/th>\n",
       "      <td>0.159220<\/td>\n",
       "    <\/tr>\n",
       "    <tr>\n",
       "      <th>min<\/th>\n",
       "      <td>0.000000<\/td>\n",
       "    <\/tr>\n",
       "    <tr>\n",
       "      <th>25%<\/th>\n",
       "      <td>0.000000<\/td>\n",
       "    <\/tr>\n",
       "    <tr>\n",
       "      <th>50%<\/th>\n",
       "      <td>0.000000<\/td>\n",
       "    <\/tr>\n",
       "    <tr>\n",
       "      <th>75%<\/th>\n",
       "      <td>0.014311<\/td>\n",
       "    <\/tr>\n",
       "    <tr>\n",
       "      <th>max<\/th>\n",
       "      <td>3.613445<\/td>\n",
       "    <\/tr>\n",
       "  <\/tbody>\n",
       "<\/table>\n",
       "<\/div>"
      ]
     },
     "metadata":{
      
     },
     "output_type":"display_data"
    }
   ],
   "metadata":{
    "datalore":{
     "type":"CODE",
     "hide_input_from_viewers":false,
     "hide_output_from_viewers":false
    }
   }
  },
  {
   "cell_type":"code",
   "source":[
    "plt.plot('date', 'total', data= statsCDRchidf, color='red', markersize=3, linewidth=1, linestyle='--')\n",
    "\n",
    "plt.xlabel(\"Date\")\n",
    "plt.ylabel(\"ratio of deaths:cases\")\n",
    "plt.title(\"Daily covid fatality rate as time passes (China)\")\n",
    "plt.show()"
   ],
   "execution_count":171,
   "outputs":[
    {
     "data":{
      "image\/png":"[encoded data removed]"
     },
     "metadata":{
      "image\/png":{
       
      }
     },
     "output_type":"display_data"
    }
   ],
   "metadata":{
    "datalore":{
     "type":"CODE",
     "hide_input_from_viewers":false,
     "hide_output_from_viewers":false
    }
   }
  },
  {
   "cell_type":"markdown",
   "source":[
    "**From the above graph, we can see that there were several spikes. In March of 2020, the fatality rate reached 100%. There is also an outlier on the 17th of April 2020, where the rate reached 360%. Which means that the number of deaths on that day was three and a half times the number of cases. However, this rate was only reached once and it is an outlier, so it will not be used in the statistical analysis. After ignoring this outlier, the new maximum would be at a rate of 1 (100%).**\n",
    "\n",
    "**After the month of May in 2020, there were several variations in the rate ranging from 0 to 0.23 (23%). 75 percent of the days from 2020 till the end of 2021 had a rate less than or equal to 1.4%**\n"
   ],
   "attachments":{
    
   },
   "metadata":{
    "datalore":{
     "type":"MD",
     "hide_input_from_viewers":false,
     "hide_output_from_viewers":false
    }
   }
  },
  {
   "cell_type":"markdown",
   "source":[
    "### China vs worldwide fatality rate "
   ],
   "attachments":{
    
   },
   "metadata":{
    "datalore":{
     "type":"MD",
     "hide_input_from_viewers":false,
     "hide_output_from_viewers":false
    }
   }
  },
  {
   "cell_type":"code",
   "source":[
    "plt.plot('date', 'total', data= statsCDRchidf, color='red', markersize=3, linewidth=1, linestyle='--')\n",
    "plt.plot('date', 'total', data= statsCDRdf, color='blue', markersize=3, linewidth=1, linestyle='--')\n",
    "\n",
    "plt.xlabel(\"Date\")\n",
    "plt.ylabel(\"ratio of deaths:cases\")\n",
    "plt.title(\"Daily covid fatality rate as time passes\")\n",
    "plt.legend(['China','World'])\n",
    "plt.show()"
   ],
   "execution_count":172,
   "outputs":[
    {
     "data":{
      "image\/png":"[encoded data removed]"
     },
     "metadata":{
      "image\/png":{
       
      }
     },
     "output_type":"display_data"
    }
   ],
   "metadata":{
    "datalore":{
     "type":"CODE",
     "hide_input_from_viewers":false,
     "hide_output_from_viewers":false
    }
   }
  },
  {
   "cell_type":"markdown",
   "source":[
    "**We put the worldwide and Chinese plot for the fatality rate in one graph, in order to compare them. Just by looking at the graph, it can be seen that the Chinese rate surpasses the world rate several times. This might lead us to conclude that the general rate in China is higher than the world rate. However, both averages are very close (World:0.027, China: 0.029). Also, Q3 in China is less (World:0.027, China: 0.014). This might actually mean that the world fatality rate is close to that of China.**"
   ],
   "attachments":{
    
   },
   "metadata":{
    "datalore":{
     "type":"MD",
     "hide_input_from_viewers":false,
     "hide_output_from_viewers":false
    }
   }
  },
  {
   "cell_type":"markdown",
   "source":[
    "## 3. Confidence interval of average daily Covid cases comparisons between two different incomes (low & high) by year"
   ],
   "attachments":{
    
   },
   "metadata":{
    "datalore":{
     "type":"MD",
     "hide_input_from_viewers":false,
     "hide_output_from_viewers":false
    }
   }
  },
  {
   "cell_type":"markdown",
   "source":[
    "We first want to create a column that divides the data into the two years 2020 and 2021"
   ],
   "attachments":{
    
   },
   "metadata":{
    "datalore":{
     "type":"MD",
     "hide_input_from_viewers":false,
     "hide_output_from_viewers":false
    }
   }
  },
  {
   "cell_type":"code",
   "source":[
    "df['date'] = pd.to_datetime(df['date'],format='%Y-%m-%d')\n",
    "df['date'][0]"
   ],
   "execution_count":173,
   "outputs":[
    {
     "data":{
      "text\/plain":[
       "Timestamp('2020-02-24 00:00:00')"
      ]
     },
     "metadata":{
      
     },
     "output_type":"display_data"
    }
   ],
   "metadata":{
    "datalore":{
     "type":"CODE",
     "hide_input_from_viewers":false,
     "hide_output_from_viewers":false
    }
   }
  },
  {
   "cell_type":"code",
   "source":[
    "df['year'] = pd. DatetimeIndex(df['date']). year\n",
    "df['year'][0]"
   ],
   "execution_count":174,
   "outputs":[
    {
     "data":{
      "text\/plain":[
       "2020"
      ]
     },
     "metadata":{
      
     },
     "output_type":"display_data"
    }
   ],
   "metadata":{
    "datalore":{
     "type":"CODE",
     "hide_input_from_viewers":false,
     "hide_output_from_viewers":false
    }
   }
  },
  {
   "cell_type":"code",
   "source":[
    "#creating the data in terms of income\n",
    "statsINC=df.groupby(['income','year']).agg({\"dcases\": [np.mean, np.std, np.size,get_ci_lb,get_ci_ub]})\n",
    "statsINCdf=statsINC.reset_index()\n",
    "statsINCdf"
   ],
   "execution_count":175,
   "outputs":[
    {
     "data":{
      "text\/html":[
       "<div>\n",
       "<style scoped>\n",
       "    .dataframe tbody tr th:only-of-type {\n",
       "        vertical-align: middle;\n",
       "    }\n",
       "\n",
       "    .dataframe tbody tr th {\n",
       "        vertical-align: top;\n",
       "    }\n",
       "\n",
       "    .dataframe thead tr th {\n",
       "        text-align: left;\n",
       "    }\n",
       "<\/style>\n",
       "<table border=\"1\" class=\"dataframe\">\n",
       "  <thead>\n",
       "    <tr>\n",
       "      <th><\/th>\n",
       "      <th>income<\/th>\n",
       "      <th>year<\/th>\n",
       "      <th colspan=\"5\" halign=\"left\">dcases<\/th>\n",
       "    <\/tr>\n",
       "    <tr>\n",
       "      <th><\/th>\n",
       "      <th><\/th>\n",
       "      <th><\/th>\n",
       "      <th>mean<\/th>\n",
       "      <th>std<\/th>\n",
       "      <th>size<\/th>\n",
       "      <th>get_ci_lb<\/th>\n",
       "      <th>get_ci_ub<\/th>\n",
       "    <\/tr>\n",
       "  <\/thead>\n",
       "  <tbody>\n",
       "    <tr>\n",
       "      <th>0<\/th>\n",
       "      <td>High income<\/td>\n",
       "      <td>2020<\/td>\n",
       "      <td>2321.685027<\/td>\n",
       "      <td>12494.070695<\/td>\n",
       "      <td>17865<\/td>\n",
       "      <td>2138.462037<\/td>\n",
       "      <td>2504.908017<\/td>\n",
       "    <\/tr>\n",
       "    <tr>\n",
       "      <th>1<\/th>\n",
       "      <td>High income<\/td>\n",
       "      <td>2021<\/td>\n",
       "      <td>4520.954339<\/td>\n",
       "      <td>18317.784729<\/td>\n",
       "      <td>20937<\/td>\n",
       "      <td>4272.818827<\/td>\n",
       "      <td>4769.089852<\/td>\n",
       "    <\/tr>\n",
       "    <tr>\n",
       "      <th>2<\/th>\n",
       "      <td>Low income<\/td>\n",
       "      <td>2020<\/td>\n",
       "      <td>77.125254<\/td>\n",
       "      <td>283.402922<\/td>\n",
       "      <td>8351<\/td>\n",
       "      <td>71.046059<\/td>\n",
       "      <td>83.204450<\/td>\n",
       "    <\/tr>\n",
       "    <tr>\n",
       "      <th>3<\/th>\n",
       "      <td>Low income<\/td>\n",
       "      <td>2021<\/td>\n",
       "      <td>168.681058<\/td>\n",
       "      <td>657.105911<\/td>\n",
       "      <td>10585<\/td>\n",
       "      <td>156.161537<\/td>\n",
       "      <td>181.200579<\/td>\n",
       "    <\/tr>\n",
       "    <tr>\n",
       "      <th>4<\/th>\n",
       "      <td>Lower middle income<\/td>\n",
       "      <td>2020<\/td>\n",
       "      <td>1214.800373<\/td>\n",
       "      <td>6871.170940<\/td>\n",
       "      <td>12879<\/td>\n",
       "      <td>1096.120084<\/td>\n",
       "      <td>1333.480661<\/td>\n",
       "    <\/tr>\n",
       "    <tr>\n",
       "      <th>5<\/th>\n",
       "      <td>Lower middle income<\/td>\n",
       "      <td>2021<\/td>\n",
       "      <td>2550.449589<\/td>\n",
       "      <td>17762.604302<\/td>\n",
       "      <td>16653<\/td>\n",
       "      <td>2280.650760<\/td>\n",
       "      <td>2820.248417<\/td>\n",
       "    <\/tr>\n",
       "    <tr>\n",
       "      <th>6<\/th>\n",
       "      <td>Upper middle income<\/td>\n",
       "      <td>2020<\/td>\n",
       "      <td>1643.653786<\/td>\n",
       "      <td>8259.918227<\/td>\n",
       "      <td>15863<\/td>\n",
       "      <td>1515.106084<\/td>\n",
       "      <td>1772.201487<\/td>\n",
       "    <\/tr>\n",
       "    <tr>\n",
       "      <th>7<\/th>\n",
       "      <td>Upper middle income<\/td>\n",
       "      <td>2021<\/td>\n",
       "      <td>3368.106393<\/td>\n",
       "      <td>8585.182602<\/td>\n",
       "      <td>19710<\/td>\n",
       "      <td>3248.244540<\/td>\n",
       "      <td>3487.968246<\/td>\n",
       "    <\/tr>\n",
       "  <\/tbody>\n",
       "<\/table>\n",
       "<\/div>"
      ]
     },
     "metadata":{
      
     },
     "output_type":"display_data"
    }
   ],
   "metadata":{
    "datalore":{
     "type":"CODE",
     "hide_input_from_viewers":false,
     "hide_output_from_viewers":false
    }
   }
  },
  {
   "cell_type":"code",
   "source":[
    "# Creating the data for high income\n",
    "statsHIGH20df=statsINCdf[(statsINCdf['income']=='High income') & (statsINCdf['year']==2020)]\n",
    "statsHIGH21df=statsINCdf[(statsINCdf['income']=='High income') & (statsINCdf['year']==2021)]"
   ],
   "execution_count":176,
   "outputs":[
    
   ],
   "metadata":{
    "datalore":{
     "type":"CODE",
     "hide_input_from_viewers":false,
     "hide_output_from_viewers":false
    }
   }
  },
  {
   "cell_type":"code",
   "source":[
    "# Creating the data for low income\n",
    "statsLOW20df=statsINCdf[(statsINCdf['income']=='Low income') & (statsINCdf['year']==2020)]\n",
    "statsLOW21df=statsINCdf[(statsINCdf['income']=='Low income') & (statsINCdf['year']==2021)]"
   ],
   "execution_count":177,
   "outputs":[
    
   ],
   "metadata":{
    "datalore":{
     "type":"CODE",
     "hide_input_from_viewers":false,
     "hide_output_from_viewers":false
    }
   }
  },
  {
   "cell_type":"code",
   "source":[
    "statsLOW21df"
   ],
   "execution_count":178,
   "outputs":[
    {
     "data":{
      "text\/html":[
       "<div>\n",
       "<style scoped>\n",
       "    .dataframe tbody tr th:only-of-type {\n",
       "        vertical-align: middle;\n",
       "    }\n",
       "\n",
       "    .dataframe tbody tr th {\n",
       "        vertical-align: top;\n",
       "    }\n",
       "\n",
       "    .dataframe thead tr th {\n",
       "        text-align: left;\n",
       "    }\n",
       "<\/style>\n",
       "<table border=\"1\" class=\"dataframe\">\n",
       "  <thead>\n",
       "    <tr>\n",
       "      <th><\/th>\n",
       "      <th>income<\/th>\n",
       "      <th>year<\/th>\n",
       "      <th colspan=\"5\" halign=\"left\">dcases<\/th>\n",
       "    <\/tr>\n",
       "    <tr>\n",
       "      <th><\/th>\n",
       "      <th><\/th>\n",
       "      <th><\/th>\n",
       "      <th>mean<\/th>\n",
       "      <th>std<\/th>\n",
       "      <th>size<\/th>\n",
       "      <th>get_ci_lb<\/th>\n",
       "      <th>get_ci_ub<\/th>\n",
       "    <\/tr>\n",
       "  <\/thead>\n",
       "  <tbody>\n",
       "    <tr>\n",
       "      <th>3<\/th>\n",
       "      <td>Low income<\/td>\n",
       "      <td>2021<\/td>\n",
       "      <td>168.681058<\/td>\n",
       "      <td>657.105911<\/td>\n",
       "      <td>10585<\/td>\n",
       "      <td>156.161537<\/td>\n",
       "      <td>181.200579<\/td>\n",
       "    <\/tr>\n",
       "  <\/tbody>\n",
       "<\/table>\n",
       "<\/div>"
      ]
     },
     "metadata":{
      
     },
     "output_type":"display_data"
    }
   ],
   "metadata":{
    "datalore":{
     "type":"CODE",
     "hide_input_from_viewers":false,
     "hide_output_from_viewers":false
    }
   }
  },
  {
   "cell_type":"code",
   "source":[
    "statsLOW21df.iloc[0,5]"
   ],
   "execution_count":179,
   "outputs":[
    {
     "data":{
      "text\/plain":[
       "156.16153742238862"
      ]
     },
     "metadata":{
      
     },
     "output_type":"display_data"
    }
   ],
   "metadata":{
    "datalore":{
     "type":"CODE",
     "hide_input_from_viewers":false,
     "hide_output_from_viewers":false
    }
   }
  },
  {
   "cell_type":"code",
   "source":[
    "df[(df['income']=='Low income') & (df['date']=='2020-04-27 00:00:00')] # To know the number of low income countries"
   ],
   "execution_count":180,
   "outputs":[
    {
     "data":{
      "text\/html":[
       "<div>\n",
       "<style scoped>\n",
       "    .dataframe tbody tr th:only-of-type {\n",
       "        vertical-align: middle;\n",
       "    }\n",
       "\n",
       "    .dataframe tbody tr th {\n",
       "        vertical-align: top;\n",
       "    }\n",
       "\n",
       "    .dataframe thead th {\n",
       "        text-align: right;\n",
       "    }\n",
       "<\/style>\n",
       "<table border=\"1\" class=\"dataframe\">\n",
       "  <thead>\n",
       "    <tr style=\"text-align: right;\">\n",
       "      <th><\/th>\n",
       "      <th>date<\/th>\n",
       "      <th>iso3c<\/th>\n",
       "      <th>country<\/th>\n",
       "      <th>income<\/th>\n",
       "      <th>region<\/th>\n",
       "      <th>continent<\/th>\n",
       "      <th>dcases<\/th>\n",
       "      <th>ddeaths<\/th>\n",
       "      <th>population<\/th>\n",
       "      <th>weekdays<\/th>\n",
       "      <th>month<\/th>\n",
       "      <th>year<\/th>\n",
       "    <\/tr>\n",
       "  <\/thead>\n",
       "  <tbody>\n",
       "    <tr>\n",
       "      <th>63<\/th>\n",
       "      <td>2020-04-27<\/td>\n",
       "      <td>AFG<\/td>\n",
       "      <td>Afghanistan<\/td>\n",
       "      <td>Low income<\/td>\n",
       "      <td>South Asia<\/td>\n",
       "      <td>Asia<\/td>\n",
       "      <td>68<\/td>\n",
       "      <td>1<\/td>\n",
       "      <td>38041754<\/td>\n",
       "      <td>Mon<\/td>\n",
       "      <td>Apr<\/td>\n",
       "      <td>2020<\/td>\n",
       "    <\/tr>\n",
       "    <tr>\n",
       "      <th>7444<\/th>\n",
       "      <td>2020-04-27<\/td>\n",
       "      <td>BDI<\/td>\n",
       "      <td>Burundi<\/td>\n",
       "      <td>Low income<\/td>\n",
       "      <td>Sub-Saharan Africa<\/td>\n",
       "      <td>Africa<\/td>\n",
       "      <td>0<\/td>\n",
       "      <td>0<\/td>\n",
       "      <td>11530580<\/td>\n",
       "      <td>Mon<\/td>\n",
       "      <td>Apr<\/td>\n",
       "      <td>2020<\/td>\n",
       "    <\/tr>\n",
       "    <tr>\n",
       "      <th>8797<\/th>\n",
       "      <td>2020-04-27<\/td>\n",
       "      <td>BEN<\/td>\n",
       "      <td>Benin<\/td>\n",
       "      <td>Low income<\/td>\n",
       "      <td>Sub-Saharan Africa<\/td>\n",
       "      <td>Africa<\/td>\n",
       "      <td>0<\/td>\n",
       "      <td>0<\/td>\n",
       "      <td>11801151<\/td>\n",
       "      <td>Mon<\/td>\n",
       "      <td>Apr<\/td>\n",
       "      <td>2020<\/td>\n",
       "    <\/tr>\n",
       "    <tr>\n",
       "      <th>9459<\/th>\n",
       "      <td>2020-04-27<\/td>\n",
       "      <td>BFA<\/td>\n",
       "      <td>Burkina Faso<\/td>\n",
       "      <td>Low income<\/td>\n",
       "      <td>Sub-Saharan Africa<\/td>\n",
       "      <td>Africa<\/td>\n",
       "      <td>3<\/td>\n",
       "      <td>0<\/td>\n",
       "      <td>20321378<\/td>\n",
       "      <td>Mon<\/td>\n",
       "      <td>Apr<\/td>\n",
       "      <td>2020<\/td>\n",
       "    <\/tr>\n",
       "    <tr>\n",
       "      <th>18728<\/th>\n",
       "      <td>2020-04-27<\/td>\n",
       "      <td>CAF<\/td>\n",
       "      <td>Central African Republic<\/td>\n",
       "      <td>Low income<\/td>\n",
       "      <td>Sub-Saharan Africa<\/td>\n",
       "      <td>Africa<\/td>\n",
       "      <td>0<\/td>\n",
       "      <td>0<\/td>\n",
       "      <td>4745185<\/td>\n",
       "      <td>Mon<\/td>\n",
       "      <td>Apr<\/td>\n",
       "      <td>2020<\/td>\n",
       "    <\/tr>\n",
       "    <tr>\n",
       "      <th>23489<\/th>\n",
       "      <td>2020-04-27<\/td>\n",
       "      <td>COD<\/td>\n",
       "      <td>Congo - Kinshasa<\/td>\n",
       "      <td>Low income<\/td>\n",
       "      <td>Sub-Saharan Africa<\/td>\n",
       "      <td>Africa<\/td>\n",
       "      <td>17<\/td>\n",
       "      <td>0<\/td>\n",
       "      <td>86790567<\/td>\n",
       "      <td>Mon<\/td>\n",
       "      <td>Apr<\/td>\n",
       "      <td>2020<\/td>\n",
       "    <\/tr>\n",
       "    <tr>\n",
       "      <th>36155<\/th>\n",
       "      <td>2020-04-27<\/td>\n",
       "      <td>ETH<\/td>\n",
       "      <td>Ethiopia<\/td>\n",
       "      <td>Low income<\/td>\n",
       "      <td>Sub-Saharan Africa<\/td>\n",
       "      <td>Africa<\/td>\n",
       "      <td>1<\/td>\n",
       "      <td>0<\/td>\n",
       "      <td>112078730<\/td>\n",
       "      <td>Mon<\/td>\n",
       "      <td>Apr<\/td>\n",
       "      <td>2020<\/td>\n",
       "    <\/tr>\n",
       "    <tr>\n",
       "      <th>41570<\/th>\n",
       "      <td>2020-04-27<\/td>\n",
       "      <td>GIN<\/td>\n",
       "      <td>Guinea<\/td>\n",
       "      <td>Low income<\/td>\n",
       "      <td>Sub-Saharan Africa<\/td>\n",
       "      <td>Africa<\/td>\n",
       "      <td>167<\/td>\n",
       "      <td>0<\/td>\n",
       "      <td>12771246<\/td>\n",
       "      <td>Mon<\/td>\n",
       "      <td>Apr<\/td>\n",
       "      <td>2020<\/td>\n",
       "    <\/tr>\n",
       "    <tr>\n",
       "      <th>42225<\/th>\n",
       "      <td>2020-04-27<\/td>\n",
       "      <td>GMB<\/td>\n",
       "      <td>Gambia<\/td>\n",
       "      <td>Low income<\/td>\n",
       "      <td>Sub-Saharan Africa<\/td>\n",
       "      <td>Africa<\/td>\n",
       "      <td>0<\/td>\n",
       "      <td>0<\/td>\n",
       "      <td>2347706<\/td>\n",
       "      <td>Mon<\/td>\n",
       "      <td>Apr<\/td>\n",
       "      <td>2020<\/td>\n",
       "    <\/tr>\n",
       "    <tr>\n",
       "      <th>42872<\/th>\n",
       "      <td>2020-04-27<\/td>\n",
       "      <td>GNB<\/td>\n",
       "      <td>Guinea-Bissau<\/td>\n",
       "      <td>Low income<\/td>\n",
       "      <td>Sub-Saharan Africa<\/td>\n",
       "      <td>Africa<\/td>\n",
       "      <td>20<\/td>\n",
       "      <td>0<\/td>\n",
       "      <td>1920922<\/td>\n",
       "      <td>Mon<\/td>\n",
       "      <td>Apr<\/td>\n",
       "      <td>2020<\/td>\n",
       "    <\/tr>\n",
       "    <tr>\n",
       "      <th>48161<\/th>\n",
       "      <td>2020-04-27<\/td>\n",
       "      <td>HTI<\/td>\n",
       "      <td>Haiti<\/td>\n",
       "      <td>Low income<\/td>\n",
       "      <td>Latin America &amp; Caribbean<\/td>\n",
       "      <td>North America(continent)<\/td>\n",
       "      <td>0<\/td>\n",
       "      <td>0<\/td>\n",
       "      <td>11263077<\/td>\n",
       "      <td>Mon<\/td>\n",
       "      <td>Apr<\/td>\n",
       "      <td>2020<\/td>\n",
       "    <\/tr>\n",
       "    <tr>\n",
       "      <th>63248<\/th>\n",
       "      <td>2020-04-27<\/td>\n",
       "      <td>LBR<\/td>\n",
       "      <td>Liberia<\/td>\n",
       "      <td>Low income<\/td>\n",
       "      <td>Sub-Saharan Africa<\/td>\n",
       "      <td>Africa<\/td>\n",
       "      <td>4<\/td>\n",
       "      <td>1<\/td>\n",
       "      <td>4937374<\/td>\n",
       "      <td>Mon<\/td>\n",
       "      <td>Apr<\/td>\n",
       "      <td>2020<\/td>\n",
       "    <\/tr>\n",
       "    <tr>\n",
       "      <th>71197<\/th>\n",
       "      <td>2020-04-27<\/td>\n",
       "      <td>MDG<\/td>\n",
       "      <td>Madagascar<\/td>\n",
       "      <td>Low income<\/td>\n",
       "      <td>Sub-Saharan Africa<\/td>\n",
       "      <td>Africa<\/td>\n",
       "      <td>4<\/td>\n",
       "      <td>0<\/td>\n",
       "      <td>26969307<\/td>\n",
       "      <td>Mon<\/td>\n",
       "      <td>Apr<\/td>\n",
       "      <td>2020<\/td>\n",
       "    <\/tr>\n",
       "    <tr>\n",
       "      <th>74286<\/th>\n",
       "      <td>2020-04-27<\/td>\n",
       "      <td>MLI<\/td>\n",
       "      <td>Mali<\/td>\n",
       "      <td>Low income<\/td>\n",
       "      <td>Sub-Saharan Africa<\/td>\n",
       "      <td>Africa<\/td>\n",
       "      <td>19<\/td>\n",
       "      <td>0<\/td>\n",
       "      <td>19658031<\/td>\n",
       "      <td>Mon<\/td>\n",
       "      <td>Apr<\/td>\n",
       "      <td>2020<\/td>\n",
       "    <\/tr>\n",
       "    <tr>\n",
       "      <th>77563<\/th>\n",
       "      <td>2020-04-27<\/td>\n",
       "      <td>MOZ<\/td>\n",
       "      <td>Mozambique<\/td>\n",
       "      <td>Low income<\/td>\n",
       "      <td>Sub-Saharan Africa<\/td>\n",
       "      <td>Africa<\/td>\n",
       "      <td>0<\/td>\n",
       "      <td>0<\/td>\n",
       "      <td>30366036<\/td>\n",
       "      <td>Mon<\/td>\n",
       "      <td>Apr<\/td>\n",
       "      <td>2020<\/td>\n",
       "    <\/tr>\n",
       "    <tr>\n",
       "      <th>79514<\/th>\n",
       "      <td>2020-04-27<\/td>\n",
       "      <td>MWI<\/td>\n",
       "      <td>Malawi<\/td>\n",
       "      <td>Low income<\/td>\n",
       "      <td>Sub-Saharan Africa<\/td>\n",
       "      <td>Africa<\/td>\n",
       "      <td>2<\/td>\n",
       "      <td>0<\/td>\n",
       "      <td>18628747<\/td>\n",
       "      <td>Mon<\/td>\n",
       "      <td>Apr<\/td>\n",
       "      <td>2020<\/td>\n",
       "    <\/tr>\n",
       "    <tr>\n",
       "      <th>81531<\/th>\n",
       "      <td>2020-04-27<\/td>\n",
       "      <td>NER<\/td>\n",
       "      <td>Niger<\/td>\n",
       "      <td>Low income<\/td>\n",
       "      <td>Sub-Saharan Africa<\/td>\n",
       "      <td>Africa<\/td>\n",
       "      <td>5<\/td>\n",
       "      <td>0<\/td>\n",
       "      <td>23310715<\/td>\n",
       "      <td>Mon<\/td>\n",
       "      <td>Apr<\/td>\n",
       "      <td>2020<\/td>\n",
       "    <\/tr>\n",
       "    <tr>\n",
       "      <th>84913<\/th>\n",
       "      <td>2020-04-27<\/td>\n",
       "      <td>NPL<\/td>\n",
       "      <td>Nepal<\/td>\n",
       "      <td>Low income<\/td>\n",
       "      <td>South Asia<\/td>\n",
       "      <td>Asia<\/td>\n",
       "      <td>0<\/td>\n",
       "      <td>0<\/td>\n",
       "      <td>28608710<\/td>\n",
       "      <td>Mon<\/td>\n",
       "      <td>Apr<\/td>\n",
       "      <td>2020<\/td>\n",
       "    <\/tr>\n",
       "    <tr>\n",
       "      <th>95128<\/th>\n",
       "      <td>2020-04-27<\/td>\n",
       "      <td>RWA<\/td>\n",
       "      <td>Rwanda<\/td>\n",
       "      <td>Low income<\/td>\n",
       "      <td>Sub-Saharan Africa<\/td>\n",
       "      <td>Africa<\/td>\n",
       "      <td>16<\/td>\n",
       "      <td>0<\/td>\n",
       "      <td>12626950<\/td>\n",
       "      <td>Mon<\/td>\n",
       "      <td>Apr<\/td>\n",
       "      <td>2020<\/td>\n",
       "    <\/tr>\n",
       "    <tr>\n",
       "      <th>98922<\/th>\n",
       "      <td>2020-04-27<\/td>\n",
       "      <td>SLE<\/td>\n",
       "      <td>Sierra Leone<\/td>\n",
       "      <td>Low income<\/td>\n",
       "      <td>Sub-Saharan Africa<\/td>\n",
       "      <td>Africa<\/td>\n",
       "      <td>0<\/td>\n",
       "      <td>0<\/td>\n",
       "      <td>7813215<\/td>\n",
       "      <td>Mon<\/td>\n",
       "      <td>Apr<\/td>\n",
       "      <td>2020<\/td>\n",
       "    <\/tr>\n",
       "    <tr>\n",
       "      <th>100903<\/th>\n",
       "      <td>2020-04-27<\/td>\n",
       "      <td>SOM<\/td>\n",
       "      <td>Somalia<\/td>\n",
       "      <td>Low income<\/td>\n",
       "      <td>Sub-Saharan Africa<\/td>\n",
       "      <td>Africa<\/td>\n",
       "      <td>44<\/td>\n",
       "      <td>3<\/td>\n",
       "      <td>15442905<\/td>\n",
       "      <td>Mon<\/td>\n",
       "      <td>Apr<\/td>\n",
       "      <td>2020<\/td>\n",
       "    <\/tr>\n",
       "    <tr>\n",
       "      <th>102205<\/th>\n",
       "      <td>2020-04-27<\/td>\n",
       "      <td>SSD<\/td>\n",
       "      <td>South Sudan<\/td>\n",
       "      <td>Low income<\/td>\n",
       "      <td>Sub-Saharan Africa<\/td>\n",
       "      <td>Africa<\/td>\n",
       "      <td>0<\/td>\n",
       "      <td>0<\/td>\n",
       "      <td>11062113<\/td>\n",
       "      <td>Mon<\/td>\n",
       "      <td>Apr<\/td>\n",
       "      <td>2020<\/td>\n",
       "    <\/tr>\n",
       "    <tr>\n",
       "      <th>107496<\/th>\n",
       "      <td>2020-04-27<\/td>\n",
       "      <td>SYR<\/td>\n",
       "      <td>Syria<\/td>\n",
       "      <td>Low income<\/td>\n",
       "      <td>Middle East &amp; North Africa<\/td>\n",
       "      <td>Asia<\/td>\n",
       "      <td>0<\/td>\n",
       "      <td>0<\/td>\n",
       "      <td>17070135<\/td>\n",
       "      <td>Mon<\/td>\n",
       "      <td>Apr<\/td>\n",
       "      <td>2020<\/td>\n",
       "    <\/tr>\n",
       "    <tr>\n",
       "      <th>108149<\/th>\n",
       "      <td>2020-04-27<\/td>\n",
       "      <td>TCD<\/td>\n",
       "      <td>Chad<\/td>\n",
       "      <td>Low income<\/td>\n",
       "      <td>Sub-Saharan Africa<\/td>\n",
       "      <td>Africa<\/td>\n",
       "      <td>0<\/td>\n",
       "      <td>0<\/td>\n",
       "      <td>15946876<\/td>\n",
       "      <td>Mon<\/td>\n",
       "      <td>Apr<\/td>\n",
       "      <td>2020<\/td>\n",
       "    <\/tr>\n",
       "    <tr>\n",
       "      <th>108815<\/th>\n",
       "      <td>2020-04-27<\/td>\n",
       "      <td>TGO<\/td>\n",
       "      <td>Togo<\/td>\n",
       "      <td>Low income<\/td>\n",
       "      <td>Sub-Saharan Africa<\/td>\n",
       "      <td>Africa<\/td>\n",
       "      <td>0<\/td>\n",
       "      <td>0<\/td>\n",
       "      <td>8082366<\/td>\n",
       "      <td>Mon<\/td>\n",
       "      <td>Apr<\/td>\n",
       "      <td>2020<\/td>\n",
       "    <\/tr>\n",
       "    <tr>\n",
       "      <th>113428<\/th>\n",
       "      <td>2020-04-27<\/td>\n",
       "      <td>TZA<\/td>\n",
       "      <td>Tanzania<\/td>\n",
       "      <td>Low income<\/td>\n",
       "      <td>Sub-Saharan Africa<\/td>\n",
       "      <td>Africa<\/td>\n",
       "      <td>0<\/td>\n",
       "      <td>0<\/td>\n",
       "      <td>58005463<\/td>\n",
       "      <td>Mon<\/td>\n",
       "      <td>Apr<\/td>\n",
       "      <td>2020<\/td>\n",
       "    <\/tr>\n",
       "    <tr>\n",
       "      <th>114079<\/th>\n",
       "      <td>2020-04-27<\/td>\n",
       "      <td>UGA<\/td>\n",
       "      <td>Uganda<\/td>\n",
       "      <td>Low income<\/td>\n",
       "      <td>Sub-Saharan Africa<\/td>\n",
       "      <td>Africa<\/td>\n",
       "      <td>0<\/td>\n",
       "      <td>0<\/td>\n",
       "      <td>44269594<\/td>\n",
       "      <td>Mon<\/td>\n",
       "      <td>Apr<\/td>\n",
       "      <td>2020<\/td>\n",
       "    <\/tr>\n",
       "    <tr>\n",
       "      <th>120256<\/th>\n",
       "      <td>2020-04-27<\/td>\n",
       "      <td>YEM<\/td>\n",
       "      <td>Yemen<\/td>\n",
       "      <td>Low income<\/td>\n",
       "      <td>Middle East &amp; North Africa<\/td>\n",
       "      <td>Asia<\/td>\n",
       "      <td>0<\/td>\n",
       "      <td>0<\/td>\n",
       "      <td>29161922<\/td>\n",
       "      <td>Mon<\/td>\n",
       "      <td>Apr<\/td>\n",
       "      <td>2020<\/td>\n",
       "    <\/tr>\n",
       "  <\/tbody>\n",
       "<\/table>\n",
       "<\/div>"
      ]
     },
     "metadata":{
      
     },
     "output_type":"display_data"
    }
   ],
   "metadata":{
    "datalore":{
     "type":"CODE",
     "hide_input_from_viewers":false,
     "hide_output_from_viewers":false
    }
   }
  },
  {
   "cell_type":"code",
   "source":[
    "df[(df['income']=='High income') & (df['date']=='2020-04-27 00:00:00')] # To know the number of high income countries"
   ],
   "execution_count":181,
   "outputs":[
    {
     "data":{
      "text\/html":[
       "<div>\n",
       "<style scoped>\n",
       "    .dataframe tbody tr th:only-of-type {\n",
       "        vertical-align: middle;\n",
       "    }\n",
       "\n",
       "    .dataframe tbody tr th {\n",
       "        vertical-align: top;\n",
       "    }\n",
       "\n",
       "    .dataframe thead th {\n",
       "        text-align: right;\n",
       "    }\n",
       "<\/style>\n",
       "<table border=\"1\" class=\"dataframe\">\n",
       "  <thead>\n",
       "    <tr style=\"text-align: right;\">\n",
       "      <th><\/th>\n",
       "      <th>date<\/th>\n",
       "      <th>iso3c<\/th>\n",
       "      <th>country<\/th>\n",
       "      <th>income<\/th>\n",
       "      <th>region<\/th>\n",
       "      <th>continent<\/th>\n",
       "      <th>dcases<\/th>\n",
       "      <th>ddeaths<\/th>\n",
       "      <th>population<\/th>\n",
       "      <th>weekdays<\/th>\n",
       "      <th>month<\/th>\n",
       "      <th>year<\/th>\n",
       "    <\/tr>\n",
       "  <\/thead>\n",
       "  <tbody>\n",
       "    <tr>\n",
       "      <th>2048<\/th>\n",
       "      <td>2020-04-27<\/td>\n",
       "      <td>AND<\/td>\n",
       "      <td>Andorra<\/td>\n",
       "      <td>High income<\/td>\n",
       "      <td>Europe &amp; Central Asia<\/td>\n",
       "      <td>Europe<\/td>\n",
       "      <td>5<\/td>\n",
       "      <td>0<\/td>\n",
       "      <td>77142<\/td>\n",
       "      <td>Mon<\/td>\n",
       "      <td>Apr<\/td>\n",
       "      <td>2020<\/td>\n",
       "    <\/tr>\n",
       "    <tr>\n",
       "      <th>2751<\/th>\n",
       "      <td>2020-04-27<\/td>\n",
       "      <td>ARE<\/td>\n",
       "      <td>United Arab Emirates<\/td>\n",
       "      <td>High income<\/td>\n",
       "      <td>Middle East &amp; North Africa<\/td>\n",
       "      <td>Asia<\/td>\n",
       "      <td>490<\/td>\n",
       "      <td>6<\/td>\n",
       "      <td>9770529<\/td>\n",
       "      <td>Mon<\/td>\n",
       "      <td>Apr<\/td>\n",
       "      <td>2020<\/td>\n",
       "    <\/tr>\n",
       "    <tr>\n",
       "      <th>4750<\/th>\n",
       "      <td>2020-04-27<\/td>\n",
       "      <td>ATG<\/td>\n",
       "      <td>Antigua &amp; Barbuda<\/td>\n",
       "      <td>High income<\/td>\n",
       "      <td>Latin America &amp; Caribbean<\/td>\n",
       "      <td>North America(continent)<\/td>\n",
       "      <td>0<\/td>\n",
       "      <td>0<\/td>\n",
       "      <td>97118<\/td>\n",
       "      <td>Mon<\/td>\n",
       "      <td>Apr<\/td>\n",
       "      <td>2020<\/td>\n",
       "    <\/tr>\n",
       "    <tr>\n",
       "      <th>5456<\/th>\n",
       "      <td>2020-04-27<\/td>\n",
       "      <td>AUS<\/td>\n",
       "      <td>Australia<\/td>\n",
       "      <td>High income<\/td>\n",
       "      <td>East Asia &amp; Pacific<\/td>\n",
       "      <td>Oceania<\/td>\n",
       "      <td>7<\/td>\n",
       "      <td>0<\/td>\n",
       "      <td>25364307<\/td>\n",
       "      <td>Mon<\/td>\n",
       "      <td>Apr<\/td>\n",
       "      <td>2020<\/td>\n",
       "    <\/tr>\n",
       "    <tr>\n",
       "      <th>6132<\/th>\n",
       "      <td>2020-04-27<\/td>\n",
       "      <td>AUT<\/td>\n",
       "      <td>Austria<\/td>\n",
       "      <td>High income<\/td>\n",
       "      <td>Europe &amp; Central Asia<\/td>\n",
       "      <td>Europe<\/td>\n",
       "      <td>49<\/td>\n",
       "      <td>7<\/td>\n",
       "      <td>8877067<\/td>\n",
       "      <td>Mon<\/td>\n",
       "      <td>Apr<\/td>\n",
       "      <td>2020<\/td>\n",
       "    <\/tr>\n",
       "    <tr>\n",
       "      <th>8141<\/th>\n",
       "      <td>2020-04-27<\/td>\n",
       "      <td>BEL<\/td>\n",
       "      <td>Belgium<\/td>\n",
       "      <td>High income<\/td>\n",
       "      <td>Europe &amp; Central Asia<\/td>\n",
       "      <td>Europe<\/td>\n",
       "      <td>553<\/td>\n",
       "      <td>113<\/td>\n",
       "      <td>11484055<\/td>\n",
       "      <td>Mon<\/td>\n",
       "      <td>Apr<\/td>\n",
       "      <td>2020<\/td>\n",
       "    <\/tr>\n",
       "    <tr>\n",
       "      <th>11464<\/th>\n",
       "      <td>2020-04-27<\/td>\n",
       "      <td>BHR<\/td>\n",
       "      <td>Bahrain<\/td>\n",
       "      <td>High income<\/td>\n",
       "      <td>Middle East &amp; North Africa<\/td>\n",
       "      <td>Asia<\/td>\n",
       "      <td>76<\/td>\n",
       "      <td>0<\/td>\n",
       "      <td>1641172<\/td>\n",
       "      <td>Mon<\/td>\n",
       "      <td>Apr<\/td>\n",
       "      <td>2020<\/td>\n",
       "    <\/tr>\n",
       "    <tr>\n",
       "      <th>12120<\/th>\n",
       "      <td>2020-04-27<\/td>\n",
       "      <td>BHS<\/td>\n",
       "      <td>Bahamas<\/td>\n",
       "      <td>High income<\/td>\n",
       "      <td>Latin America &amp; Caribbean<\/td>\n",
       "      <td>North America(continent)<\/td>\n",
       "      <td>0<\/td>\n",
       "      <td>0<\/td>\n",
       "      <td>389482<\/td>\n",
       "      <td>Mon<\/td>\n",
       "      <td>Apr<\/td>\n",
       "      <td>2020<\/td>\n",
       "    <\/tr>\n",
       "    <tr>\n",
       "      <th>16100<\/th>\n",
       "      <td>2020-04-27<\/td>\n",
       "      <td>BRB<\/td>\n",
       "      <td>Barbados<\/td>\n",
       "      <td>High income<\/td>\n",
       "      <td>Latin America &amp; Caribbean<\/td>\n",
       "      <td>North America(continent)<\/td>\n",
       "      <td>1<\/td>\n",
       "      <td>0<\/td>\n",
       "      <td>287025<\/td>\n",
       "      <td>Mon<\/td>\n",
       "      <td>Apr<\/td>\n",
       "      <td>2020<\/td>\n",
       "    <\/tr>\n",
       "    <tr>\n",
       "      <th>16763<\/th>\n",
       "      <td>2020-04-27<\/td>\n",
       "      <td>BRN<\/td>\n",
       "      <td>Brunei<\/td>\n",
       "      <td>High income<\/td>\n",
       "      <td>East Asia &amp; Pacific<\/td>\n",
       "      <td>Asia<\/td>\n",
       "      <td>0<\/td>\n",
       "      <td>0<\/td>\n",
       "      <td>433285<\/td>\n",
       "      <td>Mon<\/td>\n",
       "      <td>Apr<\/td>\n",
       "      <td>2020<\/td>\n",
       "    <\/tr>\n",
       "    <tr>\n",
       "      <th>19437<\/th>\n",
       "      <td>2020-04-27<\/td>\n",
       "      <td>CAN<\/td>\n",
       "      <td>Canada<\/td>\n",
       "      <td>High income<\/td>\n",
       "      <td>North America(region)<\/td>\n",
       "      <td>North America(continent)<\/td>\n",
       "      <td>1656<\/td>\n",
       "      <td>164<\/td>\n",
       "      <td>37589262<\/td>\n",
       "      <td>Mon<\/td>\n",
       "      <td>Apr<\/td>\n",
       "      <td>2020<\/td>\n",
       "    <\/tr>\n",
       "    <tr>\n",
       "      <th>20113<\/th>\n",
       "      <td>2020-04-27<\/td>\n",
       "      <td>CHE<\/td>\n",
       "      <td>Switzerland<\/td>\n",
       "      <td>High income<\/td>\n",
       "      <td>Europe &amp; Central Asia<\/td>\n",
       "      <td>Europe<\/td>\n",
       "      <td>103<\/td>\n",
       "      <td>20<\/td>\n",
       "      <td>8574832<\/td>\n",
       "      <td>Mon<\/td>\n",
       "      <td>Apr<\/td>\n",
       "      <td>2020<\/td>\n",
       "    <\/tr>\n",
       "    <tr>\n",
       "      <th>20791<\/th>\n",
       "      <td>2020-04-27<\/td>\n",
       "      <td>CHL<\/td>\n",
       "      <td>Chile<\/td>\n",
       "      <td>High income<\/td>\n",
       "      <td>Latin America &amp; Caribbean<\/td>\n",
       "      <td>South America(continent)<\/td>\n",
       "      <td>482<\/td>\n",
       "      <td>9<\/td>\n",
       "      <td>18952038<\/td>\n",
       "      <td>Mon<\/td>\n",
       "      <td>Apr<\/td>\n",
       "      <td>2020<\/td>\n",
       "    <\/tr>\n",
       "    <tr>\n",
       "      <th>28063<\/th>\n",
       "      <td>2020-04-27<\/td>\n",
       "      <td>CYP<\/td>\n",
       "      <td>Cyprus<\/td>\n",
       "      <td>High income<\/td>\n",
       "      <td>Europe &amp; Central Asia<\/td>\n",
       "      <td>Asia<\/td>\n",
       "      <td>7<\/td>\n",
       "      <td>0<\/td>\n",
       "      <td>1198575<\/td>\n",
       "      <td>Mon<\/td>\n",
       "      <td>Apr<\/td>\n",
       "      <td>2020<\/td>\n",
       "    <\/tr>\n",
       "    <tr>\n",
       "      <th>28734<\/th>\n",
       "      <td>2020-04-27<\/td>\n",
       "      <td>CZE<\/td>\n",
       "      <td>Czechia<\/td>\n",
       "      <td>High income<\/td>\n",
       "      <td>Europe &amp; Central Asia<\/td>\n",
       "      <td>Europe<\/td>\n",
       "      <td>41<\/td>\n",
       "      <td>3<\/td>\n",
       "      <td>10669709<\/td>\n",
       "      <td>Mon<\/td>\n",
       "      <td>Apr<\/td>\n",
       "      <td>2020<\/td>\n",
       "    <\/tr>\n",
       "    <tr>\n",
       "      <th>29439<\/th>\n",
       "      <td>2020-04-27<\/td>\n",
       "      <td>DEU<\/td>\n",
       "      <td>Germany<\/td>\n",
       "      <td>High income<\/td>\n",
       "      <td>Europe &amp; Central Asia<\/td>\n",
       "      <td>Europe<\/td>\n",
       "      <td>988<\/td>\n",
       "      <td>150<\/td>\n",
       "      <td>83132799<\/td>\n",
       "      <td>Mon<\/td>\n",
       "      <td>Apr<\/td>\n",
       "      <td>2020<\/td>\n",
       "    <\/tr>\n",
       "    <tr>\n",
       "      <th>31417<\/th>\n",
       "      <td>2020-04-27<\/td>\n",
       "      <td>DNK<\/td>\n",
       "      <td>Denmark<\/td>\n",
       "      <td>High income<\/td>\n",
       "      <td>Europe &amp; Central Asia<\/td>\n",
       "      <td>Europe<\/td>\n",
       "      <td>123<\/td>\n",
       "      <td>5<\/td>\n",
       "      <td>5818553<\/td>\n",
       "      <td>Mon<\/td>\n",
       "      <td>Apr<\/td>\n",
       "      <td>2020<\/td>\n",
       "    <\/tr>\n",
       "    <tr>\n",
       "      <th>34822<\/th>\n",
       "      <td>2020-04-27<\/td>\n",
       "      <td>ESP<\/td>\n",
       "      <td>Spain<\/td>\n",
       "      <td>High income<\/td>\n",
       "      <td>Europe &amp; Central Asia<\/td>\n",
       "      <td>Europe<\/td>\n",
       "      <td>1831<\/td>\n",
       "      <td>331<\/td>\n",
       "      <td>47076781<\/td>\n",
       "      <td>Mon<\/td>\n",
       "      <td>Apr<\/td>\n",
       "      <td>2020<\/td>\n",
       "    <\/tr>\n",
       "    <tr>\n",
       "      <th>35496<\/th>\n",
       "      <td>2020-04-27<\/td>\n",
       "      <td>EST<\/td>\n",
       "      <td>Estonia<\/td>\n",
       "      <td>High income<\/td>\n",
       "      <td>Europe &amp; Central Asia<\/td>\n",
       "      <td>Europe<\/td>\n",
       "      <td>4<\/td>\n",
       "      <td>1<\/td>\n",
       "      <td>1326590<\/td>\n",
       "      <td>Mon<\/td>\n",
       "      <td>Apr<\/td>\n",
       "      <td>2020<\/td>\n",
       "    <\/tr>\n",
       "    <tr>\n",
       "      <th>36858<\/th>\n",
       "      <td>2020-04-27<\/td>\n",
       "      <td>FIN<\/td>\n",
       "      <td>Finland<\/td>\n",
       "      <td>High income<\/td>\n",
       "      <td>Europe &amp; Central Asia<\/td>\n",
       "      <td>Europe<\/td>\n",
       "      <td>73<\/td>\n",
       "      <td>5<\/td>\n",
       "      <td>5520314<\/td>\n",
       "      <td>Mon<\/td>\n",
       "      <td>Apr<\/td>\n",
       "      <td>2020<\/td>\n",
       "    <\/tr>\n",
       "    <tr>\n",
       "      <th>38219<\/th>\n",
       "      <td>2020-04-27<\/td>\n",
       "      <td>FRA<\/td>\n",
       "      <td>France<\/td>\n",
       "      <td>High income<\/td>\n",
       "      <td>Europe &amp; Central Asia<\/td>\n",
       "      <td>Europe<\/td>\n",
       "      <td>3686<\/td>\n",
       "      <td>437<\/td>\n",
       "      <td>67059887<\/td>\n",
       "      <td>Mon<\/td>\n",
       "      <td>Apr<\/td>\n",
       "      <td>2020<\/td>\n",
       "    <\/tr>\n",
       "    <tr>\n",
       "      <th>39578<\/th>\n",
       "      <td>2020-04-27<\/td>\n",
       "      <td>GBR<\/td>\n",
       "      <td>United Kingdom<\/td>\n",
       "      <td>High income<\/td>\n",
       "      <td>Europe &amp; Central Asia<\/td>\n",
       "      <td>Europe<\/td>\n",
       "      <td>4707<\/td>\n",
       "      <td>323<\/td>\n",
       "      <td>66834405<\/td>\n",
       "      <td>Mon<\/td>\n",
       "      <td>Apr<\/td>\n",
       "      <td>2020<\/td>\n",
       "    <\/tr>\n",
       "    <tr>\n",
       "      <th>44204<\/th>\n",
       "      <td>2020-04-27<\/td>\n",
       "      <td>GRC<\/td>\n",
       "      <td>Greece<\/td>\n",
       "      <td>High income<\/td>\n",
       "      <td>Europe &amp; Central Asia<\/td>\n",
       "      <td>Europe<\/td>\n",
       "      <td>17<\/td>\n",
       "      <td>2<\/td>\n",
       "      <td>10716322<\/td>\n",
       "      <td>Mon<\/td>\n",
       "      <td>Apr<\/td>\n",
       "      <td>2020<\/td>\n",
       "    <\/tr>\n",
       "    <tr>\n",
       "      <th>47509<\/th>\n",
       "      <td>2020-04-27<\/td>\n",
       "      <td>HRV<\/td>\n",
       "      <td>Croatia<\/td>\n",
       "      <td>High income<\/td>\n",
       "      <td>Europe &amp; Central Asia<\/td>\n",
       "      <td>Europe<\/td>\n",
       "      <td>9<\/td>\n",
       "      <td>4<\/td>\n",
       "      <td>4067500<\/td>\n",
       "      <td>Mon<\/td>\n",
       "      <td>Apr<\/td>\n",
       "      <td>2020<\/td>\n",
       "    <\/tr>\n",
       "    <tr>\n",
       "      <th>48829<\/th>\n",
       "      <td>2020-04-27<\/td>\n",
       "      <td>HUN<\/td>\n",
       "      <td>Hungary<\/td>\n",
       "      <td>High income<\/td>\n",
       "      <td>Europe &amp; Central Asia<\/td>\n",
       "      <td>Europe<\/td>\n",
       "      <td>83<\/td>\n",
       "      <td>8<\/td>\n",
       "      <td>9769949<\/td>\n",
       "      <td>Mon<\/td>\n",
       "      <td>Apr<\/td>\n",
       "      <td>2020<\/td>\n",
       "    <\/tr>\n",
       "    <tr>\n",
       "      <th>50873<\/th>\n",
       "      <td>2020-04-27<\/td>\n",
       "      <td>IRL<\/td>\n",
       "      <td>Ireland<\/td>\n",
       "      <td>High income<\/td>\n",
       "      <td>Europe &amp; Central Asia<\/td>\n",
       "      <td>Europe<\/td>\n",
       "      <td>386<\/td>\n",
       "      <td>15<\/td>\n",
       "      <td>4941444<\/td>\n",
       "      <td>Mon<\/td>\n",
       "      <td>Apr<\/td>\n",
       "      <td>2020<\/td>\n",
       "    <\/tr>\n",
       "    <tr>\n",
       "      <th>52905<\/th>\n",
       "      <td>2020-04-27<\/td>\n",
       "      <td>ISL<\/td>\n",
       "      <td>Iceland<\/td>\n",
       "      <td>High income<\/td>\n",
       "      <td>Europe &amp; Central Asia<\/td>\n",
       "      <td>Europe<\/td>\n",
       "      <td>0<\/td>\n",
       "      <td>0<\/td>\n",
       "      <td>361313<\/td>\n",
       "      <td>Mon<\/td>\n",
       "      <td>Apr<\/td>\n",
       "      <td>2020<\/td>\n",
       "    <\/tr>\n",
       "    <tr>\n",
       "      <th>53585<\/th>\n",
       "      <td>2020-04-27<\/td>\n",
       "      <td>ISR<\/td>\n",
       "      <td>Israel<\/td>\n",
       "      <td>High income<\/td>\n",
       "      <td>Middle East &amp; North Africa<\/td>\n",
       "      <td>Asia<\/td>\n",
       "      <td>128<\/td>\n",
       "      <td>4<\/td>\n",
       "      <td>9053300<\/td>\n",
       "      <td>Mon<\/td>\n",
       "      <td>Apr<\/td>\n",
       "      <td>2020<\/td>\n",
       "    <\/tr>\n",
       "    <tr>\n",
       "      <th>54286<\/th>\n",
       "      <td>2020-04-27<\/td>\n",
       "      <td>ITA<\/td>\n",
       "      <td>Italy<\/td>\n",
       "      <td>High income<\/td>\n",
       "      <td>Europe &amp; Central Asia<\/td>\n",
       "      <td>Europe<\/td>\n",
       "      <td>1739<\/td>\n",
       "      <td>333<\/td>\n",
       "      <td>60297396<\/td>\n",
       "      <td>Mon<\/td>\n",
       "      <td>Apr<\/td>\n",
       "      <td>2020<\/td>\n",
       "    <\/tr>\n",
       "    <tr>\n",
       "      <th>56326<\/th>\n",
       "      <td>2020-04-27<\/td>\n",
       "      <td>JPN<\/td>\n",
       "      <td>Japan<\/td>\n",
       "      <td>High income<\/td>\n",
       "      <td>East Asia &amp; Pacific<\/td>\n",
       "      <td>Asia<\/td>\n",
       "      <td>171<\/td>\n",
       "      <td>22<\/td>\n",
       "      <td>126264931<\/td>\n",
       "      <td>Mon<\/td>\n",
       "      <td>Apr<\/td>\n",
       "      <td>2020<\/td>\n",
       "    <\/tr>\n",
       "    <tr>\n",
       "      <th>59878<\/th>\n",
       "      <td>2020-04-27<\/td>\n",
       "      <td>KNA<\/td>\n",
       "      <td>St. Kitts &amp; Nevis<\/td>\n",
       "      <td>High income<\/td>\n",
       "      <td>Latin America &amp; Caribbean<\/td>\n",
       "      <td>North America(continent)<\/td>\n",
       "      <td>0<\/td>\n",
       "      <td>0<\/td>\n",
       "      <td>52834<\/td>\n",
       "      <td>Mon<\/td>\n",
       "      <td>Apr<\/td>\n",
       "      <td>2020<\/td>\n",
       "    <\/tr>\n",
       "    <tr>\n",
       "      <th>60588<\/th>\n",
       "      <td>2020-04-27<\/td>\n",
       "      <td>KOR<\/td>\n",
       "      <td>South Korea<\/td>\n",
       "      <td>High income<\/td>\n",
       "      <td>East Asia &amp; Pacific<\/td>\n",
       "      <td>Asia<\/td>\n",
       "      <td>14<\/td>\n",
       "      <td>1<\/td>\n",
       "      <td>51709098<\/td>\n",
       "      <td>Mon<\/td>\n",
       "      <td>Apr<\/td>\n",
       "      <td>2020<\/td>\n",
       "    <\/tr>\n",
       "    <tr>\n",
       "      <th>61265<\/th>\n",
       "      <td>2020-04-27<\/td>\n",
       "      <td>KWT<\/td>\n",
       "      <td>Kuwait<\/td>\n",
       "      <td>High income<\/td>\n",
       "      <td>Middle East &amp; North Africa<\/td>\n",
       "      <td>Asia<\/td>\n",
       "      <td>213<\/td>\n",
       "      <td>2<\/td>\n",
       "      <td>4207083<\/td>\n",
       "      <td>Mon<\/td>\n",
       "      <td>Apr<\/td>\n",
       "      <td>2020<\/td>\n",
       "    <\/tr>\n",
       "    <tr>\n",
       "      <th>65222<\/th>\n",
       "      <td>2020-04-27<\/td>\n",
       "      <td>LIE<\/td>\n",
       "      <td>Liechtenstein<\/td>\n",
       "      <td>High income<\/td>\n",
       "      <td>Europe &amp; Central Asia<\/td>\n",
       "      <td>Europe<\/td>\n",
       "      <td>0<\/td>\n",
       "      <td>0<\/td>\n",
       "      <td>38019<\/td>\n",
       "      <td>Mon<\/td>\n",
       "      <td>Apr<\/td>\n",
       "      <td>2020<\/td>\n",
       "    <\/tr>\n",
       "    <tr>\n",
       "      <th>67197<\/th>\n",
       "      <td>2020-04-27<\/td>\n",
       "      <td>LTU<\/td>\n",
       "      <td>Lithuania<\/td>\n",
       "      <td>High income<\/td>\n",
       "      <td>Europe &amp; Central Asia<\/td>\n",
       "      <td>Europe<\/td>\n",
       "      <td>12<\/td>\n",
       "      <td>1<\/td>\n",
       "      <td>2786844<\/td>\n",
       "      <td>Mon<\/td>\n",
       "      <td>Apr<\/td>\n",
       "      <td>2020<\/td>\n",
       "    <\/tr>\n",
       "    <tr>\n",
       "      <th>67869<\/th>\n",
       "      <td>2020-04-27<\/td>\n",
       "      <td>LUX<\/td>\n",
       "      <td>Luxembourg<\/td>\n",
       "      <td>High income<\/td>\n",
       "      <td>Europe &amp; Central Asia<\/td>\n",
       "      <td>Europe<\/td>\n",
       "      <td>6<\/td>\n",
       "      <td>0<\/td>\n",
       "      <td>619896<\/td>\n",
       "      <td>Mon<\/td>\n",
       "      <td>Apr<\/td>\n",
       "      <td>2020<\/td>\n",
       "    <\/tr>\n",
       "    <tr>\n",
       "      <th>68539<\/th>\n",
       "      <td>2020-04-27<\/td>\n",
       "      <td>LVA<\/td>\n",
       "      <td>Latvia<\/td>\n",
       "      <td>High income<\/td>\n",
       "      <td>Europe &amp; Central Asia<\/td>\n",
       "      <td>Europe<\/td>\n",
       "      <td>6<\/td>\n",
       "      <td>1<\/td>\n",
       "      <td>1912789<\/td>\n",
       "      <td>Mon<\/td>\n",
       "      <td>Apr<\/td>\n",
       "      <td>2020<\/td>\n",
       "    <\/tr>\n",
       "    <tr>\n",
       "      <th>69881<\/th>\n",
       "      <td>2020-04-27<\/td>\n",
       "      <td>MCO<\/td>\n",
       "      <td>Monaco<\/td>\n",
       "      <td>High income<\/td>\n",
       "      <td>Europe &amp; Central Asia<\/td>\n",
       "      <td>Europe<\/td>\n",
       "      <td>1<\/td>\n",
       "      <td>0<\/td>\n",
       "      <td>38964<\/td>\n",
       "      <td>Mon<\/td>\n",
       "      <td>Apr<\/td>\n",
       "      <td>2020<\/td>\n",
       "    <\/tr>\n",
       "    <tr>\n",
       "      <th>74951<\/th>\n",
       "      <td>2020-04-27<\/td>\n",
       "      <td>MLT<\/td>\n",
       "      <td>Malta<\/td>\n",
       "      <td>High income<\/td>\n",
       "      <td>Middle East &amp; North Africa<\/td>\n",
       "      <td>Europe<\/td>\n",
       "      <td>2<\/td>\n",
       "      <td>0<\/td>\n",
       "      <td>502653<\/td>\n",
       "      <td>Mon<\/td>\n",
       "      <td>Apr<\/td>\n",
       "      <td>2020<\/td>\n",
       "    <\/tr>\n",
       "    <tr>\n",
       "      <th>83531<\/th>\n",
       "      <td>2020-04-27<\/td>\n",
       "      <td>NLD<\/td>\n",
       "      <td>Netherlands<\/td>\n",
       "      <td>High income<\/td>\n",
       "      <td>Europe &amp; Central Asia<\/td>\n",
       "      <td>Europe<\/td>\n",
       "      <td>171<\/td>\n",
       "      <td>43<\/td>\n",
       "      <td>17332850<\/td>\n",
       "      <td>Mon<\/td>\n",
       "      <td>Apr<\/td>\n",
       "      <td>2020<\/td>\n",
       "    <\/tr>\n",
       "    <tr>\n",
       "      <th>84206<\/th>\n",
       "      <td>2020-04-27<\/td>\n",
       "      <td>NOR<\/td>\n",
       "      <td>Norway<\/td>\n",
       "      <td>High income<\/td>\n",
       "      <td>Europe &amp; Central Asia<\/td>\n",
       "      <td>Europe<\/td>\n",
       "      <td>72<\/td>\n",
       "      <td>4<\/td>\n",
       "      <td>5347896<\/td>\n",
       "      <td>Mon<\/td>\n",
       "      <td>Apr<\/td>\n",
       "      <td>2020<\/td>\n",
       "    <\/tr>\n",
       "    <tr>\n",
       "      <th>85586<\/th>\n",
       "      <td>2020-04-27<\/td>\n",
       "      <td>NZL<\/td>\n",
       "      <td>New Zealand<\/td>\n",
       "      <td>High income<\/td>\n",
       "      <td>East Asia &amp; Pacific<\/td>\n",
       "      <td>Oceania<\/td>\n",
       "      <td>3<\/td>\n",
       "      <td>0<\/td>\n",
       "      <td>4917000<\/td>\n",
       "      <td>Mon<\/td>\n",
       "      <td>Apr<\/td>\n",
       "      <td>2020<\/td>\n",
       "    <\/tr>\n",
       "    <tr>\n",
       "      <th>86263<\/th>\n",
       "      <td>2020-04-27<\/td>\n",
       "      <td>OMN<\/td>\n",
       "      <td>Oman<\/td>\n",
       "      <td>High income<\/td>\n",
       "      <td>Middle East &amp; North Africa<\/td>\n",
       "      <td>Asia<\/td>\n",
       "      <td>51<\/td>\n",
       "      <td>0<\/td>\n",
       "      <td>4974986<\/td>\n",
       "      <td>Mon<\/td>\n",
       "      <td>Apr<\/td>\n",
       "      <td>2020<\/td>\n",
       "    <\/tr>\n",
       "    <tr>\n",
       "      <th>87601<\/th>\n",
       "      <td>2020-04-27<\/td>\n",
       "      <td>PAN<\/td>\n",
       "      <td>Panama<\/td>\n",
       "      <td>High income<\/td>\n",
       "      <td>Latin America &amp; Caribbean<\/td>\n",
       "      <td>North America(continent)<\/td>\n",
       "      <td>242<\/td>\n",
       "      <td>2<\/td>\n",
       "      <td>4246439<\/td>\n",
       "      <td>Mon<\/td>\n",
       "      <td>Apr<\/td>\n",
       "      <td>2020<\/td>\n",
       "    <\/tr>\n",
       "    <tr>\n",
       "      <th>90421<\/th>\n",
       "      <td>2020-04-27<\/td>\n",
       "      <td>POL<\/td>\n",
       "      <td>Poland<\/td>\n",
       "      <td>High income<\/td>\n",
       "      <td>Europe &amp; Central Asia<\/td>\n",
       "      <td>Europe<\/td>\n",
       "      <td>285<\/td>\n",
       "      <td>27<\/td>\n",
       "      <td>37970874<\/td>\n",
       "      <td>Mon<\/td>\n",
       "      <td>Apr<\/td>\n",
       "      <td>2020<\/td>\n",
       "    <\/tr>\n",
       "    <tr>\n",
       "      <th>91091<\/th>\n",
       "      <td>2020-04-27<\/td>\n",
       "      <td>PRT<\/td>\n",
       "      <td>Portugal<\/td>\n",
       "      <td>High income<\/td>\n",
       "      <td>Europe &amp; Central Asia<\/td>\n",
       "      <td>Europe<\/td>\n",
       "      <td>163<\/td>\n",
       "      <td>25<\/td>\n",
       "      <td>10269417<\/td>\n",
       "      <td>Mon<\/td>\n",
       "      <td>Apr<\/td>\n",
       "      <td>2020<\/td>\n",
       "    <\/tr>\n",
       "    <tr>\n",
       "      <th>93094<\/th>\n",
       "      <td>2020-04-27<\/td>\n",
       "      <td>QAT<\/td>\n",
       "      <td>Qatar<\/td>\n",
       "      <td>High income<\/td>\n",
       "      <td>Middle East &amp; North Africa<\/td>\n",
       "      <td>Asia<\/td>\n",
       "      <td>957<\/td>\n",
       "      <td>0<\/td>\n",
       "      <td>2832067<\/td>\n",
       "      <td>Mon<\/td>\n",
       "      <td>Apr<\/td>\n",
       "      <td>2020<\/td>\n",
       "    <\/tr>\n",
       "    <tr>\n",
       "      <th>95798<\/th>\n",
       "      <td>2020-04-27<\/td>\n",
       "      <td>SAU<\/td>\n",
       "      <td>Saudi Arabia<\/td>\n",
       "      <td>High income<\/td>\n",
       "      <td>Middle East &amp; North Africa<\/td>\n",
       "      <td>Asia<\/td>\n",
       "      <td>1289<\/td>\n",
       "      <td>5<\/td>\n",
       "      <td>34268528<\/td>\n",
       "      <td>Mon<\/td>\n",
       "      <td>Apr<\/td>\n",
       "      <td>2020<\/td>\n",
       "    <\/tr>\n",
       "    <tr>\n",
       "      <th>97835<\/th>\n",
       "      <td>2020-04-27<\/td>\n",
       "      <td>SGP<\/td>\n",
       "      <td>Singapore<\/td>\n",
       "      <td>High income<\/td>\n",
       "      <td>East Asia &amp; Pacific<\/td>\n",
       "      <td>Asia<\/td>\n",
       "      <td>799<\/td>\n",
       "      <td>2<\/td>\n",
       "      <td>5703569<\/td>\n",
       "      <td>Mon<\/td>\n",
       "      <td>Apr<\/td>\n",
       "      <td>2020<\/td>\n",
       "    <\/tr>\n",
       "    <tr>\n",
       "      <th>100247<\/th>\n",
       "      <td>2020-04-27<\/td>\n",
       "      <td>SMR<\/td>\n",
       "      <td>San Marino<\/td>\n",
       "      <td>High income<\/td>\n",
       "      <td>Europe &amp; Central Asia<\/td>\n",
       "      <td>Europe<\/td>\n",
       "      <td>25<\/td>\n",
       "      <td>1<\/td>\n",
       "      <td>33860<\/td>\n",
       "      <td>Mon<\/td>\n",
       "      <td>Apr<\/td>\n",
       "      <td>2020<\/td>\n",
       "    <\/tr>\n",
       "    <tr>\n",
       "      <th>104164<\/th>\n",
       "      <td>2020-04-27<\/td>\n",
       "      <td>SVK<\/td>\n",
       "      <td>Slovakia<\/td>\n",
       "      <td>High income<\/td>\n",
       "      <td>Europe &amp; Central Asia<\/td>\n",
       "      <td>Europe<\/td>\n",
       "      <td>2<\/td>\n",
       "      <td>0<\/td>\n",
       "      <td>5454073<\/td>\n",
       "      <td>Mon<\/td>\n",
       "      <td>Apr<\/td>\n",
       "      <td>2020<\/td>\n",
       "    <\/tr>\n",
       "    <tr>\n",
       "      <th>104831<\/th>\n",
       "      <td>2020-04-27<\/td>\n",
       "      <td>SVN<\/td>\n",
       "      <td>Slovenia<\/td>\n",
       "      <td>High income<\/td>\n",
       "      <td>Europe &amp; Central Asia<\/td>\n",
       "      <td>Europe<\/td>\n",
       "      <td>6<\/td>\n",
       "      <td>1<\/td>\n",
       "      <td>2087946<\/td>\n",
       "      <td>Mon<\/td>\n",
       "      <td>Apr<\/td>\n",
       "      <td>2020<\/td>\n",
       "    <\/tr>\n",
       "    <tr>\n",
       "      <th>105531<\/th>\n",
       "      <td>2020-04-27<\/td>\n",
       "      <td>SWE<\/td>\n",
       "      <td>Sweden<\/td>\n",
       "      <td>High income<\/td>\n",
       "      <td>Europe &amp; Central Asia<\/td>\n",
       "      <td>Europe<\/td>\n",
       "      <td>563<\/td>\n",
       "      <td>80<\/td>\n",
       "      <td>10285453<\/td>\n",
       "      <td>Mon<\/td>\n",
       "      <td>Apr<\/td>\n",
       "      <td>2020<\/td>\n",
       "    <\/tr>\n",
       "    <tr>\n",
       "      <th>106846<\/th>\n",
       "      <td>2020-04-27<\/td>\n",
       "      <td>SYC<\/td>\n",
       "      <td>Seychelles<\/td>\n",
       "      <td>High income<\/td>\n",
       "      <td>Sub-Saharan Africa<\/td>\n",
       "      <td>Africa<\/td>\n",
       "      <td>0<\/td>\n",
       "      <td>0<\/td>\n",
       "      <td>97625<\/td>\n",
       "      <td>Mon<\/td>\n",
       "      <td>Apr<\/td>\n",
       "      <td>2020<\/td>\n",
       "    <\/tr>\n",
       "    <tr>\n",
       "      <th>111443<\/th>\n",
       "      <td>2020-04-27<\/td>\n",
       "      <td>TTO<\/td>\n",
       "      <td>Trinidad &amp; Tobago<\/td>\n",
       "      <td>High income<\/td>\n",
       "      <td>Latin America &amp; Caribbean<\/td>\n",
       "      <td>North America(continent)<\/td>\n",
       "      <td>1<\/td>\n",
       "      <td>0<\/td>\n",
       "      <td>1394973<\/td>\n",
       "      <td>Mon<\/td>\n",
       "      <td>Apr<\/td>\n",
       "      <td>2020<\/td>\n",
       "    <\/tr>\n",
       "    <tr>\n",
       "      <th>115407<\/th>\n",
       "      <td>2020-04-27<\/td>\n",
       "      <td>URY<\/td>\n",
       "      <td>Uruguay<\/td>\n",
       "      <td>High income<\/td>\n",
       "      <td>Latin America &amp; Caribbean<\/td>\n",
       "      <td>South America(continent)<\/td>\n",
       "      <td>14<\/td>\n",
       "      <td>0<\/td>\n",
       "      <td>3461734<\/td>\n",
       "      <td>Mon<\/td>\n",
       "      <td>Apr<\/td>\n",
       "      <td>2020<\/td>\n",
       "    <\/tr>\n",
       "    <tr>\n",
       "      <th>116117<\/th>\n",
       "      <td>2020-04-27<\/td>\n",
       "      <td>USA<\/td>\n",
       "      <td>United States<\/td>\n",
       "      <td>High income<\/td>\n",
       "      <td>North America(region)<\/td>\n",
       "      <td>North America(continent)<\/td>\n",
       "      <td>24629<\/td>\n",
       "      <td>1480<\/td>\n",
       "      <td>328239523<\/td>\n",
       "      <td>Mon<\/td>\n",
       "      <td>Apr<\/td>\n",
       "      <td>2020<\/td>\n",
       "    <\/tr>\n",
       "  <\/tbody>\n",
       "<\/table>\n",
       "<\/div>"
      ]
     },
     "metadata":{
      
     },
     "output_type":"display_data"
    }
   ],
   "metadata":{
    "datalore":{
     "type":"CODE",
     "hide_input_from_viewers":false,
     "hide_output_from_viewers":false
    }
   }
  },
  {
   "cell_type":"code",
   "source":[
    "CIcovidINC = {}\n",
    "CIcovidINC['income'] = ['Low income 20','Low income 21','High income 20','High income 21']\n",
    "CIcovidINC['lb'] = [statsLOW20df.iloc[0,5],statsLOW21df.iloc[0,5],statsHIGH20df.iloc[0,5],statsHIGH21df.iloc[0,5]]\n",
    "CIcovidINC['ub'] = [statsLOW20df.iloc[0,6],statsLOW21df.iloc[0,6],statsHIGH20df.iloc[0,6],statsHIGH21df.iloc[0,6]]\n",
    "df_ci= pd.DataFrame(CIcovidINC)\n",
    "df_ci"
   ],
   "execution_count":182,
   "outputs":[
    {
     "data":{
      "text\/html":[
       "<div>\n",
       "<style scoped>\n",
       "    .dataframe tbody tr th:only-of-type {\n",
       "        vertical-align: middle;\n",
       "    }\n",
       "\n",
       "    .dataframe tbody tr th {\n",
       "        vertical-align: top;\n",
       "    }\n",
       "\n",
       "    .dataframe thead th {\n",
       "        text-align: right;\n",
       "    }\n",
       "<\/style>\n",
       "<table border=\"1\" class=\"dataframe\">\n",
       "  <thead>\n",
       "    <tr style=\"text-align: right;\">\n",
       "      <th><\/th>\n",
       "      <th>income<\/th>\n",
       "      <th>lb<\/th>\n",
       "      <th>ub<\/th>\n",
       "    <\/tr>\n",
       "  <\/thead>\n",
       "  <tbody>\n",
       "    <tr>\n",
       "      <th>0<\/th>\n",
       "      <td>Low income 20<\/td>\n",
       "      <td>71.046059<\/td>\n",
       "      <td>83.204450<\/td>\n",
       "    <\/tr>\n",
       "    <tr>\n",
       "      <th>1<\/th>\n",
       "      <td>Low income 21<\/td>\n",
       "      <td>156.161537<\/td>\n",
       "      <td>181.200579<\/td>\n",
       "    <\/tr>\n",
       "    <tr>\n",
       "      <th>2<\/th>\n",
       "      <td>High income 20<\/td>\n",
       "      <td>2138.462037<\/td>\n",
       "      <td>2504.908017<\/td>\n",
       "    <\/tr>\n",
       "    <tr>\n",
       "      <th>3<\/th>\n",
       "      <td>High income 21<\/td>\n",
       "      <td>4272.818827<\/td>\n",
       "      <td>4769.089852<\/td>\n",
       "    <\/tr>\n",
       "  <\/tbody>\n",
       "<\/table>\n",
       "<\/div>"
      ]
     },
     "metadata":{
      
     },
     "output_type":"display_data"
    }
   ],
   "metadata":{
    "datalore":{
     "type":"CODE",
     "hide_input_from_viewers":false,
     "hide_output_from_viewers":false
    }
   }
  },
  {
   "cell_type":"code",
   "source":[
    "#plotting the confidence intervals of average daily covid cases per year and income\n",
    "import matplotlib.pyplot as plt\n",
    "for lb,ub,y in zip(df_ci['lb'],df_ci['ub'],range(len(df_ci))):\n",
    "    plt.plot((lb,ub),(y,y),'ro-')\n",
    "plt.yticks(range(len(df_ci)),list(df_ci['income']))"
   ],
   "execution_count":183,
   "outputs":[
    {
     "data":{
      "text\/plain":[
       "([<matplotlib.axis.YTick at 0x7f190ef51d30>,\n",
       "  <matplotlib.axis.YTick at 0x7f190f57cf40>,\n",
       "  <matplotlib.axis.YTick at 0x7f190f57c0d0>,\n",
       "  <matplotlib.axis.YTick at 0x7f190ef1f670>],\n",
       " [Text(0, 0, 'Low income 20'),\n",
       "  Text(0, 1, 'Low income 21'),\n",
       "  Text(0, 2, 'High income 20'),\n",
       "  Text(0, 3, 'High income 21')])"
      ],
      "image\/png":"[encoded data removed]"
     },
     "metadata":{
      "image\/png":{
       
      }
     },
     "output_type":"display_data"
    }
   ],
   "metadata":{
    "datalore":{
     "type":"CODE",
     "hide_input_from_viewers":false,
     "hide_output_from_viewers":false
    }
   }
  },
  {
   "cell_type":"markdown",
   "source":[
    "**The above graph gives a visualization of the 95% confidence intervals of daily confirmed Covid cases in high and low income countries, in the years 2020 and 2021.** \n",
    "\n",
    "**Firstly, it can be seen that all 4 groups are relatively narrow; which means that there is little variation in the number of daily cases within each group. However, the low income groups' intervals (both 2020 and 2021) are much narrower than the high income groups. Meaning that there is less variation in the low income groups. This might be because the low income group consists of only 28 countries, whereas the high income group consists of 57 countries. The high income interval has more countries, which means that there is more room for variation within the daily number of cases.**\n",
    "\n",
    "**It can also be seen that in both groups (low income & high income) the confidence interval is higher in 2021 than 2020. This means that the overall worldwide daily cases were much more in 2021 than in 2020. However, the confidence interval of the low income countries in 2021 does not exceed 2020 by a very large proportion (unlike the high confidence interval).**\n",
    "\n",
    "**There are no overlaps between any of the 4 groups' confidence intervals. This simply means that there is a significant statistical difference between the intervals.**\n",
    "\n",
    "**The intervals increase in the following order: low income 2020, low income 2021, high income 2020, high income 2021. It was already established that the intervals in 2021 are higher than 2020, but we can also infer from the graph that the average daily cases in high income countries are more than in low income countries. This is due to the fact that high income countries are more developed; thus they have better medical resources and infrastructure in larger quantities than low income countries. This means that higher income countries have access to more Covid-19 tests, which increases the possibility of having positive cases. This does not necessarily mean that there are more daily cases in high income countries. It only means that there are more reported cases.**"
   ],
   "attachments":{
    
   },
   "metadata":{
    "datalore":{
     "type":"MD",
     "hide_input_from_viewers":false,
     "hide_output_from_viewers":false
    }
   }
  },
  {
   "cell_type":"markdown",
   "source":[
    "## 4. Confidence interval of average daily Covid cases comparisons between two different Continents (Arfrica & Europe) by year"
   ],
   "attachments":{
    
   },
   "metadata":{
    "datalore":{
     "type":"MD",
     "hide_input_from_viewers":false,
     "hide_output_from_viewers":false
    }
   }
  },
  {
   "cell_type":"code",
   "source":[
    "statsCONT=df.groupby(['continent','year']).agg({\"dcases\": [np.mean, np.std, np.size,get_ci_lb,get_ci_ub]})\n",
    "statsCONT"
   ],
   "execution_count":184,
   "outputs":[
    {
     "data":{
      "text\/html":[
       "<div>\n",
       "<style scoped>\n",
       "    .dataframe tbody tr th:only-of-type {\n",
       "        vertical-align: middle;\n",
       "    }\n",
       "\n",
       "    .dataframe tbody tr th {\n",
       "        vertical-align: top;\n",
       "    }\n",
       "\n",
       "    .dataframe thead tr th {\n",
       "        text-align: left;\n",
       "    }\n",
       "\n",
       "    .dataframe thead tr:last-of-type th {\n",
       "        text-align: right;\n",
       "    }\n",
       "<\/style>\n",
       "<table border=\"1\" class=\"dataframe\">\n",
       "  <thead>\n",
       "    <tr>\n",
       "      <th><\/th>\n",
       "      <th><\/th>\n",
       "      <th colspan=\"5\" halign=\"left\">dcases<\/th>\n",
       "    <\/tr>\n",
       "    <tr>\n",
       "      <th><\/th>\n",
       "      <th><\/th>\n",
       "      <th>mean<\/th>\n",
       "      <th>std<\/th>\n",
       "      <th>size<\/th>\n",
       "      <th>get_ci_lb<\/th>\n",
       "      <th>get_ci_ub<\/th>\n",
       "    <\/tr>\n",
       "    <tr>\n",
       "      <th>continent<\/th>\n",
       "      <th>year<\/th>\n",
       "      <th><\/th>\n",
       "      <th><\/th>\n",
       "      <th><\/th>\n",
       "      <th><\/th>\n",
       "      <th><\/th>\n",
       "    <\/tr>\n",
       "  <\/thead>\n",
       "  <tbody>\n",
       "    <tr>\n",
       "      <th rowspan=\"2\" valign=\"top\">Africa<\/th>\n",
       "      <th>2020<\/th>\n",
       "      <td>179.989695<\/td>\n",
       "      <td>812.148803<\/td>\n",
       "      <td>15332<\/td>\n",
       "      <td>167.133318<\/td>\n",
       "      <td>192.846071<\/td>\n",
       "    <\/tr>\n",
       "    <tr>\n",
       "      <th>2021<\/th>\n",
       "      <td>361.298423<\/td>\n",
       "      <td>1454.828779<\/td>\n",
       "      <td>19345<\/td>\n",
       "      <td>340.796114<\/td>\n",
       "      <td>381.800733<\/td>\n",
       "    <\/tr>\n",
       "    <tr>\n",
       "      <th rowspan=\"2\" valign=\"top\">Asia<\/th>\n",
       "      <th>2020<\/th>\n",
       "      <td>1448.863760<\/td>\n",
       "      <td>9560.899804<\/td>\n",
       "      <td>14313<\/td>\n",
       "      <td>1292.218142<\/td>\n",
       "      <td>1605.509379<\/td>\n",
       "    <\/tr>\n",
       "    <tr>\n",
       "      <th>2021<\/th>\n",
       "      <td>3835.418999<\/td>\n",
       "      <td>18090.729958<\/td>\n",
       "      <td>16790<\/td>\n",
       "      <td>3561.759742<\/td>\n",
       "      <td>4109.078257<\/td>\n",
       "    <\/tr>\n",
       "    <tr>\n",
       "      <th rowspan=\"2\" valign=\"top\">Europe<\/th>\n",
       "      <th>2020<\/th>\n",
       "      <td>1783.304743<\/td>\n",
       "      <td>5020.494465<\/td>\n",
       "      <td>13408<\/td>\n",
       "      <td>1698.317882<\/td>\n",
       "      <td>1868.291605<\/td>\n",
       "    <\/tr>\n",
       "    <tr>\n",
       "      <th>2021<\/th>\n",
       "      <td>4145.443007<\/td>\n",
       "      <td>10270.295699<\/td>\n",
       "      <td>15695<\/td>\n",
       "      <td>3984.754849<\/td>\n",
       "      <td>4306.131166<\/td>\n",
       "    <\/tr>\n",
       "    <tr>\n",
       "      <th rowspan=\"2\" valign=\"top\">North America(continent)<\/th>\n",
       "      <th>2020<\/th>\n",
       "      <td>3390.453029<\/td>\n",
       "      <td>19128.794001<\/td>\n",
       "      <td>6834<\/td>\n",
       "      <td>2936.850853<\/td>\n",
       "      <td>3844.055205<\/td>\n",
       "    <\/tr>\n",
       "    <tr>\n",
       "      <th>2021<\/th>\n",
       "      <td>4976.624658<\/td>\n",
       "      <td>25708.743737<\/td>\n",
       "      <td>8395<\/td>\n",
       "      <td>4426.601186<\/td>\n",
       "      <td>5526.648129<\/td>\n",
       "    <\/tr>\n",
       "    <tr>\n",
       "      <th rowspan=\"2\" valign=\"top\">Oceania<\/th>\n",
       "      <th>2020<\/th>\n",
       "      <td>21.459072<\/td>\n",
       "      <td>73.945973<\/td>\n",
       "      <td>1466<\/td>\n",
       "      <td>17.670683<\/td>\n",
       "      <td>25.247461<\/td>\n",
       "    <\/tr>\n",
       "    <tr>\n",
       "      <th>2021<\/th>\n",
       "      <td>151.743598<\/td>\n",
       "      <td>1082.525697<\/td>\n",
       "      <td>3280<\/td>\n",
       "      <td>114.683230<\/td>\n",
       "      <td>188.803965<\/td>\n",
       "    <\/tr>\n",
       "    <tr>\n",
       "      <th rowspan=\"2\" valign=\"top\">South America(continent)<\/th>\n",
       "      <th>2020<\/th>\n",
       "      <td>3669.935090<\/td>\n",
       "      <td>8827.038998<\/td>\n",
       "      <td>3605<\/td>\n",
       "      <td>3381.693677<\/td>\n",
       "      <td>3958.176504<\/td>\n",
       "    <\/tr>\n",
       "    <tr>\n",
       "      <th>2021<\/th>\n",
       "      <td>6067.011416<\/td>\n",
       "      <td>14054.616405<\/td>\n",
       "      <td>4380<\/td>\n",
       "      <td>5650.669546<\/td>\n",
       "      <td>6483.353286<\/td>\n",
       "    <\/tr>\n",
       "  <\/tbody>\n",
       "<\/table>\n",
       "<\/div>"
      ]
     },
     "metadata":{
      
     },
     "output_type":"display_data"
    }
   ],
   "metadata":{
    "datalore":{
     "type":"CODE",
     "hide_input_from_viewers":false,
     "hide_output_from_viewers":false
    }
   }
  },
  {
   "cell_type":"code",
   "source":[
    "statsCONTdf=statsCONT.reset_index()\n",
    "statsCONTdf"
   ],
   "execution_count":185,
   "outputs":[
    {
     "data":{
      "text\/html":[
       "<div>\n",
       "<style scoped>\n",
       "    .dataframe tbody tr th:only-of-type {\n",
       "        vertical-align: middle;\n",
       "    }\n",
       "\n",
       "    .dataframe tbody tr th {\n",
       "        vertical-align: top;\n",
       "    }\n",
       "\n",
       "    .dataframe thead tr th {\n",
       "        text-align: left;\n",
       "    }\n",
       "<\/style>\n",
       "<table border=\"1\" class=\"dataframe\">\n",
       "  <thead>\n",
       "    <tr>\n",
       "      <th><\/th>\n",
       "      <th>continent<\/th>\n",
       "      <th>year<\/th>\n",
       "      <th colspan=\"5\" halign=\"left\">dcases<\/th>\n",
       "    <\/tr>\n",
       "    <tr>\n",
       "      <th><\/th>\n",
       "      <th><\/th>\n",
       "      <th><\/th>\n",
       "      <th>mean<\/th>\n",
       "      <th>std<\/th>\n",
       "      <th>size<\/th>\n",
       "      <th>get_ci_lb<\/th>\n",
       "      <th>get_ci_ub<\/th>\n",
       "    <\/tr>\n",
       "  <\/thead>\n",
       "  <tbody>\n",
       "    <tr>\n",
       "      <th>0<\/th>\n",
       "      <td>Africa<\/td>\n",
       "      <td>2020<\/td>\n",
       "      <td>179.989695<\/td>\n",
       "      <td>812.148803<\/td>\n",
       "      <td>15332<\/td>\n",
       "      <td>167.133318<\/td>\n",
       "      <td>192.846071<\/td>\n",
       "    <\/tr>\n",
       "    <tr>\n",
       "      <th>1<\/th>\n",
       "      <td>Africa<\/td>\n",
       "      <td>2021<\/td>\n",
       "      <td>361.298423<\/td>\n",
       "      <td>1454.828779<\/td>\n",
       "      <td>19345<\/td>\n",
       "      <td>340.796114<\/td>\n",
       "      <td>381.800733<\/td>\n",
       "    <\/tr>\n",
       "    <tr>\n",
       "      <th>2<\/th>\n",
       "      <td>Asia<\/td>\n",
       "      <td>2020<\/td>\n",
       "      <td>1448.863760<\/td>\n",
       "      <td>9560.899804<\/td>\n",
       "      <td>14313<\/td>\n",
       "      <td>1292.218142<\/td>\n",
       "      <td>1605.509379<\/td>\n",
       "    <\/tr>\n",
       "    <tr>\n",
       "      <th>3<\/th>\n",
       "      <td>Asia<\/td>\n",
       "      <td>2021<\/td>\n",
       "      <td>3835.418999<\/td>\n",
       "      <td>18090.729958<\/td>\n",
       "      <td>16790<\/td>\n",
       "      <td>3561.759742<\/td>\n",
       "      <td>4109.078257<\/td>\n",
       "    <\/tr>\n",
       "    <tr>\n",
       "      <th>4<\/th>\n",
       "      <td>Europe<\/td>\n",
       "      <td>2020<\/td>\n",
       "      <td>1783.304743<\/td>\n",
       "      <td>5020.494465<\/td>\n",
       "      <td>13408<\/td>\n",
       "      <td>1698.317882<\/td>\n",
       "      <td>1868.291605<\/td>\n",
       "    <\/tr>\n",
       "    <tr>\n",
       "      <th>5<\/th>\n",
       "      <td>Europe<\/td>\n",
       "      <td>2021<\/td>\n",
       "      <td>4145.443007<\/td>\n",
       "      <td>10270.295699<\/td>\n",
       "      <td>15695<\/td>\n",
       "      <td>3984.754849<\/td>\n",
       "      <td>4306.131166<\/td>\n",
       "    <\/tr>\n",
       "    <tr>\n",
       "      <th>6<\/th>\n",
       "      <td>North America(continent)<\/td>\n",
       "      <td>2020<\/td>\n",
       "      <td>3390.453029<\/td>\n",
       "      <td>19128.794001<\/td>\n",
       "      <td>6834<\/td>\n",
       "      <td>2936.850853<\/td>\n",
       "      <td>3844.055205<\/td>\n",
       "    <\/tr>\n",
       "    <tr>\n",
       "      <th>7<\/th>\n",
       "      <td>North America(continent)<\/td>\n",
       "      <td>2021<\/td>\n",
       "      <td>4976.624658<\/td>\n",
       "      <td>25708.743737<\/td>\n",
       "      <td>8395<\/td>\n",
       "      <td>4426.601186<\/td>\n",
       "      <td>5526.648129<\/td>\n",
       "    <\/tr>\n",
       "    <tr>\n",
       "      <th>8<\/th>\n",
       "      <td>Oceania<\/td>\n",
       "      <td>2020<\/td>\n",
       "      <td>21.459072<\/td>\n",
       "      <td>73.945973<\/td>\n",
       "      <td>1466<\/td>\n",
       "      <td>17.670683<\/td>\n",
       "      <td>25.247461<\/td>\n",
       "    <\/tr>\n",
       "    <tr>\n",
       "      <th>9<\/th>\n",
       "      <td>Oceania<\/td>\n",
       "      <td>2021<\/td>\n",
       "      <td>151.743598<\/td>\n",
       "      <td>1082.525697<\/td>\n",
       "      <td>3280<\/td>\n",
       "      <td>114.683230<\/td>\n",
       "      <td>188.803965<\/td>\n",
       "    <\/tr>\n",
       "    <tr>\n",
       "      <th>10<\/th>\n",
       "      <td>South America(continent)<\/td>\n",
       "      <td>2020<\/td>\n",
       "      <td>3669.935090<\/td>\n",
       "      <td>8827.038998<\/td>\n",
       "      <td>3605<\/td>\n",
       "      <td>3381.693677<\/td>\n",
       "      <td>3958.176504<\/td>\n",
       "    <\/tr>\n",
       "    <tr>\n",
       "      <th>11<\/th>\n",
       "      <td>South America(continent)<\/td>\n",
       "      <td>2021<\/td>\n",
       "      <td>6067.011416<\/td>\n",
       "      <td>14054.616405<\/td>\n",
       "      <td>4380<\/td>\n",
       "      <td>5650.669546<\/td>\n",
       "      <td>6483.353286<\/td>\n",
       "    <\/tr>\n",
       "  <\/tbody>\n",
       "<\/table>\n",
       "<\/div>"
      ]
     },
     "metadata":{
      
     },
     "output_type":"display_data"
    }
   ],
   "metadata":{
    "datalore":{
     "type":"CODE",
     "hide_input_from_viewers":false,
     "hide_output_from_viewers":false
    }
   }
  },
  {
   "cell_type":"code",
   "source":[
    "# Creating the data for Africa\n",
    "statsAFR20df=statsCONTdf[(statsCONTdf['continent']=='Africa') & (statsCONTdf['year']==2020)]\n",
    "statsAFR21df=statsCONTdf[(statsCONTdf['continent']=='Africa') & (statsCONTdf['year']==2021)]"
   ],
   "execution_count":186,
   "outputs":[
    
   ],
   "metadata":{
    "datalore":{
     "type":"CODE",
     "hide_input_from_viewers":false,
     "hide_output_from_viewers":false
    }
   }
  },
  {
   "cell_type":"code",
   "source":[
    "statsAFR20df"
   ],
   "execution_count":187,
   "outputs":[
    {
     "data":{
      "text\/html":[
       "<div>\n",
       "<style scoped>\n",
       "    .dataframe tbody tr th:only-of-type {\n",
       "        vertical-align: middle;\n",
       "    }\n",
       "\n",
       "    .dataframe tbody tr th {\n",
       "        vertical-align: top;\n",
       "    }\n",
       "\n",
       "    .dataframe thead tr th {\n",
       "        text-align: left;\n",
       "    }\n",
       "<\/style>\n",
       "<table border=\"1\" class=\"dataframe\">\n",
       "  <thead>\n",
       "    <tr>\n",
       "      <th><\/th>\n",
       "      <th>continent<\/th>\n",
       "      <th>year<\/th>\n",
       "      <th colspan=\"5\" halign=\"left\">dcases<\/th>\n",
       "    <\/tr>\n",
       "    <tr>\n",
       "      <th><\/th>\n",
       "      <th><\/th>\n",
       "      <th><\/th>\n",
       "      <th>mean<\/th>\n",
       "      <th>std<\/th>\n",
       "      <th>size<\/th>\n",
       "      <th>get_ci_lb<\/th>\n",
       "      <th>get_ci_ub<\/th>\n",
       "    <\/tr>\n",
       "  <\/thead>\n",
       "  <tbody>\n",
       "    <tr>\n",
       "      <th>0<\/th>\n",
       "      <td>Africa<\/td>\n",
       "      <td>2020<\/td>\n",
       "      <td>179.989695<\/td>\n",
       "      <td>812.148803<\/td>\n",
       "      <td>15332<\/td>\n",
       "      <td>167.133318<\/td>\n",
       "      <td>192.846071<\/td>\n",
       "    <\/tr>\n",
       "  <\/tbody>\n",
       "<\/table>\n",
       "<\/div>"
      ]
     },
     "metadata":{
      
     },
     "output_type":"display_data"
    }
   ],
   "metadata":{
    "datalore":{
     "type":"CODE",
     "hide_input_from_viewers":false,
     "hide_output_from_viewers":false
    }
   }
  },
  {
   "cell_type":"code",
   "source":[
    "# Creating the data for Europe\n",
    "statsEUR20df=statsCONTdf[(statsCONTdf['continent']=='Europe') & (statsCONTdf['year']==2020)]\n",
    "statsEUR21df=statsCONTdf[(statsCONTdf['continent']=='Europe') & (statsCONTdf['year']==2021)]"
   ],
   "execution_count":188,
   "outputs":[
    
   ],
   "metadata":{
    "datalore":{
     "type":"CODE",
     "hide_input_from_viewers":false,
     "hide_output_from_viewers":false
    }
   }
  },
  {
   "cell_type":"code",
   "source":[
    "statsAFR20df.iloc[0,5]"
   ],
   "execution_count":189,
   "outputs":[
    {
     "data":{
      "text\/plain":[
       "167.1333182485662"
      ]
     },
     "metadata":{
      
     },
     "output_type":"display_data"
    }
   ],
   "metadata":{
    "datalore":{
     "type":"CODE",
     "hide_input_from_viewers":false,
     "hide_output_from_viewers":false
    }
   }
  },
  {
   "cell_type":"code",
   "source":[
    "CIcovidAfrEur = {}\n",
    "CIcovidAfrEur['continent'] = ['Africa20','Africa21','Europe21','Europe21']\n",
    "CIcovidAfrEur['lb'] = [statsAFR20df.iloc[0,5],statsAFR21df.iloc[0,5],statsEUR20df.iloc[0,5],statsEUR21df.iloc[0,5]]\n",
    "CIcovidAfrEur['ub'] = [statsAFR20df.iloc[0,6],statsAFR21df.iloc[0,6],statsEUR20df.iloc[0,6],statsEUR21df.iloc[0,6]]\n",
    "df_ci= pd.DataFrame(CIcovidAfrEur)\n",
    "df_ci"
   ],
   "execution_count":190,
   "outputs":[
    {
     "data":{
      "text\/html":[
       "<div>\n",
       "<style scoped>\n",
       "    .dataframe tbody tr th:only-of-type {\n",
       "        vertical-align: middle;\n",
       "    }\n",
       "\n",
       "    .dataframe tbody tr th {\n",
       "        vertical-align: top;\n",
       "    }\n",
       "\n",
       "    .dataframe thead th {\n",
       "        text-align: right;\n",
       "    }\n",
       "<\/style>\n",
       "<table border=\"1\" class=\"dataframe\">\n",
       "  <thead>\n",
       "    <tr style=\"text-align: right;\">\n",
       "      <th><\/th>\n",
       "      <th>continent<\/th>\n",
       "      <th>lb<\/th>\n",
       "      <th>ub<\/th>\n",
       "    <\/tr>\n",
       "  <\/thead>\n",
       "  <tbody>\n",
       "    <tr>\n",
       "      <th>0<\/th>\n",
       "      <td>Africa20<\/td>\n",
       "      <td>167.133318<\/td>\n",
       "      <td>192.846071<\/td>\n",
       "    <\/tr>\n",
       "    <tr>\n",
       "      <th>1<\/th>\n",
       "      <td>Africa21<\/td>\n",
       "      <td>340.796114<\/td>\n",
       "      <td>381.800733<\/td>\n",
       "    <\/tr>\n",
       "    <tr>\n",
       "      <th>2<\/th>\n",
       "      <td>Europe21<\/td>\n",
       "      <td>1698.317882<\/td>\n",
       "      <td>1868.291605<\/td>\n",
       "    <\/tr>\n",
       "    <tr>\n",
       "      <th>3<\/th>\n",
       "      <td>Europe21<\/td>\n",
       "      <td>3984.754849<\/td>\n",
       "      <td>4306.131166<\/td>\n",
       "    <\/tr>\n",
       "  <\/tbody>\n",
       "<\/table>\n",
       "<\/div>"
      ]
     },
     "metadata":{
      
     },
     "output_type":"display_data"
    }
   ],
   "metadata":{
    "datalore":{
     "type":"CODE",
     "hide_input_from_viewers":false,
     "hide_output_from_viewers":false
    }
   }
  },
  {
   "cell_type":"code",
   "source":[
    "#plotting the confidence intervals of average daily covid cases per year and continent\n",
    "import matplotlib.pyplot as plt\n",
    "for lb,ub,y in zip(df_ci['lb'],df_ci['ub'],range(len(df_ci))):\n",
    "    plt.plot((lb,ub),(y,y),'ro-')\n",
    "plt.yticks(range(len(df_ci)),list(df_ci['continent']))"
   ],
   "execution_count":191,
   "outputs":[
    {
     "data":{
      "text\/plain":[
       "([<matplotlib.axis.YTick at 0x7f19115172e0>,\n",
       "  <matplotlib.axis.YTick at 0x7f19115a01c0>,\n",
       "  <matplotlib.axis.YTick at 0x7f190f59b3a0>,\n",
       "  <matplotlib.axis.YTick at 0x7f190f9c3040>],\n",
       " [Text(0, 0, 'Africa20'),\n",
       "  Text(0, 1, 'Africa21'),\n",
       "  Text(0, 2, 'Europe21'),\n",
       "  Text(0, 3, 'Europe21')])"
      ],
      "image\/png":"[encoded data removed]"
     },
     "metadata":{
      "image\/png":{
       
      }
     },
     "output_type":"display_data"
    }
   ],
   "metadata":{
    "datalore":{
     "type":"CODE",
     "hide_input_from_viewers":false,
     "hide_output_from_viewers":false
    }
   }
  },
  {
   "cell_type":"markdown",
   "source":[
    "**The above graph gives a visualization of the 95% confidence intervals of daily confirmed Covid cases in the continents of Africa and Europe in the years 2020 and 2021.** \n",
    "\n",
    "**Firstly, it can be seen that all 4 groups (Africa20, Africa21, Europe20, Europe21) are relatively narrow; which means that there is little variation in the number of daily cases within each group. However, the intervals of Africa (both 2020 and 2021) are slightly narrower than those of Europe. Meaning that there is less variation in the daily Covid cases in Africa.**\n",
    "\n",
    "**It can also be seen that in both continents (Africa & Europe) the confidence interval is higher in 2021 than 2020. This means that the overall worldwide daily cases were much more in 2021 than in 2020. However, the confidence interval of the African countries in 2021 does not exceed 2020 by a very large proportion (unlike the European confidence interval). This is very similar to the low income and high income comparison explained in the previous part**\n",
    "\n",
    "**There are no overlaps between any of the confidence intervals. This simply means that there is a significant statistical difference between the intervals.**\n",
    "\n",
    "**The intervals increase in the following order: Africa 2020, Africa 2021, Europe 2020, Europe 2021. We can infer from the graph and the order of the intervals that the average daily cases in European countries are more than in African countries. This might be caused by the same reason mentioned in the previous part. Africa consists of countries with lower incomes than Europe; which means that Africa could be classified as a low income continent, while Europe is a high income one. Therefore, due to the fact that high income countries are more developed, they have better medical resources and infrastructure in larger quantities than low income countries. This means that higher income countries have access to more Covid-19 tests, which increases the possibility of having positive cases. This explains why Europe has more reported Covid-19 cases.**"
   ],
   "attachments":{
    
   },
   "metadata":{
    "datalore":{
     "type":"MD",
     "hide_input_from_viewers":false,
     "hide_output_from_viewers":false
    }
   }
  },
  {
   "cell_type":"markdown",
   "source":[
    "## 5. Confidence interval of average daily Covid cases comparisons between two different regions (North America and South Asia) by year"
   ],
   "attachments":{
    
   },
   "metadata":{
    "datalore":{
     "type":"MD",
     "hide_input_from_viewers":false,
     "hide_output_from_viewers":false
    }
   }
  },
  {
   "cell_type":"code",
   "source":[
    "df['region'].unique()"
   ],
   "execution_count":192,
   "outputs":[
    {
     "data":{
      "text\/html":[
       
      ]
     },
     "metadata":{
      
     },
     "output_type":"display_data"
    }
   ],
   "metadata":{
    "datalore":{
     "type":"CODE",
     "hide_input_from_viewers":false,
     "hide_output_from_viewers":false
    }
   }
  },
  {
   "cell_type":"code",
   "source":[
    "#creating the data in terms of regions\n",
    "statsREG=df.groupby(['region','year']).agg({\"dcases\": [np.mean, np.std, np.size,get_ci_lb,get_ci_ub]})\n",
    "statsREGdf=statsREG.reset_index()\n",
    "statsREGdf"
   ],
   "execution_count":193,
   "outputs":[
    {
     "data":{
      "text\/html":[
       "<div>\n",
       "<style scoped>\n",
       "    .dataframe tbody tr th:only-of-type {\n",
       "        vertical-align: middle;\n",
       "    }\n",
       "\n",
       "    .dataframe tbody tr th {\n",
       "        vertical-align: top;\n",
       "    }\n",
       "\n",
       "    .dataframe thead tr th {\n",
       "        text-align: left;\n",
       "    }\n",
       "<\/style>\n",
       "<table border=\"1\" class=\"dataframe\">\n",
       "  <thead>\n",
       "    <tr>\n",
       "      <th><\/th>\n",
       "      <th>region<\/th>\n",
       "      <th>year<\/th>\n",
       "      <th colspan=\"5\" halign=\"left\">dcases<\/th>\n",
       "    <\/tr>\n",
       "    <tr>\n",
       "      <th><\/th>\n",
       "      <th><\/th>\n",
       "      <th><\/th>\n",
       "      <th>mean<\/th>\n",
       "      <th>std<\/th>\n",
       "      <th>size<\/th>\n",
       "      <th>get_ci_lb<\/th>\n",
       "      <th>get_ci_ub<\/th>\n",
       "    <\/tr>\n",
       "  <\/thead>\n",
       "  <tbody>\n",
       "    <tr>\n",
       "      <th>0<\/th>\n",
       "      <td>East Asia &amp; Pacific<\/td>\n",
       "      <td>2020<\/td>\n",
       "      <td>309.256309<\/td>\n",
       "      <td>896.313605<\/td>\n",
       "      <td>6301<\/td>\n",
       "      <td>287.120939<\/td>\n",
       "      <td>331.391678<\/td>\n",
       "    <\/tr>\n",
       "    <tr>\n",
       "      <th>1<\/th>\n",
       "      <td>East Asia &amp; Pacific<\/td>\n",
       "      <td>2021<\/td>\n",
       "      <td>1902.043518<\/td>\n",
       "      <td>4625.905443<\/td>\n",
       "      <td>8755<\/td>\n",
       "      <td>1805.131683<\/td>\n",
       "      <td>1998.955353<\/td>\n",
       "    <\/tr>\n",
       "    <tr>\n",
       "      <th>2<\/th>\n",
       "      <td>Europe &amp; Central Asia<\/td>\n",
       "      <td>2020<\/td>\n",
       "      <td>1721.858350<\/td>\n",
       "      <td>8132.391315<\/td>\n",
       "      <td>15743<\/td>\n",
       "      <td>1594.813810<\/td>\n",
       "      <td>1848.902890<\/td>\n",
       "    <\/tr>\n",
       "    <tr>\n",
       "      <th>3<\/th>\n",
       "      <td>Europe &amp; Central Asia<\/td>\n",
       "      <td>2021<\/td>\n",
       "      <td>4023.235026<\/td>\n",
       "      <td>9943.233979<\/td>\n",
       "      <td>18615<\/td>\n",
       "      <td>3880.387583<\/td>\n",
       "      <td>4166.082468<\/td>\n",
       "    <\/tr>\n",
       "    <tr>\n",
       "      <th>4<\/th>\n",
       "      <td>Latin America &amp; Caribbean<\/td>\n",
       "      <td>2020<\/td>\n",
       "      <td>1601.753333<\/td>\n",
       "      <td>5688.858753<\/td>\n",
       "      <td>9750<\/td>\n",
       "      <td>1488.819296<\/td>\n",
       "      <td>1714.687371<\/td>\n",
       "    <\/tr>\n",
       "    <tr>\n",
       "      <th>5<\/th>\n",
       "      <td>Latin America &amp; Caribbean<\/td>\n",
       "      <td>2021<\/td>\n",
       "      <td>2665.195766<\/td>\n",
       "      <td>9032.505081<\/td>\n",
       "      <td>12045<\/td>\n",
       "      <td>2503.872669<\/td>\n",
       "      <td>2826.518863<\/td>\n",
       "    <\/tr>\n",
       "    <tr>\n",
       "      <th>6<\/th>\n",
       "      <td>Middle East &amp; North Africa<\/td>\n",
       "      <td>2020<\/td>\n",
       "      <td>762.715511<\/td>\n",
       "      <td>1430.243017<\/td>\n",
       "      <td>6415<\/td>\n",
       "      <td>727.709585<\/td>\n",
       "      <td>797.721436<\/td>\n",
       "    <\/tr>\n",
       "    <tr>\n",
       "      <th>7<\/th>\n",
       "      <td>Middle East &amp; North Africa<\/td>\n",
       "      <td>2021<\/td>\n",
       "      <td>1620.897326<\/td>\n",
       "      <td>3832.749549<\/td>\n",
       "      <td>7665<\/td>\n",
       "      <td>1535.080777<\/td>\n",
       "      <td>1706.713874<\/td>\n",
       "    <\/tr>\n",
       "    <tr>\n",
       "      <th>8<\/th>\n",
       "      <td>North America(region)<\/td>\n",
       "      <td>2020<\/td>\n",
       "      <td>30164.552975<\/td>\n",
       "      <td>53111.710028<\/td>\n",
       "      <td>689<\/td>\n",
       "      <td>26191.782753<\/td>\n",
       "      <td>34137.323198<\/td>\n",
       "    <\/tr>\n",
       "    <tr>\n",
       "      <th>9<\/th>\n",
       "      <td>North America(region)<\/td>\n",
       "      <td>2021<\/td>\n",
       "      <td>49657.521918<\/td>\n",
       "      <td>73271.501688<\/td>\n",
       "      <td>730<\/td>\n",
       "      <td>44333.456360<\/td>\n",
       "      <td>54981.587475<\/td>\n",
       "    <\/tr>\n",
       "    <tr>\n",
       "      <th>10<\/th>\n",
       "      <td>South Asia<\/td>\n",
       "      <td>2020<\/td>\n",
       "      <td>4586.009052<\/td>\n",
       "      <td>14809.626669<\/td>\n",
       "      <td>2541<\/td>\n",
       "      <td>4009.910388<\/td>\n",
       "      <td>5162.107715<\/td>\n",
       "    <\/tr>\n",
       "    <tr>\n",
       "      <th>11<\/th>\n",
       "      <td>South Asia<\/td>\n",
       "      <td>2021<\/td>\n",
       "      <td>9507.577055<\/td>\n",
       "      <td>41050.751055<\/td>\n",
       "      <td>2920<\/td>\n",
       "      <td>8018.017440<\/td>\n",
       "      <td>10997.136669<\/td>\n",
       "    <\/tr>\n",
       "    <tr>\n",
       "      <th>12<\/th>\n",
       "      <td>Sub-Saharan Africa<\/td>\n",
       "      <td>2020<\/td>\n",
       "      <td>135.919003<\/td>\n",
       "      <td>789.508946<\/td>\n",
       "      <td>13519<\/td>\n",
       "      <td>122.609196<\/td>\n",
       "      <td>149.228810<\/td>\n",
       "    <\/tr>\n",
       "    <tr>\n",
       "      <th>13<\/th>\n",
       "      <td>Sub-Saharan Africa<\/td>\n",
       "      <td>2021<\/td>\n",
       "      <td>304.006762<\/td>\n",
       "      <td>1452.606156<\/td>\n",
       "      <td>17155<\/td>\n",
       "      <td>282.268178<\/td>\n",
       "      <td>325.745346<\/td>\n",
       "    <\/tr>\n",
       "  <\/tbody>\n",
       "<\/table>\n",
       "<\/div>"
      ]
     },
     "metadata":{
      
     },
     "output_type":"display_data"
    }
   ],
   "metadata":{
    "datalore":{
     "type":"CODE",
     "hide_input_from_viewers":false,
     "hide_output_from_viewers":false
    }
   }
  },
  {
   "cell_type":"code",
   "source":[
    "# Creating the data for North America\n",
    "statsNAr20df=statsREGdf[(statsREGdf['region']=='North America(region)') & (statsREGdf['year']==2020)]\n",
    "statsNAr21df=statsREGdf[(statsREGdf['region']=='North America(region)') & (statsREGdf['year']==2021)]"
   ],
   "execution_count":194,
   "outputs":[
    
   ],
   "metadata":{
    "datalore":{
     "type":"CODE",
     "hide_input_from_viewers":false,
     "hide_output_from_viewers":false
    }
   }
  },
  {
   "cell_type":"code",
   "source":[
    "# Creating the data for South Asia\n",
    "statsSAr20df=statsREGdf[(statsREGdf['region']=='South Asia') & (statsREGdf['year']==2020)]\n",
    "statsSAr21df=statsREGdf[(statsREGdf['region']=='South Asia') & (statsREGdf['year']==2021)]"
   ],
   "execution_count":195,
   "outputs":[
    
   ],
   "metadata":{
    "datalore":{
     "type":"CODE",
     "hide_input_from_viewers":false,
     "hide_output_from_viewers":false
    }
   }
  },
  {
   "cell_type":"code",
   "source":[
    "CIcovidNaSa = {}\n",
    "CIcovidNaSa['region'] = ['North America20','North America21','South Asia20','South Asia21']\n",
    "CIcovidNaSa['lb'] = [statsNAr20df.iloc[0,5],statsNAr21df.iloc[0,5],statsSAr20df.iloc[0,5],statsSAr21df.iloc[0,5]]\n",
    "CIcovidNaSa['ub'] = [statsNAr20df.iloc[0,6],statsNAr21df.iloc[0,6],statsSAr20df.iloc[0,6],statsSAr21df.iloc[0,6]]\n",
    "df_ci= pd.DataFrame(CIcovidNaSa)\n",
    "df_ci"
   ],
   "execution_count":196,
   "outputs":[
    {
     "data":{
      "text\/html":[
       "<div>\n",
       "<style scoped>\n",
       "    .dataframe tbody tr th:only-of-type {\n",
       "        vertical-align: middle;\n",
       "    }\n",
       "\n",
       "    .dataframe tbody tr th {\n",
       "        vertical-align: top;\n",
       "    }\n",
       "\n",
       "    .dataframe thead th {\n",
       "        text-align: right;\n",
       "    }\n",
       "<\/style>\n",
       "<table border=\"1\" class=\"dataframe\">\n",
       "  <thead>\n",
       "    <tr style=\"text-align: right;\">\n",
       "      <th><\/th>\n",
       "      <th>region<\/th>\n",
       "      <th>lb<\/th>\n",
       "      <th>ub<\/th>\n",
       "    <\/tr>\n",
       "  <\/thead>\n",
       "  <tbody>\n",
       "    <tr>\n",
       "      <th>0<\/th>\n",
       "      <td>North America20<\/td>\n",
       "      <td>26191.782753<\/td>\n",
       "      <td>34137.323198<\/td>\n",
       "    <\/tr>\n",
       "    <tr>\n",
       "      <th>1<\/th>\n",
       "      <td>North America21<\/td>\n",
       "      <td>44333.456360<\/td>\n",
       "      <td>54981.587475<\/td>\n",
       "    <\/tr>\n",
       "    <tr>\n",
       "      <th>2<\/th>\n",
       "      <td>South Asia20<\/td>\n",
       "      <td>4009.910388<\/td>\n",
       "      <td>5162.107715<\/td>\n",
       "    <\/tr>\n",
       "    <tr>\n",
       "      <th>3<\/th>\n",
       "      <td>South Asia21<\/td>\n",
       "      <td>8018.017440<\/td>\n",
       "      <td>10997.136669<\/td>\n",
       "    <\/tr>\n",
       "  <\/tbody>\n",
       "<\/table>\n",
       "<\/div>"
      ]
     },
     "metadata":{
      
     },
     "output_type":"display_data"
    }
   ],
   "metadata":{
    "datalore":{
     "type":"CODE",
     "hide_input_from_viewers":false,
     "hide_output_from_viewers":false
    }
   }
  },
  {
   "cell_type":"code",
   "source":[
    "#plotting the confidence intervals of average daily covid cases per year and region\n",
    "import matplotlib.pyplot as plt\n",
    "for lb,ub,y in zip(df_ci['lb'],df_ci['ub'],range(len(df_ci))):\n",
    "    plt.plot((lb,ub),(y,y),'ro-')\n",
    "plt.yticks(range(len(df_ci)),list(df_ci['region']))"
   ],
   "execution_count":197,
   "outputs":[
    {
     "data":{
      "text\/plain":[
       "([<matplotlib.axis.YTick at 0x7f190f5a2040>,\n",
       "  <matplotlib.axis.YTick at 0x7f190f3c0f40>,\n",
       "  <matplotlib.axis.YTick at 0x7f190f3c0100>,\n",
       "  <matplotlib.axis.YTick at 0x7f190facda00>],\n",
       " [Text(0, 0, 'North America20'),\n",
       "  Text(0, 1, 'North America21'),\n",
       "  Text(0, 2, 'South Asia20'),\n",
       "  Text(0, 3, 'South Asia21')])"
      ],
      "image\/png":"[encoded data removed]"
     },
     "metadata":{
      "image\/png":{
       
      }
     },
     "output_type":"display_data"
    }
   ],
   "metadata":{
    "datalore":{
     "type":"CODE",
     "hide_input_from_viewers":false,
     "hide_output_from_viewers":false
    }
   }
  },
  {
   "cell_type":"markdown",
   "source":[
    "**The above graph gives a visualization of the 95% confidence intervals of daily confirmed Covid cases in the regions of North America and South Asia in the years 2020 and 2021.** \n",
    "\n",
    "**Firstly, it can be seen that the interval od the region of South Asia is narrow, which means that there is little variation in the number of daily cases within the countries of this region. On the other hand, the intervals of North America are not relatively wide, meaning that there are many variations in the average daily cases within this region's countries and that the data is less precise. However, the interval of North America in 2020 is slightly narrower than 2021; this suggests that there were more variations in 2021 than in 2020 (The same also applies to South Asia)**\n",
    "\n",
    "**It can also be seen that in both regions, the confidence interval is higher in 2021 than 2020 (similarly as the 2 previous parts). This means that the overall worldwide daily cases were much more in 2021 than in 2020. However, the confidence interval of North America in 2021 exceeds 2020 by a much larger proportion than the proportion between South Asia in 2021 and 2020.**\n",
    "\n",
    "**There are no overlaps between any of the confidence intervals. This means that there is a significant statistical difference between the intervals.**\n",
    "\n",
    "**The intervals increase in the following order: South Asia 2020, South Asia 2021, North America 2020, North America 2021. We can infer from the graph and the order of the intervals that the average daily cases in the countries of North America are more than in European countries. This might be because North America has countries with higher average daily cases. For instance, North America has the country of the US, which is the country with the most Covid-19 cases in the world and is a country with a very large population. This means that the number of daily cases in the US must have affected the average number of daily cases in North America (causing it to increase). This might also explain why the intervals of North America are wide; because it has one of the countries with the most Covid cases (causing a lot of variations within this region)**"
   ],
   "attachments":{
    
   },
   "metadata":{
    "datalore":{
     "type":"MD",
     "hide_input_from_viewers":false,
     "hide_output_from_viewers":false
    }
   }
  },
  {
   "cell_type":"markdown",
   "source":[
    "### Conclusion:\n",
    "\n",
    "There were 4 waves (increases) of Covid-19 cases followed by 3 waves of increases in the number of deaths, and the number of cases was almost always more than the number of deaths. The fatality rate was around 2.5 to 3 percent worldwide. The average daily cases are higher in high income countries, Europe, and North America. There are more Covid-19 cases in 2021 than in 2020."
   ],
   "attachments":{
    
   },
   "metadata":{
    "datalore":{
     "type":"MD",
     "hide_input_from_viewers":false,
     "hide_output_from_viewers":false
    }
   }
  }
 ],
 "metadata":{
  "datalore":{
   "version":1,
   "computation_mode":"JUPYTER",
   "package_manager":"pip",
   "base_environment":"default",
   "packages":[
    
   ]
  }
 },
 "nbformat":4,
 "nbformat_minor":4
}